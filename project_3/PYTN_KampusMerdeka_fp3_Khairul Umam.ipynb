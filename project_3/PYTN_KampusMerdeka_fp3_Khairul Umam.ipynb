{
 "cells": [
  {
   "cell_type": "markdown",
   "metadata": {},
   "source": [
    "## Import Pustaka"
   ]
  },
  {
   "cell_type": "code",
   "execution_count": 3,
   "metadata": {},
   "outputs": [],
   "source": [
    "import pandas as pd\n",
    "import numpy as np\n",
    "import seaborn as sns\n",
    "from sklearn.preprocessing import StandardScaler\n",
    "from sklearn.model_selection import train_test_split\n",
    "from sklearn.ensemble import RandomForestClassifier,AdaBoostClassifier,GradientBoostingClassifier\n",
    "from sklearn.metrics import classification_report\n",
    "from sklearn.metrics import accuracy_score, classification_report\n",
    "from sklearn.metrics import confusion_matrix\n",
    "from imblearn.over_sampling import SMOTE\n",
    "\n",
    "%matplotlib inline\n",
    "import matplotlib.pyplot as plt\n",
    "import pickle\n"
   ]
  },
  {
   "cell_type": "markdown",
   "metadata": {},
   "source": [
    "## Data Loading"
   ]
  },
  {
   "cell_type": "code",
   "execution_count": 4,
   "metadata": {},
   "outputs": [],
   "source": [
    "df = pd.read_csv(\"dataset/heart_failure_clinical_records_dataset.csv\")"
   ]
  },
  {
   "cell_type": "code",
   "execution_count": 5,
   "metadata": {},
   "outputs": [
    {
     "data": {
      "text/html": [
       "<div>\n",
       "<style scoped>\n",
       "    .dataframe tbody tr th:only-of-type {\n",
       "        vertical-align: middle;\n",
       "    }\n",
       "\n",
       "    .dataframe tbody tr th {\n",
       "        vertical-align: top;\n",
       "    }\n",
       "\n",
       "    .dataframe thead th {\n",
       "        text-align: right;\n",
       "    }\n",
       "</style>\n",
       "<table border=\"1\" class=\"dataframe\">\n",
       "  <thead>\n",
       "    <tr style=\"text-align: right;\">\n",
       "      <th></th>\n",
       "      <th>age</th>\n",
       "      <th>anaemia</th>\n",
       "      <th>creatinine_phosphokinase</th>\n",
       "      <th>diabetes</th>\n",
       "      <th>ejection_fraction</th>\n",
       "      <th>high_blood_pressure</th>\n",
       "      <th>platelets</th>\n",
       "      <th>serum_creatinine</th>\n",
       "      <th>serum_sodium</th>\n",
       "      <th>sex</th>\n",
       "      <th>smoking</th>\n",
       "      <th>time</th>\n",
       "      <th>DEATH_EVENT</th>\n",
       "    </tr>\n",
       "  </thead>\n",
       "  <tbody>\n",
       "    <tr>\n",
       "      <th>0</th>\n",
       "      <td>75.0</td>\n",
       "      <td>0</td>\n",
       "      <td>582</td>\n",
       "      <td>0</td>\n",
       "      <td>20</td>\n",
       "      <td>1</td>\n",
       "      <td>265000.00</td>\n",
       "      <td>1.9</td>\n",
       "      <td>130</td>\n",
       "      <td>1</td>\n",
       "      <td>0</td>\n",
       "      <td>4</td>\n",
       "      <td>1</td>\n",
       "    </tr>\n",
       "    <tr>\n",
       "      <th>1</th>\n",
       "      <td>55.0</td>\n",
       "      <td>0</td>\n",
       "      <td>7861</td>\n",
       "      <td>0</td>\n",
       "      <td>38</td>\n",
       "      <td>0</td>\n",
       "      <td>263358.03</td>\n",
       "      <td>1.1</td>\n",
       "      <td>136</td>\n",
       "      <td>1</td>\n",
       "      <td>0</td>\n",
       "      <td>6</td>\n",
       "      <td>1</td>\n",
       "    </tr>\n",
       "    <tr>\n",
       "      <th>2</th>\n",
       "      <td>65.0</td>\n",
       "      <td>0</td>\n",
       "      <td>146</td>\n",
       "      <td>0</td>\n",
       "      <td>20</td>\n",
       "      <td>0</td>\n",
       "      <td>162000.00</td>\n",
       "      <td>1.3</td>\n",
       "      <td>129</td>\n",
       "      <td>1</td>\n",
       "      <td>1</td>\n",
       "      <td>7</td>\n",
       "      <td>1</td>\n",
       "    </tr>\n",
       "    <tr>\n",
       "      <th>3</th>\n",
       "      <td>50.0</td>\n",
       "      <td>1</td>\n",
       "      <td>111</td>\n",
       "      <td>0</td>\n",
       "      <td>20</td>\n",
       "      <td>0</td>\n",
       "      <td>210000.00</td>\n",
       "      <td>1.9</td>\n",
       "      <td>137</td>\n",
       "      <td>1</td>\n",
       "      <td>0</td>\n",
       "      <td>7</td>\n",
       "      <td>1</td>\n",
       "    </tr>\n",
       "    <tr>\n",
       "      <th>4</th>\n",
       "      <td>65.0</td>\n",
       "      <td>1</td>\n",
       "      <td>160</td>\n",
       "      <td>1</td>\n",
       "      <td>20</td>\n",
       "      <td>0</td>\n",
       "      <td>327000.00</td>\n",
       "      <td>2.7</td>\n",
       "      <td>116</td>\n",
       "      <td>0</td>\n",
       "      <td>0</td>\n",
       "      <td>8</td>\n",
       "      <td>1</td>\n",
       "    </tr>\n",
       "    <tr>\n",
       "      <th>...</th>\n",
       "      <td>...</td>\n",
       "      <td>...</td>\n",
       "      <td>...</td>\n",
       "      <td>...</td>\n",
       "      <td>...</td>\n",
       "      <td>...</td>\n",
       "      <td>...</td>\n",
       "      <td>...</td>\n",
       "      <td>...</td>\n",
       "      <td>...</td>\n",
       "      <td>...</td>\n",
       "      <td>...</td>\n",
       "      <td>...</td>\n",
       "    </tr>\n",
       "    <tr>\n",
       "      <th>294</th>\n",
       "      <td>62.0</td>\n",
       "      <td>0</td>\n",
       "      <td>61</td>\n",
       "      <td>1</td>\n",
       "      <td>38</td>\n",
       "      <td>1</td>\n",
       "      <td>155000.00</td>\n",
       "      <td>1.1</td>\n",
       "      <td>143</td>\n",
       "      <td>1</td>\n",
       "      <td>1</td>\n",
       "      <td>270</td>\n",
       "      <td>0</td>\n",
       "    </tr>\n",
       "    <tr>\n",
       "      <th>295</th>\n",
       "      <td>55.0</td>\n",
       "      <td>0</td>\n",
       "      <td>1820</td>\n",
       "      <td>0</td>\n",
       "      <td>38</td>\n",
       "      <td>0</td>\n",
       "      <td>270000.00</td>\n",
       "      <td>1.2</td>\n",
       "      <td>139</td>\n",
       "      <td>0</td>\n",
       "      <td>0</td>\n",
       "      <td>271</td>\n",
       "      <td>0</td>\n",
       "    </tr>\n",
       "    <tr>\n",
       "      <th>296</th>\n",
       "      <td>45.0</td>\n",
       "      <td>0</td>\n",
       "      <td>2060</td>\n",
       "      <td>1</td>\n",
       "      <td>60</td>\n",
       "      <td>0</td>\n",
       "      <td>742000.00</td>\n",
       "      <td>0.8</td>\n",
       "      <td>138</td>\n",
       "      <td>0</td>\n",
       "      <td>0</td>\n",
       "      <td>278</td>\n",
       "      <td>0</td>\n",
       "    </tr>\n",
       "    <tr>\n",
       "      <th>297</th>\n",
       "      <td>45.0</td>\n",
       "      <td>0</td>\n",
       "      <td>2413</td>\n",
       "      <td>0</td>\n",
       "      <td>38</td>\n",
       "      <td>0</td>\n",
       "      <td>140000.00</td>\n",
       "      <td>1.4</td>\n",
       "      <td>140</td>\n",
       "      <td>1</td>\n",
       "      <td>1</td>\n",
       "      <td>280</td>\n",
       "      <td>0</td>\n",
       "    </tr>\n",
       "    <tr>\n",
       "      <th>298</th>\n",
       "      <td>50.0</td>\n",
       "      <td>0</td>\n",
       "      <td>196</td>\n",
       "      <td>0</td>\n",
       "      <td>45</td>\n",
       "      <td>0</td>\n",
       "      <td>395000.00</td>\n",
       "      <td>1.6</td>\n",
       "      <td>136</td>\n",
       "      <td>1</td>\n",
       "      <td>1</td>\n",
       "      <td>285</td>\n",
       "      <td>0</td>\n",
       "    </tr>\n",
       "  </tbody>\n",
       "</table>\n",
       "<p>299 rows × 13 columns</p>\n",
       "</div>"
      ],
      "text/plain": [
       "      age  anaemia  creatinine_phosphokinase  diabetes  ejection_fraction  \\\n",
       "0    75.0        0                       582         0                 20   \n",
       "1    55.0        0                      7861         0                 38   \n",
       "2    65.0        0                       146         0                 20   \n",
       "3    50.0        1                       111         0                 20   \n",
       "4    65.0        1                       160         1                 20   \n",
       "..    ...      ...                       ...       ...                ...   \n",
       "294  62.0        0                        61         1                 38   \n",
       "295  55.0        0                      1820         0                 38   \n",
       "296  45.0        0                      2060         1                 60   \n",
       "297  45.0        0                      2413         0                 38   \n",
       "298  50.0        0                       196         0                 45   \n",
       "\n",
       "     high_blood_pressure  platelets  serum_creatinine  serum_sodium  sex  \\\n",
       "0                      1  265000.00               1.9           130    1   \n",
       "1                      0  263358.03               1.1           136    1   \n",
       "2                      0  162000.00               1.3           129    1   \n",
       "3                      0  210000.00               1.9           137    1   \n",
       "4                      0  327000.00               2.7           116    0   \n",
       "..                   ...        ...               ...           ...  ...   \n",
       "294                    1  155000.00               1.1           143    1   \n",
       "295                    0  270000.00               1.2           139    0   \n",
       "296                    0  742000.00               0.8           138    0   \n",
       "297                    0  140000.00               1.4           140    1   \n",
       "298                    0  395000.00               1.6           136    1   \n",
       "\n",
       "     smoking  time  DEATH_EVENT  \n",
       "0          0     4            1  \n",
       "1          0     6            1  \n",
       "2          1     7            1  \n",
       "3          0     7            1  \n",
       "4          0     8            1  \n",
       "..       ...   ...          ...  \n",
       "294        1   270            0  \n",
       "295        0   271            0  \n",
       "296        0   278            0  \n",
       "297        1   280            0  \n",
       "298        1   285            0  \n",
       "\n",
       "[299 rows x 13 columns]"
      ]
     },
     "execution_count": 5,
     "metadata": {},
     "output_type": "execute_result"
    }
   ],
   "source": [
    "df"
   ]
  },
  {
   "cell_type": "code",
   "execution_count": 6,
   "metadata": {},
   "outputs": [
    {
     "name": "stdout",
     "output_type": "stream",
     "text": [
      "<class 'pandas.core.frame.DataFrame'>\n",
      "RangeIndex: 299 entries, 0 to 298\n",
      "Data columns (total 13 columns):\n",
      " #   Column                    Non-Null Count  Dtype  \n",
      "---  ------                    --------------  -----  \n",
      " 0   age                       299 non-null    float64\n",
      " 1   anaemia                   299 non-null    int64  \n",
      " 2   creatinine_phosphokinase  299 non-null    int64  \n",
      " 3   diabetes                  299 non-null    int64  \n",
      " 4   ejection_fraction         299 non-null    int64  \n",
      " 5   high_blood_pressure       299 non-null    int64  \n",
      " 6   platelets                 299 non-null    float64\n",
      " 7   serum_creatinine          299 non-null    float64\n",
      " 8   serum_sodium              299 non-null    int64  \n",
      " 9   sex                       299 non-null    int64  \n",
      " 10  smoking                   299 non-null    int64  \n",
      " 11  time                      299 non-null    int64  \n",
      " 12  DEATH_EVENT               299 non-null    int64  \n",
      "dtypes: float64(3), int64(10)\n",
      "memory usage: 30.5 KB\n"
     ]
    }
   ],
   "source": [
    "df.info()"
   ]
  },
  {
   "cell_type": "markdown",
   "metadata": {},
   "source": [
    "Dataset yang digunakan yaitu Heart Failure Prediction yang berisi record data pasien yang mengalami gagal jantung. Dataset ini terdiri dari 13 colomns dan 299 data.\n",
    "\n",
    "Atribut dalam dataset ini antara lain :\n",
    "\n",
    "1. age - umur pasien\n",
    "2. anaemia - apakah ada pengurangan haemoglobin\n",
    "3. creatinine_phosphokinase - level enzim CPK dalam mcg/L\n",
    "4. diabetes - apakah pasien punya riwayat diabetes (0 = non-diabetes, 1 = diabetes)\n",
    "5. ejection_fraction - persentase darah yang meninggalkan jantung dalam persentasi di setiap kontraksi jantung\n",
    "6. high_blood_pressure - apakah pasien punya darah tinggi\n",
    "7. platelets - jumlah platelet di darah dalam kiloplatelets/mL\n",
    "8. serum_creatinine - level serum creatinine di darah dalam mg/dL\n",
    "9. serum_sodium - level serum sodium di darah dalam mEq/L\n",
    "10. sex - apakah pasien pria atau wanita\n",
    "11. smoking - apakah pasien merokok\n",
    "12. time - waktu dalam hari untuk follow-up\n",
    "13. DEATH_EVENT - apakah pasien sudah meninggal saat waktu follow-up (0 = live, 1 = dead)"
   ]
  },
  {
   "cell_type": "code",
   "execution_count": 7,
   "metadata": {},
   "outputs": [
    {
     "data": {
      "text/html": [
       "<div>\n",
       "<style scoped>\n",
       "    .dataframe tbody tr th:only-of-type {\n",
       "        vertical-align: middle;\n",
       "    }\n",
       "\n",
       "    .dataframe tbody tr th {\n",
       "        vertical-align: top;\n",
       "    }\n",
       "\n",
       "    .dataframe thead th {\n",
       "        text-align: right;\n",
       "    }\n",
       "</style>\n",
       "<table border=\"1\" class=\"dataframe\">\n",
       "  <thead>\n",
       "    <tr style=\"text-align: right;\">\n",
       "      <th></th>\n",
       "      <th>age</th>\n",
       "      <th>anaemia</th>\n",
       "      <th>creatinine_phosphokinase</th>\n",
       "      <th>diabetes</th>\n",
       "      <th>ejection_fraction</th>\n",
       "      <th>high_blood_pressure</th>\n",
       "      <th>platelets</th>\n",
       "      <th>serum_creatinine</th>\n",
       "      <th>serum_sodium</th>\n",
       "      <th>sex</th>\n",
       "      <th>smoking</th>\n",
       "      <th>time</th>\n",
       "      <th>DEATH_EVENT</th>\n",
       "    </tr>\n",
       "  </thead>\n",
       "  <tbody>\n",
       "    <tr>\n",
       "      <th>count</th>\n",
       "      <td>299.000000</td>\n",
       "      <td>299.000000</td>\n",
       "      <td>299.000000</td>\n",
       "      <td>299.000000</td>\n",
       "      <td>299.000000</td>\n",
       "      <td>299.000000</td>\n",
       "      <td>299.000000</td>\n",
       "      <td>299.00000</td>\n",
       "      <td>299.000000</td>\n",
       "      <td>299.000000</td>\n",
       "      <td>299.00000</td>\n",
       "      <td>299.000000</td>\n",
       "      <td>299.00000</td>\n",
       "    </tr>\n",
       "    <tr>\n",
       "      <th>mean</th>\n",
       "      <td>60.833893</td>\n",
       "      <td>0.431438</td>\n",
       "      <td>581.839465</td>\n",
       "      <td>0.418060</td>\n",
       "      <td>38.083612</td>\n",
       "      <td>0.351171</td>\n",
       "      <td>263358.029264</td>\n",
       "      <td>1.39388</td>\n",
       "      <td>136.625418</td>\n",
       "      <td>0.648829</td>\n",
       "      <td>0.32107</td>\n",
       "      <td>130.260870</td>\n",
       "      <td>0.32107</td>\n",
       "    </tr>\n",
       "    <tr>\n",
       "      <th>std</th>\n",
       "      <td>11.894809</td>\n",
       "      <td>0.496107</td>\n",
       "      <td>970.287881</td>\n",
       "      <td>0.494067</td>\n",
       "      <td>11.834841</td>\n",
       "      <td>0.478136</td>\n",
       "      <td>97804.236869</td>\n",
       "      <td>1.03451</td>\n",
       "      <td>4.412477</td>\n",
       "      <td>0.478136</td>\n",
       "      <td>0.46767</td>\n",
       "      <td>77.614208</td>\n",
       "      <td>0.46767</td>\n",
       "    </tr>\n",
       "    <tr>\n",
       "      <th>min</th>\n",
       "      <td>40.000000</td>\n",
       "      <td>0.000000</td>\n",
       "      <td>23.000000</td>\n",
       "      <td>0.000000</td>\n",
       "      <td>14.000000</td>\n",
       "      <td>0.000000</td>\n",
       "      <td>25100.000000</td>\n",
       "      <td>0.50000</td>\n",
       "      <td>113.000000</td>\n",
       "      <td>0.000000</td>\n",
       "      <td>0.00000</td>\n",
       "      <td>4.000000</td>\n",
       "      <td>0.00000</td>\n",
       "    </tr>\n",
       "    <tr>\n",
       "      <th>25%</th>\n",
       "      <td>51.000000</td>\n",
       "      <td>0.000000</td>\n",
       "      <td>116.500000</td>\n",
       "      <td>0.000000</td>\n",
       "      <td>30.000000</td>\n",
       "      <td>0.000000</td>\n",
       "      <td>212500.000000</td>\n",
       "      <td>0.90000</td>\n",
       "      <td>134.000000</td>\n",
       "      <td>0.000000</td>\n",
       "      <td>0.00000</td>\n",
       "      <td>73.000000</td>\n",
       "      <td>0.00000</td>\n",
       "    </tr>\n",
       "    <tr>\n",
       "      <th>50%</th>\n",
       "      <td>60.000000</td>\n",
       "      <td>0.000000</td>\n",
       "      <td>250.000000</td>\n",
       "      <td>0.000000</td>\n",
       "      <td>38.000000</td>\n",
       "      <td>0.000000</td>\n",
       "      <td>262000.000000</td>\n",
       "      <td>1.10000</td>\n",
       "      <td>137.000000</td>\n",
       "      <td>1.000000</td>\n",
       "      <td>0.00000</td>\n",
       "      <td>115.000000</td>\n",
       "      <td>0.00000</td>\n",
       "    </tr>\n",
       "    <tr>\n",
       "      <th>75%</th>\n",
       "      <td>70.000000</td>\n",
       "      <td>1.000000</td>\n",
       "      <td>582.000000</td>\n",
       "      <td>1.000000</td>\n",
       "      <td>45.000000</td>\n",
       "      <td>1.000000</td>\n",
       "      <td>303500.000000</td>\n",
       "      <td>1.40000</td>\n",
       "      <td>140.000000</td>\n",
       "      <td>1.000000</td>\n",
       "      <td>1.00000</td>\n",
       "      <td>203.000000</td>\n",
       "      <td>1.00000</td>\n",
       "    </tr>\n",
       "    <tr>\n",
       "      <th>max</th>\n",
       "      <td>95.000000</td>\n",
       "      <td>1.000000</td>\n",
       "      <td>7861.000000</td>\n",
       "      <td>1.000000</td>\n",
       "      <td>80.000000</td>\n",
       "      <td>1.000000</td>\n",
       "      <td>850000.000000</td>\n",
       "      <td>9.40000</td>\n",
       "      <td>148.000000</td>\n",
       "      <td>1.000000</td>\n",
       "      <td>1.00000</td>\n",
       "      <td>285.000000</td>\n",
       "      <td>1.00000</td>\n",
       "    </tr>\n",
       "  </tbody>\n",
       "</table>\n",
       "</div>"
      ],
      "text/plain": [
       "              age     anaemia  creatinine_phosphokinase    diabetes  \\\n",
       "count  299.000000  299.000000                299.000000  299.000000   \n",
       "mean    60.833893    0.431438                581.839465    0.418060   \n",
       "std     11.894809    0.496107                970.287881    0.494067   \n",
       "min     40.000000    0.000000                 23.000000    0.000000   \n",
       "25%     51.000000    0.000000                116.500000    0.000000   \n",
       "50%     60.000000    0.000000                250.000000    0.000000   \n",
       "75%     70.000000    1.000000                582.000000    1.000000   \n",
       "max     95.000000    1.000000               7861.000000    1.000000   \n",
       "\n",
       "       ejection_fraction  high_blood_pressure      platelets  \\\n",
       "count         299.000000           299.000000     299.000000   \n",
       "mean           38.083612             0.351171  263358.029264   \n",
       "std            11.834841             0.478136   97804.236869   \n",
       "min            14.000000             0.000000   25100.000000   \n",
       "25%            30.000000             0.000000  212500.000000   \n",
       "50%            38.000000             0.000000  262000.000000   \n",
       "75%            45.000000             1.000000  303500.000000   \n",
       "max            80.000000             1.000000  850000.000000   \n",
       "\n",
       "       serum_creatinine  serum_sodium         sex    smoking        time  \\\n",
       "count         299.00000    299.000000  299.000000  299.00000  299.000000   \n",
       "mean            1.39388    136.625418    0.648829    0.32107  130.260870   \n",
       "std             1.03451      4.412477    0.478136    0.46767   77.614208   \n",
       "min             0.50000    113.000000    0.000000    0.00000    4.000000   \n",
       "25%             0.90000    134.000000    0.000000    0.00000   73.000000   \n",
       "50%             1.10000    137.000000    1.000000    0.00000  115.000000   \n",
       "75%             1.40000    140.000000    1.000000    1.00000  203.000000   \n",
       "max             9.40000    148.000000    1.000000    1.00000  285.000000   \n",
       "\n",
       "       DEATH_EVENT  \n",
       "count    299.00000  \n",
       "mean       0.32107  \n",
       "std        0.46767  \n",
       "min        0.00000  \n",
       "25%        0.00000  \n",
       "50%        0.00000  \n",
       "75%        1.00000  \n",
       "max        1.00000  "
      ]
     },
     "execution_count": 7,
     "metadata": {},
     "output_type": "execute_result"
    }
   ],
   "source": [
    "df.describe()"
   ]
  },
  {
   "cell_type": "code",
   "execution_count": 8,
   "metadata": {},
   "outputs": [
    {
     "data": {
      "text/plain": [
       "age                         0\n",
       "anaemia                     0\n",
       "creatinine_phosphokinase    0\n",
       "diabetes                    0\n",
       "ejection_fraction           0\n",
       "high_blood_pressure         0\n",
       "platelets                   0\n",
       "serum_creatinine            0\n",
       "serum_sodium                0\n",
       "sex                         0\n",
       "smoking                     0\n",
       "time                        0\n",
       "DEATH_EVENT                 0\n",
       "dtype: int64"
      ]
     },
     "execution_count": 8,
     "metadata": {},
     "output_type": "execute_result"
    }
   ],
   "source": [
    "df.isnull().sum()"
   ]
  },
  {
   "cell_type": "markdown",
   "metadata": {},
   "source": [
    "## Ekplorasi Data"
   ]
  },
  {
   "cell_type": "code",
   "execution_count": 9,
   "metadata": {},
   "outputs": [],
   "source": [
    "cafe_colors = ['rgb(79, 129, 102)',\n",
    "                 'rgb(175, 49, 35)', 'rgb(36, 73, 147)']"
   ]
  },
  {
   "cell_type": "code",
   "execution_count": 10,
   "metadata": {},
   "outputs": [
    {
     "name": "stdout",
     "output_type": "stream",
     "text": [
      "Jumlah Kasus yang Hidup: 203\n",
      " Jumlah Kasus yang Meniggal: 96\n"
     ]
    },
    {
     "data": {
      "image/png": "[encoded data removed]",
      "text/plain": [
       "<Figure size 432x288 with 1 Axes>"
      ]
     },
     "metadata": {},
     "output_type": "display_data"
    }
   ],
   "source": [
    "len_live = len(df['DEATH_EVENT'][df['DEATH_EVENT'] == 0])\n",
    "len_death = len(df['DEATH_EVENT'][df['DEATH_EVENT'] == 1])\n",
    "\n",
    "print(f'Jumlah Kasus yang Hidup: {len_live}')\n",
    "print(f' Jumlah Kasus yang Meniggal: {len_death}')\n",
    "\n",
    "arr = np.array([len_live, len_death])\n",
    "labels = ['Hidup','Meniggal']\n",
    "\n",
    "plt.pie(arr, labels = labels, explode=[0.2,0.0], shadow = True, autopct='%1.1f%%')\n",
    "plt.show()"
   ]
  },
  {
   "cell_type": "code",
   "execution_count": 11,
   "metadata": {},
   "outputs": [
    {
     "data": {
      "text/plain": [
       "<AxesSubplot:>"
      ]
     },
     "execution_count": 11,
     "metadata": {},
     "output_type": "execute_result"
    },
    {
     "data": {
      "image/png": "[encoded data removed]",
      "text/plain": [
       "<Figure size 720x360 with 1 Axes>"
      ]
     },
     "metadata": {
      "needs_background": "light"
     },
     "output_type": "display_data"
    }
   ],
   "source": [
    "df['age'].value_counts().plot(kind='bar', figsize=(10,5), color='blue')"
   ]
  },
  {
   "cell_type": "markdown",
   "metadata": {},
   "source": [
    "Dari histogram variabel di atas dapat dilihat persebaran umur pasien yaitu ada dari 40 hingga sekitar 95 tahun, dan frekuensi terbanyak yaitu pasien berusia 50 hingga 60 an."
   ]
  },
  {
   "cell_type": "code",
   "execution_count": 12,
   "metadata": {},
   "outputs": [
    {
     "data": {
      "text/plain": [
       "<AxesSubplot:xlabel='DEATH_EVENT', ylabel='age'>"
      ]
     },
     "execution_count": 12,
     "metadata": {},
     "output_type": "execute_result"
    },
    {
     "data": {
      "image/png": "[encoded data removed]",
      "text/plain": [
       "<Figure size 432x288 with 1 Axes>"
      ]
     },
     "metadata": {
      "needs_background": "light"
     },
     "output_type": "display_data"
    }
   ],
   "source": [
    "sns.stripplot(data=df, x='DEATH_EVENT', y='age')"
   ]
  },
  {
   "cell_type": "code",
   "execution_count": 13,
   "metadata": {},
   "outputs": [
    {
     "name": "stdout",
     "output_type": "stream",
     "text": [
      "Jumlah yang Meninggal: 85\n",
      "Jumlah yang tidak Meninggal: 167\n"
     ]
    },
    {
     "data": {
      "image/png": "[encoded data removed]",
      "text/plain": [
       "<Figure size 432x288 with 1 Axes>"
      ]
     },
     "metadata": {},
     "output_type": "display_data"
    }
   ],
   "source": [
    "age_above_50_not_died = df['DEATH_EVENT'][df.age >=50][df.DEATH_EVENT == 0]\n",
    "age_above_50_died = df['DEATH_EVENT'][df.age >= 50][df.DEATH_EVENT == 1]\n",
    "\n",
    "len_died = len(age_above_50_died)\n",
    "len_not_died = len(age_above_50_not_died)\n",
    "\n",
    "arr1 = np.array([len_not_died, len_died])\n",
    "labels =['Hidup','Meninggal']\n",
    "\n",
    "print(f'Jumlah yang Meninggal: {len_died}')\n",
    "print(f'Jumlah yang tidak Meninggal: {len_not_died}')\n",
    "\n",
    "plt.pie(arr1, labels=labels, explode = [0.2, 0.0], shadow= True, autopct='%1.1f%%')\n",
    "plt.show()"
   ]
  },
  {
   "cell_type": "code",
   "execution_count": 14,
   "metadata": {},
   "outputs": [
    {
     "data": {
      "text/plain": [
       "<AxesSubplot:xlabel='DEATH_EVENT', ylabel='serum_creatinine'>"
      ]
     },
     "execution_count": 14,
     "metadata": {},
     "output_type": "execute_result"
    },
    {
     "data": {
      "image/png": "[encoded data removed]",
      "text/plain": [
       "<Figure size 432x288 with 1 Axes>"
      ]
     },
     "metadata": {
      "needs_background": "light"
     },
     "output_type": "display_data"
    }
   ],
   "source": [
    "sns.stripplot(data=df, x='DEATH_EVENT', y='serum_creatinine')"
   ]
  },
  {
   "cell_type": "markdown",
   "metadata": {},
   "source": [
    "## Data Preprocessing"
   ]
  },
  {
   "cell_type": "code",
   "execution_count": 15,
   "metadata": {},
   "outputs": [
    {
     "data": {
      "text/plain": [
       "<AxesSubplot:>"
      ]
     },
     "execution_count": 15,
     "metadata": {},
     "output_type": "execute_result"
    },
    {
     "data": {
      "image/png": "[encoded data removed]",
      "text/plain": [
       "<Figure size 936x720 with 2 Axes>"
      ]
     },
     "metadata": {
      "needs_background": "light"
     },
     "output_type": "display_data"
    }
   ],
   "source": [
    "corr = df.corr()\n",
    "top_corr = corr.index\n",
    "plt.figure(figsize=(13,10))\n",
    "sns.heatmap(df[top_corr].corr(),annot=True,cmap=\"RdYlGn\")"
   ]
  },
  {
   "cell_type": "code",
   "execution_count": 16,
   "metadata": {},
   "outputs": [],
   "source": [
    "df_pred = df[['age','serum_creatinine','DEATH_EVENT']]"
   ]
  },
  {
   "cell_type": "code",
   "execution_count": 17,
   "metadata": {},
   "outputs": [
    {
     "data": {
      "text/html": [
       "<div>\n",
       "<style scoped>\n",
       "    .dataframe tbody tr th:only-of-type {\n",
       "        vertical-align: middle;\n",
       "    }\n",
       "\n",
       "    .dataframe tbody tr th {\n",
       "        vertical-align: top;\n",
       "    }\n",
       "\n",
       "    .dataframe thead th {\n",
       "        text-align: right;\n",
       "    }\n",
       "</style>\n",
       "<table border=\"1\" class=\"dataframe\">\n",
       "  <thead>\n",
       "    <tr style=\"text-align: right;\">\n",
       "      <th></th>\n",
       "      <th>age</th>\n",
       "      <th>serum_creatinine</th>\n",
       "      <th>DEATH_EVENT</th>\n",
       "    </tr>\n",
       "  </thead>\n",
       "  <tbody>\n",
       "    <tr>\n",
       "      <th>0</th>\n",
       "      <td>75.0</td>\n",
       "      <td>1.9</td>\n",
       "      <td>1</td>\n",
       "    </tr>\n",
       "    <tr>\n",
       "      <th>1</th>\n",
       "      <td>55.0</td>\n",
       "      <td>1.1</td>\n",
       "      <td>1</td>\n",
       "    </tr>\n",
       "    <tr>\n",
       "      <th>2</th>\n",
       "      <td>65.0</td>\n",
       "      <td>1.3</td>\n",
       "      <td>1</td>\n",
       "    </tr>\n",
       "    <tr>\n",
       "      <th>3</th>\n",
       "      <td>50.0</td>\n",
       "      <td>1.9</td>\n",
       "      <td>1</td>\n",
       "    </tr>\n",
       "    <tr>\n",
       "      <th>4</th>\n",
       "      <td>65.0</td>\n",
       "      <td>2.7</td>\n",
       "      <td>1</td>\n",
       "    </tr>\n",
       "    <tr>\n",
       "      <th>...</th>\n",
       "      <td>...</td>\n",
       "      <td>...</td>\n",
       "      <td>...</td>\n",
       "    </tr>\n",
       "    <tr>\n",
       "      <th>294</th>\n",
       "      <td>62.0</td>\n",
       "      <td>1.1</td>\n",
       "      <td>0</td>\n",
       "    </tr>\n",
       "    <tr>\n",
       "      <th>295</th>\n",
       "      <td>55.0</td>\n",
       "      <td>1.2</td>\n",
       "      <td>0</td>\n",
       "    </tr>\n",
       "    <tr>\n",
       "      <th>296</th>\n",
       "      <td>45.0</td>\n",
       "      <td>0.8</td>\n",
       "      <td>0</td>\n",
       "    </tr>\n",
       "    <tr>\n",
       "      <th>297</th>\n",
       "      <td>45.0</td>\n",
       "      <td>1.4</td>\n",
       "      <td>0</td>\n",
       "    </tr>\n",
       "    <tr>\n",
       "      <th>298</th>\n",
       "      <td>50.0</td>\n",
       "      <td>1.6</td>\n",
       "      <td>0</td>\n",
       "    </tr>\n",
       "  </tbody>\n",
       "</table>\n",
       "<p>299 rows × 3 columns</p>\n",
       "</div>"
      ],
      "text/plain": [
       "      age  serum_creatinine  DEATH_EVENT\n",
       "0    75.0               1.9            1\n",
       "1    55.0               1.1            1\n",
       "2    65.0               1.3            1\n",
       "3    50.0               1.9            1\n",
       "4    65.0               2.7            1\n",
       "..    ...               ...          ...\n",
       "294  62.0               1.1            0\n",
       "295  55.0               1.2            0\n",
       "296  45.0               0.8            0\n",
       "297  45.0               1.4            0\n",
       "298  50.0               1.6            0\n",
       "\n",
       "[299 rows x 3 columns]"
      ]
     },
     "execution_count": 17,
     "metadata": {},
     "output_type": "execute_result"
    }
   ],
   "source": [
    "df_pred"
   ]
  },
  {
   "cell_type": "code",
   "execution_count": 18,
   "metadata": {},
   "outputs": [
    {
     "data": {
      "text/html": [
       "<div>\n",
       "<style scoped>\n",
       "    .dataframe tbody tr th:only-of-type {\n",
       "        vertical-align: middle;\n",
       "    }\n",
       "\n",
       "    .dataframe tbody tr th {\n",
       "        vertical-align: top;\n",
       "    }\n",
       "\n",
       "    .dataframe thead th {\n",
       "        text-align: right;\n",
       "    }\n",
       "</style>\n",
       "<table border=\"1\" class=\"dataframe\">\n",
       "  <thead>\n",
       "    <tr style=\"text-align: right;\">\n",
       "      <th></th>\n",
       "      <th>age</th>\n",
       "      <th>serum_creatinine</th>\n",
       "      <th>DEATH_EVENT</th>\n",
       "    </tr>\n",
       "  </thead>\n",
       "  <tbody>\n",
       "    <tr>\n",
       "      <th>count</th>\n",
       "      <td>299.000000</td>\n",
       "      <td>299.00000</td>\n",
       "      <td>299.00000</td>\n",
       "    </tr>\n",
       "    <tr>\n",
       "      <th>mean</th>\n",
       "      <td>60.833893</td>\n",
       "      <td>1.39388</td>\n",
       "      <td>0.32107</td>\n",
       "    </tr>\n",
       "    <tr>\n",
       "      <th>std</th>\n",
       "      <td>11.894809</td>\n",
       "      <td>1.03451</td>\n",
       "      <td>0.46767</td>\n",
       "    </tr>\n",
       "    <tr>\n",
       "      <th>min</th>\n",
       "      <td>40.000000</td>\n",
       "      <td>0.50000</td>\n",
       "      <td>0.00000</td>\n",
       "    </tr>\n",
       "    <tr>\n",
       "      <th>25%</th>\n",
       "      <td>51.000000</td>\n",
       "      <td>0.90000</td>\n",
       "      <td>0.00000</td>\n",
       "    </tr>\n",
       "    <tr>\n",
       "      <th>50%</th>\n",
       "      <td>60.000000</td>\n",
       "      <td>1.10000</td>\n",
       "      <td>0.00000</td>\n",
       "    </tr>\n",
       "    <tr>\n",
       "      <th>75%</th>\n",
       "      <td>70.000000</td>\n",
       "      <td>1.40000</td>\n",
       "      <td>1.00000</td>\n",
       "    </tr>\n",
       "    <tr>\n",
       "      <th>max</th>\n",
       "      <td>95.000000</td>\n",
       "      <td>9.40000</td>\n",
       "      <td>1.00000</td>\n",
       "    </tr>\n",
       "  </tbody>\n",
       "</table>\n",
       "</div>"
      ],
      "text/plain": [
       "              age  serum_creatinine  DEATH_EVENT\n",
       "count  299.000000         299.00000    299.00000\n",
       "mean    60.833893           1.39388      0.32107\n",
       "std     11.894809           1.03451      0.46767\n",
       "min     40.000000           0.50000      0.00000\n",
       "25%     51.000000           0.90000      0.00000\n",
       "50%     60.000000           1.10000      0.00000\n",
       "75%     70.000000           1.40000      1.00000\n",
       "max     95.000000           9.40000      1.00000"
      ]
     },
     "execution_count": 18,
     "metadata": {},
     "output_type": "execute_result"
    }
   ],
   "source": [
    "df_pred.describe()"
   ]
  },
  {
   "cell_type": "markdown",
   "metadata": {},
   "source": [
    "## Pendefinisian Model"
   ]
  },
  {
   "cell_type": "code",
   "execution_count": 19,
   "metadata": {},
   "outputs": [],
   "source": [
    "x = df_pred.drop(\"DEATH_EVENT\", axis=1)\n",
    "y = df_pred[\"DEATH_EVENT\"]"
   ]
  },
  {
   "cell_type": "code",
   "execution_count": 20,
   "metadata": {},
   "outputs": [],
   "source": [
    "scaler = StandardScaler()\n",
    "x = scaler.fit_transform(x)"
   ]
  },
  {
   "cell_type": "code",
   "execution_count": 21,
   "metadata": {},
   "outputs": [
    {
     "data": {
      "text/plain": [
       "array([[ 1.19294523e+00,  4.90056987e-01],\n",
       "       [-4.91279276e-01, -2.84552352e-01],\n",
       "       [ 3.50832977e-01, -9.09000174e-02],\n",
       "       [-9.12335403e-01,  4.90056987e-01],\n",
       "       [ 3.50832977e-01,  1.26466633e+00],\n",
       "       [ 2.45611361e+00,  6.83709322e-01],\n",
       "       [ 1.19294523e+00, -1.87726185e-01],\n",
       "       [-7.02231493e-02, -2.84552352e-01],\n",
       "       [ 3.50832977e-01,  1.02752318e-01],\n",
       "       [ 1.61400136e+00,  7.75201955e+00],\n",
       "       [ 1.19294523e+00,  2.52340650e+00],\n",
       "       [ 9.81993013e-02, -4.78204687e-01],\n",
       "       [-1.33339153e+00, -2.84552352e-01],\n",
       "       [-9.12335403e-01, -2.84552352e-01],\n",
       "       [-9.96546628e-01, -3.81378520e-01],\n",
       "       [ 1.78242381e+00, -9.09000174e-02],\n",
       "       [ 2.20347993e+00, -4.78204687e-01],\n",
       "       [-1.33339153e+00, -5.75030855e-01],\n",
       "       [ 7.71889104e-01, -3.81378520e-01],\n",
       "       [-1.08075785e+00,  4.90056987e-01],\n",
       "       [ 3.50832977e-01, -9.09000174e-02],\n",
       "       [ 3.50832977e-01,  1.99578485e-01],\n",
       "       [ 6.03466653e-01, -4.78204687e-01],\n",
       "       [-6.59701727e-01, -5.75030855e-01],\n",
       "       [ 1.19294523e+00,  4.22278670e-01],\n",
       "       [ 1.61400136e+00,  4.90056987e-01],\n",
       "       [ 2.87716974e+00, -3.81378520e-01],\n",
       "       [ 7.71889104e-01, -9.09000174e-02],\n",
       "       [-2.38645600e-01,  4.26627752e+00],\n",
       "       [ 1.78242381e+00, -1.87726185e-01],\n",
       "       [ 2.79295851e+00,  4.22278670e-01],\n",
       "       [ 2.03505748e+00,  1.55514483e+00],\n",
       "       [-9.12335403e-01, -3.81378520e-01],\n",
       "       [-9.12335403e-01, -1.87726185e-01],\n",
       "       [ 3.50832977e-01, -3.81378520e-01],\n",
       "       [ 6.87677879e-01,  2.03927567e+00],\n",
       "       [ 2.45611361e+00, -3.81378520e-01],\n",
       "       [ 1.78242381e+00, -3.81378520e-01],\n",
       "       [-7.02231493e-02,  8.77361657e-01],\n",
       "       [-7.02231493e-02,  1.55514483e+00],\n",
       "       [ 7.71889104e-01,  4.22278670e-01],\n",
       "       [-9.12335403e-01, -1.87726185e-01],\n",
       "       [ 7.71889104e-01, -1.87726185e-01],\n",
       "       [ 9.40311555e-01, -3.81378520e-01],\n",
       "       [-7.02231493e-02, -2.84552352e-01],\n",
       "       [-9.12335403e-01,  4.90056987e-01],\n",
       "       [-8.28124177e-01, -4.78204687e-01],\n",
       "       [-7.02231493e-02, -7.68683190e-01],\n",
       "       [ 1.61400136e+00,  2.91071117e+00],\n",
       "       [-3.22856825e-01, -3.81378520e-01],\n",
       "       [ 6.03466653e-01, -3.81378520e-01],\n",
       "       [-6.59701727e-01,  5.92615005e-03],\n",
       "       [-7.02231493e-02,  5.23453919e+00],\n",
       "       [ 7.71889104e-01, -3.81378520e-01],\n",
       "       [-7.02231493e-02,  7.80535490e-01],\n",
       "       [ 2.87716974e+00,  5.86883155e-01],\n",
       "       [ 7.71889104e-01,  1.26466633e+00],\n",
       "       [-7.02231493e-02, -7.68683190e-01],\n",
       "       [-9.96546628e-01, -2.84552352e-01],\n",
       "       [ 9.40311555e-01, -9.09000174e-02],\n",
       "       [-1.33339153e+00, -3.81378520e-01],\n",
       "       [-9.12335403e-01,  8.77361657e-01],\n",
       "       [-4.91279276e-01, -2.84552352e-01],\n",
       "       [-1.33339153e+00, -3.81378520e-01],\n",
       "       [-1.33339153e+00, -2.07091418e-01],\n",
       "       [-7.02231493e-02,  1.45831866e+00],\n",
       "       [-1.58602521e+00, -9.09000174e-02],\n",
       "       [ 9.40311555e-01, -3.81378520e-01],\n",
       "       [ 7.71889104e-01, -1.87726185e-01],\n",
       "       [ 3.50832977e-01,  4.22278670e-01],\n",
       "       [-1.67023643e+00, -5.75030855e-01],\n",
       "       [-2.38645600e-01, -4.78204687e-01],\n",
       "       [ 2.03505748e+00, -3.81378520e-01],\n",
       "       [ 3.50832977e-01, -9.09000174e-02],\n",
       "       [ 6.87677879e-01, -1.87726185e-01],\n",
       "       [-7.02231493e-02, -6.71857022e-01],\n",
       "       [ 7.71889104e-01, -5.75030855e-01],\n",
       "       [-1.58602521e+00, -1.87726185e-01],\n",
       "       [ 1.19294523e+00, -7.68683190e-01],\n",
       "       [-4.91279276e-01, -4.78204687e-01],\n",
       "       [ 7.71889104e-01,  2.96404652e-01],\n",
       "       [ 5.19255428e-01, -2.07091418e-01],\n",
       "       [-7.02231493e-02,  1.07101399e+00],\n",
       "       [ 1.52979013e+00,  3.93230820e-01],\n",
       "       [-1.54434375e-01, -3.81378520e-01],\n",
       "       [-8.28124177e-01, -6.71857022e-01],\n",
       "       [-4.91279276e-01, -2.84552352e-01],\n",
       "       [ 3.50832977e-01, -5.75030855e-01],\n",
       "       [-1.41760275e+00, -6.71857022e-01],\n",
       "       [-3.22856825e-01, -2.84552352e-01],\n",
       "       [ 7.71889104e-01, -5.75030855e-01],\n",
       "       [-7.02231493e-02, -3.81378520e-01],\n",
       "       [-1.58602521e+00, -2.07091418e-01],\n",
       "       [-7.02231493e-02,  2.96404652e-01],\n",
       "       [-2.38645600e-01, -6.71857022e-01],\n",
       "       [-2.38645600e-01, -3.81378520e-01],\n",
       "       [ 1.82410527e-01, -9.09000174e-02],\n",
       "       [ 7.71889104e-01, -2.84552352e-01],\n",
       "       [-7.02231493e-02, -1.87726185e-01],\n",
       "       [ 1.82410527e-01, -2.84552352e-01],\n",
       "       [ 3.50832977e-01, -2.84552352e-01],\n",
       "       [ 1.19294523e+00, -2.07091418e-01],\n",
       "       [ 1.61400136e+00, -2.84552352e-01],\n",
       "       [-1.58602521e+00, -3.81378520e-01],\n",
       "       [-7.02231493e-02,  8.77361657e-01],\n",
       "       [ 9.40311555e-01,  2.96404652e-01],\n",
       "       [-4.91279276e-01, -9.09000174e-02],\n",
       "       [-1.33339153e+00, -4.78204687e-01],\n",
       "       [ 1.82410527e-01, -2.84552352e-01],\n",
       "       [-1.33339153e+00, -9.09000174e-02],\n",
       "       [ 2.03505748e+00, -1.87726185e-01],\n",
       "       [-4.91279276e-01, -1.87726185e-01],\n",
       "       [-9.12335403e-01,  1.99578485e-01],\n",
       "       [ 7.71889104e-01, -9.09000174e-02],\n",
       "       [-7.02231493e-02, -1.87726185e-01],\n",
       "       [-2.38645600e-01, -3.81378520e-01],\n",
       "       [-7.02231493e-02, -6.71857022e-01],\n",
       "       [ 2.03505748e+00,  1.74879716e+00],\n",
       "       [ 3.50832977e-01, -4.78204687e-01],\n",
       "       [ 2.11926871e+00,  4.22278670e-01],\n",
       "       [-7.02231493e-02,  1.02752318e-01],\n",
       "       [ 4.35044203e-01, -3.81378520e-01],\n",
       "       [-7.02231493e-02, -6.23443938e-01],\n",
       "       [-7.02231493e-02, -4.78204687e-01],\n",
       "       [-7.02231493e-02,  2.23292800e+00],\n",
       "       [-1.50181398e+00, -9.09000174e-02],\n",
       "       [-1.24918030e+00,  6.83709322e-01],\n",
       "       [-2.38645600e-01, -5.75030855e-01],\n",
       "       [ 1.39880760e-02, -6.71857022e-01],\n",
       "       [-6.59701727e-01,  1.94244950e+00],\n",
       "       [-6.59701727e-01, -6.71857022e-01],\n",
       "       [-7.02231493e-02,  4.55675602e+00],\n",
       "       [-1.24918030e+00, -2.07091418e-01],\n",
       "       [ 1.82410527e-01, -9.09000174e-02],\n",
       "       [ 1.69821258e+00, -2.07091418e-01],\n",
       "       [ 1.19294523e+00, -2.07091418e-01],\n",
       "       [ 3.50832977e-01, -4.78204687e-01],\n",
       "       [ 6.03466653e-01,  6.83709322e-01],\n",
       "       [ 9.81993013e-02, -3.81378520e-01],\n",
       "       [-9.12335403e-01, -5.75030855e-01],\n",
       "       [ 1.61400136e+00, -2.84552352e-01],\n",
       "       [-1.24918030e+00, -4.78204687e-01],\n",
       "       [-9.12335403e-01, -4.78204687e-01],\n",
       "       [ 1.39880760e-02, -4.78204687e-01],\n",
       "       [ 9.40311555e-01,  2.96404652e-01],\n",
       "       [-9.12335403e-01, -6.71857022e-01],\n",
       "       [-7.43912952e-01, -6.71857022e-01],\n",
       "       [ 2.66621752e-01, -3.81378520e-01],\n",
       "       [ 1.19294523e+00,  4.22278670e-01],\n",
       "       [-7.02231493e-02, -4.78204687e-01],\n",
       "       [ 9.40311555e-01,  1.07101399e+00],\n",
       "       [ 9.81993013e-02, -4.78204687e-01],\n",
       "       [-9.12335403e-01, -4.78204687e-01],\n",
       "       [-9.12335403e-01, -2.07091418e-01],\n",
       "       [ 3.50832977e-01, -5.75030855e-01],\n",
       "       [-7.02231493e-02,  2.96404652e-01],\n",
       "       [-7.43912952e-01,  5.92615005e-03],\n",
       "       [-9.12335403e-01, -3.81378520e-01],\n",
       "       [ 2.03505748e+00, -9.09000174e-02],\n",
       "       [-1.54434375e-01, -2.84552352e-01],\n",
       "       [ 4.35044203e-01, -1.87726185e-01],\n",
       "       [-1.33339153e+00, -5.75030855e-01],\n",
       "       [ 1.82410527e-01, -4.78204687e-01],\n",
       "       [-9.12335403e-01, -4.78204687e-01],\n",
       "       [-1.33339153e+00, -2.84552352e-01],\n",
       "       [ 1.61400136e+00, -9.09000174e-02],\n",
       "       [-6.59701727e-01, -6.71857022e-01],\n",
       "       [-1.54434375e-01,  9.74187825e-01],\n",
       "       [ 3.50832977e-01, -3.81378520e-01],\n",
       "       [ 7.71889104e-01, -5.75030855e-01],\n",
       "       [-8.28124177e-01,  1.02752318e-01],\n",
       "       [-7.43912952e-01, -4.78204687e-01],\n",
       "       [ 7.71889104e-01, -2.84552352e-01],\n",
       "       [-9.12335403e-01, -5.75030855e-01],\n",
       "       [ 3.50832977e-01, -4.78204687e-01],\n",
       "       [-7.02231493e-02, -3.81378520e-01],\n",
       "       [ 6.87677879e-01, -3.81378520e-01],\n",
       "       [-9.96546628e-01, -3.81378520e-01],\n",
       "       [ 1.82410527e-01, -1.87726185e-01],\n",
       "       [-4.91279276e-01, -6.71857022e-01],\n",
       "       [-1.75444766e+00, -4.78204687e-01],\n",
       "       [-1.54434375e-01, -3.81378520e-01],\n",
       "       [ 3.50832977e-01, -1.87726185e-01],\n",
       "       [ 1.19294523e+00,  1.07101399e+00],\n",
       "       [-2.38645600e-01, -1.87726185e-01],\n",
       "       [-1.40542621e-02,  1.02752318e-01],\n",
       "       [-9.12335403e-01, -7.68683190e-01],\n",
       "       [-7.02231493e-02,  6.83709322e-01],\n",
       "       [-1.40542621e-02, -3.81378520e-01],\n",
       "       [-1.75444766e+00, -4.78204687e-01],\n",
       "       [ 1.61400136e+00,  6.83709322e-01],\n",
       "       [ 2.66621752e-01,  1.02752318e-01],\n",
       "       [-9.12335403e-01, -6.71857022e-01],\n",
       "       [ 1.02452278e+00, -2.07091418e-01],\n",
       "       [-1.33339153e+00,  1.99578485e-01],\n",
       "       [ 1.36136768e+00,  3.93230820e-01],\n",
       "       [-1.33339153e+00, -2.07091418e-01],\n",
       "       [ 3.50832977e-01, -5.75030855e-01],\n",
       "       [-9.12335403e-01, -3.81378520e-01],\n",
       "       [-7.02231493e-02,  3.93230820e-01],\n",
       "       [ 1.82410527e-01, -6.71857022e-01],\n",
       "       [-1.33339153e+00, -3.81378520e-01],\n",
       "       [ 7.71889104e-01, -4.78204687e-01],\n",
       "       [-7.02231493e-02,  2.03927567e+00],\n",
       "       [ 1.44557891e+00, -6.71857022e-01],\n",
       "       [-9.12335403e-01, -3.81378520e-01],\n",
       "       [-1.75444766e+00, -5.75030855e-01],\n",
       "       [ 2.03505748e+00, -4.78204687e-01],\n",
       "       [-7.02231493e-02, -3.81378520e-01],\n",
       "       [-9.96546628e-01, -5.75030855e-01],\n",
       "       [ 7.71889104e-01, -3.81378520e-01],\n",
       "       [-9.12335403e-01, -5.75030855e-01],\n",
       "       [ 1.44557891e+00,  5.92615005e-03],\n",
       "       [-1.08075785e+00,  1.99578485e-01],\n",
       "       [ 3.50832977e-01, -5.75030855e-01],\n",
       "       [ 1.02452278e+00, -9.09000174e-02],\n",
       "       [ 7.71889104e-01, -4.78204687e-01],\n",
       "       [-5.75490501e-01,  7.36471488e+00],\n",
       "       [ 6.03466653e-01, -2.84552352e-01],\n",
       "       [-4.91279276e-01, -6.71857022e-01],\n",
       "       [ 1.02452278e+00,  4.22278670e-01],\n",
       "       [ 3.50832977e-01, -2.84552352e-01],\n",
       "       [-1.58602521e+00, -2.84552352e-01],\n",
       "       [-1.16496908e+00, -5.75030855e-01],\n",
       "       [-2.38645600e-01, -3.81378520e-01],\n",
       "       [ 1.19294523e+00,  5.92615005e-03],\n",
       "       [-2.38645600e-01, -9.09000174e-02],\n",
       "       [-4.91279276e-01, -3.81378520e-01],\n",
       "       [ 3.50832977e-01,  3.49166818e+00],\n",
       "       [ 9.40311555e-01, -1.87726185e-01],\n",
       "       [-7.02231493e-02,  2.96404652e-01],\n",
       "       [ 7.71889104e-01, -2.84552352e-01],\n",
       "       [-1.75444766e+00, -4.78204687e-01],\n",
       "       [-6.59701727e-01,  5.92615005e-03],\n",
       "       [-6.59701727e-01, -2.84552352e-01],\n",
       "       [ 1.36136768e+00, -2.84552352e-01],\n",
       "       [ 1.19294523e+00, -2.84552352e-01],\n",
       "       [ 7.71889104e-01, -1.87726185e-01],\n",
       "       [ 3.50832977e-01, -3.81378520e-01],\n",
       "       [-4.91279276e-01, -2.07091418e-01],\n",
       "       [ 7.71889104e-01, -9.09000174e-02],\n",
       "       [ 3.50832977e-01, -9.09000174e-02],\n",
       "       [-1.75444766e+00, -2.84552352e-01],\n",
       "       [ 1.02452278e+00, -4.78204687e-01],\n",
       "       [-5.75490501e-01,  3.93230820e-01],\n",
       "       [ 1.39880760e-02,  5.92615005e-03],\n",
       "       [-4.91279276e-01, -2.84552352e-01],\n",
       "       [ 2.66621752e-01,  9.74187825e-01],\n",
       "       [-1.75444766e+00, -3.81378520e-01],\n",
       "       [-6.59701727e-01, -1.87726185e-01],\n",
       "       [-9.12335403e-01, -8.65509357e-01],\n",
       "       [-4.91279276e-01, -5.75030855e-01],\n",
       "       [-9.12335403e-01, -3.81378520e-01],\n",
       "       [ 7.71889104e-01, -1.87726185e-01],\n",
       "       [-6.59701727e-01, -3.81378520e-01],\n",
       "       [-7.43912952e-01, -3.81378520e-01],\n",
       "       [ 3.50832977e-01,  2.96404652e-01],\n",
       "       [-2.38645600e-01, -3.81378520e-01],\n",
       "       [-1.33339153e+00, -5.75030855e-01],\n",
       "       [-6.59701727e-01, -6.71857022e-01],\n",
       "       [-4.91279276e-01, -3.81378520e-01],\n",
       "       [ 9.81993013e-02, -6.71857022e-01],\n",
       "       [ 3.50832977e-01,  5.92615005e-03],\n",
       "       [ 6.03466653e-01, -3.81378520e-01],\n",
       "       [ 1.39880760e-02, -1.87726185e-01],\n",
       "       [-9.12335403e-01, -4.78204687e-01],\n",
       "       [-4.91279276e-01,  4.22278670e-01],\n",
       "       [-4.07068051e-01,  2.96404652e-01],\n",
       "       [-1.33339153e+00, -4.78204687e-01],\n",
       "       [-1.75444766e+00, -3.81378520e-01],\n",
       "       [-1.41760275e+00,  1.99578485e-01],\n",
       "       [-8.28124177e-01, -4.78204687e-01],\n",
       "       [ 5.19255428e-01, -1.87726185e-01],\n",
       "       [-1.58602521e+00, -6.71857022e-01],\n",
       "       [-7.02231493e-02, -3.81378520e-01],\n",
       "       [-1.33339153e+00, -5.75030855e-01],\n",
       "       [ 7.71889104e-01, -2.84552352e-01],\n",
       "       [ 7.71889104e-01, -2.84552352e-01],\n",
       "       [-9.12335403e-01, -6.71857022e-01],\n",
       "       [-4.91279276e-01, -9.09000174e-02],\n",
       "       [ 7.71889104e-01, -3.81378520e-01],\n",
       "       [ 7.71889104e-01,  1.26466633e+00],\n",
       "       [-1.58602521e+00,  2.32975417e+00],\n",
       "       [ 3.50832977e-01, -2.84552352e-01],\n",
       "       [-9.12335403e-01, -5.75030855e-01],\n",
       "       [-4.91279276e-01, -1.87726185e-01],\n",
       "       [-7.02231493e-02,  2.96404652e-01],\n",
       "       [-1.33339153e+00, -3.81378520e-01],\n",
       "       [ 3.50832977e-01, -2.84552352e-01],\n",
       "       [ 2.45611361e+00, -4.78204687e-01],\n",
       "       [-1.33339153e+00, -5.75030855e-01],\n",
       "       [-7.02231493e-02,  5.92615005e-03],\n",
       "       [-7.43912952e-01, -3.81378520e-01],\n",
       "       [ 1.82410527e-01, -4.78204687e-01],\n",
       "       [ 9.81993013e-02, -2.84552352e-01],\n",
       "       [-4.91279276e-01, -1.87726185e-01],\n",
       "       [-1.33339153e+00, -5.75030855e-01],\n",
       "       [-1.33339153e+00,  5.92615005e-03],\n",
       "       [-9.12335403e-01,  1.99578485e-01]])"
      ]
     },
     "execution_count": 21,
     "metadata": {},
     "output_type": "execute_result"
    }
   ],
   "source": [
    "x"
   ]
  },
  {
   "cell_type": "code",
   "execution_count": 22,
   "metadata": {},
   "outputs": [
    {
     "name": "stdout",
     "output_type": "stream",
     "text": [
      "Shape Training Feature: (239, 2)\n",
      "Shape Testing Feature: (60, 2)\n",
      "Shape Training Feature: (239,)\n",
      "Shape Testing Feature: (60,)\n"
     ]
    }
   ],
   "source": [
    "X_train, X_test, y_train, y_test = train_test_split(x, y, test_size=0.2, random_state=75)\n",
    "\n",
    "print(\"Shape Training Feature:\", X_train.shape)\n",
    "print(\"Shape Testing Feature:\", X_test.shape)\n",
    "print(\"Shape Training Feature:\", y_train.shape)\n",
    "print(\"Shape Testing Feature:\", y_test.shape)"
   ]
  },
  {
   "cell_type": "code",
   "execution_count": 23,
   "metadata": {},
   "outputs": [
    {
     "name": "stdout",
     "output_type": "stream",
     "text": [
      "0.7166666666666667\n",
      "              precision    recall  f1-score   support\n",
      "\n",
      "           0       0.76      0.82      0.79        39\n",
      "           1       0.61      0.52      0.56        21\n",
      "\n",
      "    accuracy                           0.72        60\n",
      "   macro avg       0.69      0.67      0.68        60\n",
      "weighted avg       0.71      0.72      0.71        60\n",
      "\n"
     ]
    },
    {
     "name": "stderr",
     "output_type": "stream",
     "text": [
      "c:\\Users\\umam1\\AppData\\Local\\Programs\\Python\\Python310\\lib\\site-packages\\sklearn\\ensemble\\_forest.py:427: FutureWarning: `max_features='auto'` has been deprecated in 1.1 and will be removed in 1.3. To keep the past behaviour, explicitly set `max_features='sqrt'` or remove this parameter as it is also the default value for RandomForestClassifiers and ExtraTreesClassifiers.\n",
      "  warn(\n"
     ]
    }
   ],
   "source": [
    "clf = RandomForestClassifier(n_estimators=100, max_features=\"auto\",random_state=0)\n",
    "clf.fit(X_train, y_train)\n",
    "\n",
    "y_pred = clf.predict(X_test)\n",
    "\n",
    "confusion_matrix(y_test,y_pred)\n",
    "print(accuracy_score(y_test, y_pred))\n",
    "print(classification_report(y_test,y_pred))"
   ]
  },
  {
   "cell_type": "code",
   "execution_count": 24,
   "metadata": {},
   "outputs": [
    {
     "name": "stdout",
     "output_type": "stream",
     "text": [
      "0.75\n",
      "              precision    recall  f1-score   support\n",
      "\n",
      "           0       0.75      0.92      0.83        39\n",
      "           1       0.75      0.43      0.55        21\n",
      "\n",
      "    accuracy                           0.75        60\n",
      "   macro avg       0.75      0.68      0.69        60\n",
      "weighted avg       0.75      0.75      0.73        60\n",
      "\n"
     ]
    }
   ],
   "source": [
    "clf1 = AdaBoostClassifier(n_estimators=100)\n",
    "clf1.fit(X_train, y_train)\n",
    "y_pred1 = clf1.predict(X_test)\n",
    "\n",
    "print(accuracy_score(y_test, y_pred1))\n",
    "confusion_matrix(y_test,y_pred1)\n",
    "print(classification_report(y_test,y_pred1))"
   ]
  },
  {
   "cell_type": "code",
   "execution_count": 25,
   "metadata": {},
   "outputs": [
    {
     "name": "stdout",
     "output_type": "stream",
     "text": [
      "0.75\n",
      "              precision    recall  f1-score   support\n",
      "\n",
      "           0       0.74      0.95      0.83        39\n",
      "           1       0.80      0.38      0.52        21\n",
      "\n",
      "    accuracy                           0.75        60\n",
      "   macro avg       0.77      0.66      0.67        60\n",
      "weighted avg       0.76      0.75      0.72        60\n",
      "\n"
     ]
    }
   ],
   "source": [
    "clf2 = GradientBoostingClassifier(n_estimators=100)\n",
    "clf2.fit(X_train, y_train)\n",
    "y_pred2 = clf2.predict(X_test)\n",
    "\n",
    "print(accuracy_score(y_test, y_pred2))\n",
    "confusion_matrix(y_test,y_pred2)\n",
    "print(classification_report(y_test,y_pred2))"
   ]
  },
  {
   "cell_type": "markdown",
   "metadata": {},
   "source": [
    "## Evaluasi Model Using SMOTE"
   ]
  },
  {
   "cell_type": "code",
   "execution_count": 29,
   "metadata": {},
   "outputs": [],
   "source": [
    "smote_method = SMOTE()\n",
    "x_s, y_s = smote_method.fit_resample(x, y)"
   ]
  },
  {
   "cell_type": "code",
   "execution_count": 30,
   "metadata": {},
   "outputs": [],
   "source": [
    "X_train_s, X_test_s, y_train_s, y_test_s = train_test_split(x_s, y_s, stratify = y_s, test_size=0.3, random_state=5)"
   ]
  },
  {
   "cell_type": "code",
   "execution_count": 32,
   "metadata": {},
   "outputs": [
    {
     "name": "stdout",
     "output_type": "stream",
     "text": [
      "0.7377049180327869\n",
      "              precision    recall  f1-score   support\n",
      "\n",
      "           0       0.72      0.77      0.75        61\n",
      "           1       0.75      0.70      0.73        61\n",
      "\n",
      "    accuracy                           0.74       122\n",
      "   macro avg       0.74      0.74      0.74       122\n",
      "weighted avg       0.74      0.74      0.74       122\n",
      "\n"
     ]
    },
    {
     "name": "stderr",
     "output_type": "stream",
     "text": [
      "c:\\Users\\umam1\\AppData\\Local\\Programs\\Python\\Python310\\lib\\site-packages\\sklearn\\ensemble\\_forest.py:427: FutureWarning: `max_features='auto'` has been deprecated in 1.1 and will be removed in 1.3. To keep the past behaviour, explicitly set `max_features='sqrt'` or remove this parameter as it is also the default value for RandomForestClassifiers and ExtraTreesClassifiers.\n",
      "  warn(\n"
     ]
    }
   ],
   "source": [
    "clf_s = RandomForestClassifier(n_estimators=100, max_features=\"auto\",random_state=0)\n",
    "clf_s.fit(X_train_s, y_train_s)\n",
    "\n",
    "y_pred_s = clf_s.predict(X_test_s)\n",
    "\n",
    "confusion_matrix(y_test_s,y_pred_s)\n",
    "print(accuracy_score(y_test_s, y_pred_s))\n",
    "print(classification_report(y_test_s,y_pred_s))"
   ]
  },
  {
   "cell_type": "code",
   "execution_count": 33,
   "metadata": {},
   "outputs": [
    {
     "name": "stdout",
     "output_type": "stream",
     "text": [
      "0.6721311475409836\n",
      "              precision    recall  f1-score   support\n",
      "\n",
      "           0       0.66      0.72      0.69        61\n",
      "           1       0.69      0.62      0.66        61\n",
      "\n",
      "    accuracy                           0.67       122\n",
      "   macro avg       0.67      0.67      0.67       122\n",
      "weighted avg       0.67      0.67      0.67       122\n",
      "\n"
     ]
    }
   ],
   "source": [
    "clf1_s = AdaBoostClassifier(n_estimators=100)\n",
    "clf1_s.fit(X_train_s, y_train_s)\n",
    "y_pred1_s = clf1_s.predict(X_test_s)\n",
    "\n",
    "print(accuracy_score(y_test_s, y_pred1_s))\n",
    "confusion_matrix(y_test_s,y_pred1_s)\n",
    "print(classification_report(y_test_s,y_pred1_s))"
   ]
  },
  {
   "cell_type": "code",
   "execution_count": 34,
   "metadata": {},
   "outputs": [
    {
     "name": "stdout",
     "output_type": "stream",
     "text": [
      "0.7049180327868853\n",
      "              precision    recall  f1-score   support\n",
      "\n",
      "           0       0.70      0.72      0.71        61\n",
      "           1       0.71      0.69      0.70        61\n",
      "\n",
      "    accuracy                           0.70       122\n",
      "   macro avg       0.71      0.70      0.70       122\n",
      "weighted avg       0.71      0.70      0.70       122\n",
      "\n"
     ]
    }
   ],
   "source": [
    "clf2_s = GradientBoostingClassifier(n_estimators=100)\n",
    "clf2_s.fit(X_train_s, y_train_s)\n",
    "y_pred2_s = clf2_s.predict(X_test_s)\n",
    "\n",
    "print(accuracy_score(y_test_s, y_pred2_s))\n",
    "confusion_matrix(y_test_s,y_pred2_s)\n",
    "print(classification_report(y_test_s,y_pred2_s))"
   ]
  },
  {
   "cell_type": "code",
   "execution_count": 61,
   "metadata": {},
   "outputs": [],
   "source": [
    "xtest = [[50,2]]\n",
    "df_test = pd.DataFrame(xtest, columns=[['age','serum_creatinine']])\n",
    "pred = clf_s.predict(df_test)"
   ]
  },
  {
   "cell_type": "code",
   "execution_count": 62,
   "metadata": {},
   "outputs": [
    {
     "data": {
      "text/plain": [
       "array([1], dtype=int64)"
      ]
     },
     "execution_count": 62,
     "metadata": {},
     "output_type": "execute_result"
    }
   ],
   "source": [
    "pred"
   ]
  },
  {
   "cell_type": "code",
   "execution_count": 63,
   "metadata": {},
   "outputs": [],
   "source": [
    "pickle.dump(clf_s,open('clf_model.pkl','wb'))"
   ]
  }
 ],
 "metadata": {
  "interpreter": {
   "hash": "43194bf3e142f237b021dccc6bba9df80509dee6e40c84762ee22f2f499cdf20"
  },
  "kernelspec": {
   "display_name": "Python 3.10.4 64-bit",
   "language": "python",
   "name": "python3"
  },
  "language_info": {
   "codemirror_mode": {
    "name": "ipython",
    "version": 3
   },
   "file_extension": ".py",
   "mimetype": "text/x-python",
   "name": "python",
   "nbconvert_exporter": "python",
   "pygments_lexer": "ipython3",
   "version": "3.10.4"
  },
  "orig_nbformat": 4
 },
 "nbformat": 4,
 "nbformat_minor": 2
}
