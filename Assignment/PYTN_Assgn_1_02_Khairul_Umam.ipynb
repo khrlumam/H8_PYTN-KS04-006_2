{
 "cells": [
  {
   "cell_type": "code",
   "execution_count": 1,
   "metadata": {},
   "outputs": [],
   "source": [
    "import pandas as pd\n",
    "import numpy as np"
   ]
  },
  {
   "cell_type": "code",
   "execution_count": 2,
   "metadata": {},
   "outputs": [],
   "source": [
    "df = pd.read_csv('london_crime_by_lsoa.csv')"
   ]
  },
  {
   "cell_type": "code",
   "execution_count": 3,
   "metadata": {},
   "outputs": [
    {
     "data": {
      "text/plain": [
       "(13490604, 7)"
      ]
     },
     "execution_count": 3,
     "metadata": {},
     "output_type": "execute_result"
    }
   ],
   "source": [
    "df.shape"
   ]
  },
  {
   "cell_type": "markdown",
   "metadata": {},
   "source": [
    "## Getting to Know Data"
   ]
  },
  {
   "cell_type": "code",
   "execution_count": 4,
   "metadata": {},
   "outputs": [
    {
     "data": {
      "text/html": [
       "<div>\n",
       "<style scoped>\n",
       "    .dataframe tbody tr th:only-of-type {\n",
       "        vertical-align: middle;\n",
       "    }\n",
       "\n",
       "    .dataframe tbody tr th {\n",
       "        vertical-align: top;\n",
       "    }\n",
       "\n",
       "    .dataframe thead th {\n",
       "        text-align: right;\n",
       "    }\n",
       "</style>\n",
       "<table border=\"1\" class=\"dataframe\">\n",
       "  <thead>\n",
       "    <tr style=\"text-align: right;\">\n",
       "      <th></th>\n",
       "      <th>lsoa_code</th>\n",
       "      <th>borough</th>\n",
       "      <th>major_category</th>\n",
       "      <th>minor_category</th>\n",
       "      <th>value</th>\n",
       "      <th>year</th>\n",
       "      <th>month</th>\n",
       "    </tr>\n",
       "  </thead>\n",
       "  <tbody>\n",
       "    <tr>\n",
       "      <th>0</th>\n",
       "      <td>E01001116</td>\n",
       "      <td>Croydon</td>\n",
       "      <td>Burglary</td>\n",
       "      <td>Burglary in Other Buildings</td>\n",
       "      <td>0</td>\n",
       "      <td>2016</td>\n",
       "      <td>11</td>\n",
       "    </tr>\n",
       "    <tr>\n",
       "      <th>1</th>\n",
       "      <td>E01001646</td>\n",
       "      <td>Greenwich</td>\n",
       "      <td>Violence Against the Person</td>\n",
       "      <td>Other violence</td>\n",
       "      <td>0</td>\n",
       "      <td>2016</td>\n",
       "      <td>11</td>\n",
       "    </tr>\n",
       "    <tr>\n",
       "      <th>2</th>\n",
       "      <td>E01000677</td>\n",
       "      <td>Bromley</td>\n",
       "      <td>Violence Against the Person</td>\n",
       "      <td>Other violence</td>\n",
       "      <td>0</td>\n",
       "      <td>2015</td>\n",
       "      <td>5</td>\n",
       "    </tr>\n",
       "    <tr>\n",
       "      <th>3</th>\n",
       "      <td>E01003774</td>\n",
       "      <td>Redbridge</td>\n",
       "      <td>Burglary</td>\n",
       "      <td>Burglary in Other Buildings</td>\n",
       "      <td>0</td>\n",
       "      <td>2016</td>\n",
       "      <td>3</td>\n",
       "    </tr>\n",
       "    <tr>\n",
       "      <th>4</th>\n",
       "      <td>E01004563</td>\n",
       "      <td>Wandsworth</td>\n",
       "      <td>Robbery</td>\n",
       "      <td>Personal Property</td>\n",
       "      <td>0</td>\n",
       "      <td>2008</td>\n",
       "      <td>6</td>\n",
       "    </tr>\n",
       "  </tbody>\n",
       "</table>\n",
       "</div>"
      ],
      "text/plain": [
       "   lsoa_code     borough               major_category  \\\n",
       "0  E01001116     Croydon                     Burglary   \n",
       "1  E01001646   Greenwich  Violence Against the Person   \n",
       "2  E01000677     Bromley  Violence Against the Person   \n",
       "3  E01003774   Redbridge                     Burglary   \n",
       "4  E01004563  Wandsworth                      Robbery   \n",
       "\n",
       "                minor_category  value  year  month  \n",
       "0  Burglary in Other Buildings      0  2016     11  \n",
       "1               Other violence      0  2016     11  \n",
       "2               Other violence      0  2015      5  \n",
       "3  Burglary in Other Buildings      0  2016      3  \n",
       "4            Personal Property      0  2008      6  "
      ]
     },
     "execution_count": 4,
     "metadata": {},
     "output_type": "execute_result"
    }
   ],
   "source": [
    "df.head()"
   ]
  },
  {
   "cell_type": "code",
   "execution_count": 5,
   "metadata": {},
   "outputs": [
    {
     "data": {
      "text/plain": [
       "False"
      ]
     },
     "execution_count": 5,
     "metadata": {},
     "output_type": "execute_result"
    }
   ],
   "source": [
    "df.isnull().values.any()"
   ]
  },
  {
   "cell_type": "code",
   "execution_count": 6,
   "metadata": {},
   "outputs": [
    {
     "name": "stdout",
     "output_type": "stream",
     "text": [
      "<class 'pandas.core.frame.DataFrame'>\n",
      "RangeIndex: 13490604 entries, 0 to 13490603\n",
      "Data columns (total 7 columns):\n",
      " #   Column          Dtype \n",
      "---  ------          ----- \n",
      " 0   lsoa_code       object\n",
      " 1   borough         object\n",
      " 2   major_category  object\n",
      " 3   minor_category  object\n",
      " 4   value           int64 \n",
      " 5   year            int64 \n",
      " 6   month           int64 \n",
      "dtypes: int64(3), object(4)\n",
      "memory usage: 720.5+ MB\n"
     ]
    }
   ],
   "source": [
    "df.info()"
   ]
  },
  {
   "cell_type": "code",
   "execution_count": 7,
   "metadata": {},
   "outputs": [
    {
     "data": {
      "text/plain": [
       "array([       0,        1,        2, ..., 13490601, 13490602, 13490603],\n",
       "      dtype=int64)"
      ]
     },
     "execution_count": 7,
     "metadata": {},
     "output_type": "execute_result"
    }
   ],
   "source": [
    "df.index.values"
   ]
  },
  {
   "cell_type": "markdown",
   "metadata": {},
   "source": [
    "## Exploring Dataset"
   ]
  },
  {
   "cell_type": "markdown",
   "metadata": {},
   "source": [
    "Memisahkan data dengan 0 value crime"
   ]
  },
  {
   "cell_type": "code",
   "execution_count": 8,
   "metadata": {},
   "outputs": [],
   "source": [
    "df_not_null = df[df[\"value\"] != 0]"
   ]
  },
  {
   "cell_type": "code",
   "execution_count": 9,
   "metadata": {},
   "outputs": [
    {
     "data": {
      "text/html": [
       "<div>\n",
       "<style scoped>\n",
       "    .dataframe tbody tr th:only-of-type {\n",
       "        vertical-align: middle;\n",
       "    }\n",
       "\n",
       "    .dataframe tbody tr th {\n",
       "        vertical-align: top;\n",
       "    }\n",
       "\n",
       "    .dataframe thead th {\n",
       "        text-align: right;\n",
       "    }\n",
       "</style>\n",
       "<table border=\"1\" class=\"dataframe\">\n",
       "  <thead>\n",
       "    <tr style=\"text-align: right;\">\n",
       "      <th></th>\n",
       "      <th>lsoa_code</th>\n",
       "      <th>borough</th>\n",
       "      <th>major_category</th>\n",
       "      <th>minor_category</th>\n",
       "      <th>value</th>\n",
       "      <th>year</th>\n",
       "      <th>month</th>\n",
       "    </tr>\n",
       "  </thead>\n",
       "  <tbody>\n",
       "    <tr>\n",
       "      <th>9</th>\n",
       "      <td>E01004177</td>\n",
       "      <td>Sutton</td>\n",
       "      <td>Theft and Handling</td>\n",
       "      <td>Theft/Taking of Pedal Cycle</td>\n",
       "      <td>1</td>\n",
       "      <td>2016</td>\n",
       "      <td>8</td>\n",
       "    </tr>\n",
       "    <tr>\n",
       "      <th>16</th>\n",
       "      <td>E01000086</td>\n",
       "      <td>Barking and Dagenham</td>\n",
       "      <td>Theft and Handling</td>\n",
       "      <td>Other Theft Person</td>\n",
       "      <td>1</td>\n",
       "      <td>2009</td>\n",
       "      <td>5</td>\n",
       "    </tr>\n",
       "    <tr>\n",
       "      <th>24</th>\n",
       "      <td>E01001301</td>\n",
       "      <td>Ealing</td>\n",
       "      <td>Theft and Handling</td>\n",
       "      <td>Other Theft Person</td>\n",
       "      <td>2</td>\n",
       "      <td>2012</td>\n",
       "      <td>1</td>\n",
       "    </tr>\n",
       "    <tr>\n",
       "      <th>25</th>\n",
       "      <td>E01001794</td>\n",
       "      <td>Hackney</td>\n",
       "      <td>Violence Against the Person</td>\n",
       "      <td>Harassment</td>\n",
       "      <td>1</td>\n",
       "      <td>2013</td>\n",
       "      <td>2</td>\n",
       "    </tr>\n",
       "    <tr>\n",
       "      <th>32</th>\n",
       "      <td>E01000733</td>\n",
       "      <td>Bromley</td>\n",
       "      <td>Criminal Damage</td>\n",
       "      <td>Criminal Damage To Motor Vehicle</td>\n",
       "      <td>1</td>\n",
       "      <td>2016</td>\n",
       "      <td>4</td>\n",
       "    </tr>\n",
       "    <tr>\n",
       "      <th>...</th>\n",
       "      <td>...</td>\n",
       "      <td>...</td>\n",
       "      <td>...</td>\n",
       "      <td>...</td>\n",
       "      <td>...</td>\n",
       "      <td>...</td>\n",
       "      <td>...</td>\n",
       "    </tr>\n",
       "    <tr>\n",
       "      <th>13490581</th>\n",
       "      <td>E01000789</td>\n",
       "      <td>Bromley</td>\n",
       "      <td>Violence Against the Person</td>\n",
       "      <td>Harassment</td>\n",
       "      <td>3</td>\n",
       "      <td>2009</td>\n",
       "      <td>12</td>\n",
       "    </tr>\n",
       "    <tr>\n",
       "      <th>13490584</th>\n",
       "      <td>E01003301</td>\n",
       "      <td>Lewisham</td>\n",
       "      <td>Violence Against the Person</td>\n",
       "      <td>Assault with Injury</td>\n",
       "      <td>1</td>\n",
       "      <td>2015</td>\n",
       "      <td>10</td>\n",
       "    </tr>\n",
       "    <tr>\n",
       "      <th>13490590</th>\n",
       "      <td>E01001679</td>\n",
       "      <td>Greenwich</td>\n",
       "      <td>Theft and Handling</td>\n",
       "      <td>Theft/Taking Of Motor Vehicle</td>\n",
       "      <td>1</td>\n",
       "      <td>2012</td>\n",
       "      <td>4</td>\n",
       "    </tr>\n",
       "    <tr>\n",
       "      <th>13490592</th>\n",
       "      <td>E01033327</td>\n",
       "      <td>Lewisham</td>\n",
       "      <td>Violence Against the Person</td>\n",
       "      <td>Common Assault</td>\n",
       "      <td>2</td>\n",
       "      <td>2013</td>\n",
       "      <td>7</td>\n",
       "    </tr>\n",
       "    <tr>\n",
       "      <th>13490600</th>\n",
       "      <td>E01002504</td>\n",
       "      <td>Hillingdon</td>\n",
       "      <td>Robbery</td>\n",
       "      <td>Personal Property</td>\n",
       "      <td>1</td>\n",
       "      <td>2015</td>\n",
       "      <td>6</td>\n",
       "    </tr>\n",
       "  </tbody>\n",
       "</table>\n",
       "<p>3419099 rows × 7 columns</p>\n",
       "</div>"
      ],
      "text/plain": [
       "          lsoa_code               borough               major_category  \\\n",
       "9         E01004177                Sutton           Theft and Handling   \n",
       "16        E01000086  Barking and Dagenham           Theft and Handling   \n",
       "24        E01001301                Ealing           Theft and Handling   \n",
       "25        E01001794               Hackney  Violence Against the Person   \n",
       "32        E01000733               Bromley              Criminal Damage   \n",
       "...             ...                   ...                          ...   \n",
       "13490581  E01000789               Bromley  Violence Against the Person   \n",
       "13490584  E01003301              Lewisham  Violence Against the Person   \n",
       "13490590  E01001679             Greenwich           Theft and Handling   \n",
       "13490592  E01033327              Lewisham  Violence Against the Person   \n",
       "13490600  E01002504            Hillingdon                      Robbery   \n",
       "\n",
       "                            minor_category  value  year  month  \n",
       "9              Theft/Taking of Pedal Cycle      1  2016      8  \n",
       "16                      Other Theft Person      1  2009      5  \n",
       "24                      Other Theft Person      2  2012      1  \n",
       "25                              Harassment      1  2013      2  \n",
       "32        Criminal Damage To Motor Vehicle      1  2016      4  \n",
       "...                                    ...    ...   ...    ...  \n",
       "13490581                        Harassment      3  2009     12  \n",
       "13490584               Assault with Injury      1  2015     10  \n",
       "13490590     Theft/Taking Of Motor Vehicle      1  2012      4  \n",
       "13490592                    Common Assault      2  2013      7  \n",
       "13490600                 Personal Property      1  2015      6  \n",
       "\n",
       "[3419099 rows x 7 columns]"
      ]
     },
     "execution_count": 9,
     "metadata": {},
     "output_type": "execute_result"
    }
   ],
   "source": [
    "df_not_null"
   ]
  },
  {
   "cell_type": "code",
   "execution_count": 10,
   "metadata": {},
   "outputs": [
    {
     "data": {
      "text/html": [
       "<div>\n",
       "<style scoped>\n",
       "    .dataframe tbody tr th:only-of-type {\n",
       "        vertical-align: middle;\n",
       "    }\n",
       "\n",
       "    .dataframe tbody tr th {\n",
       "        vertical-align: top;\n",
       "    }\n",
       "\n",
       "    .dataframe thead th {\n",
       "        text-align: right;\n",
       "    }\n",
       "</style>\n",
       "<table border=\"1\" class=\"dataframe\">\n",
       "  <thead>\n",
       "    <tr style=\"text-align: right;\">\n",
       "      <th></th>\n",
       "      <th>value</th>\n",
       "      <th>year</th>\n",
       "      <th>month</th>\n",
       "    </tr>\n",
       "  </thead>\n",
       "  <tbody>\n",
       "    <tr>\n",
       "      <th>count</th>\n",
       "      <td>3.419099e+06</td>\n",
       "      <td>3.419099e+06</td>\n",
       "      <td>3.419099e+06</td>\n",
       "    </tr>\n",
       "    <tr>\n",
       "      <th>mean</th>\n",
       "      <td>1.885806e+00</td>\n",
       "      <td>2.011991e+03</td>\n",
       "      <td>6.511021e+00</td>\n",
       "    </tr>\n",
       "    <tr>\n",
       "      <th>std</th>\n",
       "      <td>3.118902e+00</td>\n",
       "      <td>2.602550e+00</td>\n",
       "      <td>3.422459e+00</td>\n",
       "    </tr>\n",
       "    <tr>\n",
       "      <th>min</th>\n",
       "      <td>1.000000e+00</td>\n",
       "      <td>2.008000e+03</td>\n",
       "      <td>1.000000e+00</td>\n",
       "    </tr>\n",
       "    <tr>\n",
       "      <th>25%</th>\n",
       "      <td>1.000000e+00</td>\n",
       "      <td>2.010000e+03</td>\n",
       "      <td>4.000000e+00</td>\n",
       "    </tr>\n",
       "    <tr>\n",
       "      <th>50%</th>\n",
       "      <td>1.000000e+00</td>\n",
       "      <td>2.012000e+03</td>\n",
       "      <td>7.000000e+00</td>\n",
       "    </tr>\n",
       "    <tr>\n",
       "      <th>75%</th>\n",
       "      <td>2.000000e+00</td>\n",
       "      <td>2.014000e+03</td>\n",
       "      <td>9.000000e+00</td>\n",
       "    </tr>\n",
       "    <tr>\n",
       "      <th>max</th>\n",
       "      <td>3.090000e+02</td>\n",
       "      <td>2.016000e+03</td>\n",
       "      <td>1.200000e+01</td>\n",
       "    </tr>\n",
       "  </tbody>\n",
       "</table>\n",
       "</div>"
      ],
      "text/plain": [
       "              value          year         month\n",
       "count  3.419099e+06  3.419099e+06  3.419099e+06\n",
       "mean   1.885806e+00  2.011991e+03  6.511021e+00\n",
       "std    3.118902e+00  2.602550e+00  3.422459e+00\n",
       "min    1.000000e+00  2.008000e+03  1.000000e+00\n",
       "25%    1.000000e+00  2.010000e+03  4.000000e+00\n",
       "50%    1.000000e+00  2.012000e+03  7.000000e+00\n",
       "75%    2.000000e+00  2.014000e+03  9.000000e+00\n",
       "max    3.090000e+02  2.016000e+03  1.200000e+01"
      ]
     },
     "execution_count": 10,
     "metadata": {},
     "output_type": "execute_result"
    }
   ],
   "source": [
    "df_not_null.describe()"
   ]
  },
  {
   "cell_type": "markdown",
   "metadata": {},
   "source": [
    "melihat data tertinggi dari setiap label pada dataset"
   ]
  },
  {
   "cell_type": "code",
   "execution_count": 11,
   "metadata": {},
   "outputs": [
    {
     "data": {
      "text/plain": [
       "E01004734    2387\n",
       "E01004763    2350\n",
       "E01001043    2156\n",
       "E01004736    2153\n",
       "E01002968    2097\n",
       "             ... \n",
       "E01000005     109\n",
       "E01032775      73\n",
       "E01000002      46\n",
       "E01000001      32\n",
       "E01000003      26\n",
       "Name: lsoa_code, Length: 4835, dtype: int64"
      ]
     },
     "execution_count": 11,
     "metadata": {},
     "output_type": "execute_result"
    }
   ],
   "source": [
    "df_not_null[\"lsoa_code\"].value_counts()"
   ]
  },
  {
   "cell_type": "code",
   "execution_count": 12,
   "metadata": {},
   "outputs": [
    {
     "data": {
      "text/plain": [
       "Lambeth                   152784\n",
       "Croydon                   147203\n",
       "Southwark                 144362\n",
       "Ealing                    140006\n",
       "Newham                    137275\n",
       "Brent                     129925\n",
       "Lewisham                  128232\n",
       "Barnet                    127194\n",
       "Tower Hamlets             120099\n",
       "Wandsworth                118995\n",
       "Enfield                   117953\n",
       "Hackney                   116521\n",
       "Haringey                  116315\n",
       "Waltham Forest            114603\n",
       "Camden                    112029\n",
       "Islington                 111755\n",
       "Hillingdon                110614\n",
       "Westminster               110070\n",
       "Bromley                   109855\n",
       "Hounslow                  106561\n",
       "Redbridge                 105932\n",
       "Greenwich                 104654\n",
       "Hammersmith and Fulham     92084\n",
       "Barking and Dagenham       86849\n",
       "Havering                   82288\n",
       "Kensington and Chelsea     81295\n",
       "Harrow                     73993\n",
       "Bexley                     73948\n",
       "Merton                     73661\n",
       "Sutton                     62776\n",
       "Richmond upon Thames       61857\n",
       "Kingston upon Thames       46846\n",
       "City of London               565\n",
       "Name: borough, dtype: int64"
      ]
     },
     "execution_count": 12,
     "metadata": {},
     "output_type": "execute_result"
    }
   ],
   "source": [
    "df_not_null[\"borough\"].value_counts()"
   ]
  },
  {
   "cell_type": "code",
   "execution_count": 13,
   "metadata": {},
   "outputs": [
    {
     "data": {
      "text/plain": [
       "Theft and Handling             1136994\n",
       "Violence Against the Person     894859\n",
       "Criminal Damage                 466268\n",
       "Burglary                        441209\n",
       "Drugs                           231894\n",
       "Robbery                         163549\n",
       "Other Notifiable Offences        80569\n",
       "Fraud or Forgery                  2682\n",
       "Sexual Offences                   1075\n",
       "Name: major_category, dtype: int64"
      ]
     },
     "execution_count": 13,
     "metadata": {},
     "output_type": "execute_result"
    }
   ],
   "source": [
    "df_not_null[\"major_category\"].value_counts()"
   ]
  },
  {
   "cell_type": "code",
   "execution_count": 14,
   "metadata": {},
   "outputs": [
    {
     "data": {
      "text/plain": [
       "Other Theft                               297281\n",
       "Theft From Motor Vehicle                  291839\n",
       "Burglary in a Dwelling                    278792\n",
       "Assault with Injury                       244990\n",
       "Harassment                                243827\n",
       "Common Assault                            231398\n",
       "Possession Of Drugs                       201464\n",
       "Criminal Damage To Motor Vehicle          179380\n",
       "Theft/Taking Of Motor Vehicle             163069\n",
       "Burglary in Other Buildings               162417\n",
       "Personal Property                         144078\n",
       "Other Theft Person                        121674\n",
       "Criminal Damage To Dwelling               121592\n",
       "Other Criminal Damage                     112449\n",
       "Theft/Taking of Pedal Cycle               104947\n",
       "Theft From Shops                           94947\n",
       "Wounding/GBH                               90482\n",
       "Other Notifiable                           75483\n",
       "Criminal Damage To Other Building          52847\n",
       "Other violence                             50620\n",
       "Motor Vehicle Interference & Tampering     48769\n",
       "Offensive Weapon                           32623\n",
       "Drug Trafficking                           27592\n",
       "Business Property                          19471\n",
       "Handling Stolen Goods                      14468\n",
       "Going Equipped                              5086\n",
       "Other Drugs                                 2838\n",
       "Counted per Victim                          1630\n",
       "Other Fraud & Forgery                       1052\n",
       "Murder                                       919\n",
       "Other Sexual                                 819\n",
       "Rape                                         256\n",
       "Name: minor_category, dtype: int64"
      ]
     },
     "execution_count": 14,
     "metadata": {},
     "output_type": "execute_result"
    }
   ],
   "source": [
    "df_not_null[\"minor_category\"].value_counts()"
   ]
  },
  {
   "cell_type": "code",
   "execution_count": 15,
   "metadata": {},
   "outputs": [
    {
     "data": {
      "text/plain": [
       "2016    392042\n",
       "2008    391242\n",
       "2009    383008\n",
       "2015    381859\n",
       "2010    379349\n",
       "2011    378814\n",
       "2012    377721\n",
       "2014    370384\n",
       "2013    364680\n",
       "Name: year, dtype: int64"
      ]
     },
     "execution_count": 15,
     "metadata": {},
     "output_type": "execute_result"
    }
   ],
   "source": [
    "df_not_null[\"year\"].value_counts()"
   ]
  },
  {
   "cell_type": "code",
   "execution_count": 16,
   "metadata": {},
   "outputs": [
    {
     "data": {
      "text/plain": [
       "7     296151\n",
       "5     293112\n",
       "10    293086\n",
       "6     292346\n",
       "3     288797\n",
       "11    286886\n",
       "8     284054\n",
       "9     282619\n",
       "4     280792\n",
       "1     279966\n",
       "12    271442\n",
       "2     269848\n",
       "Name: month, dtype: int64"
      ]
     },
     "execution_count": 16,
     "metadata": {},
     "output_type": "execute_result"
    }
   ],
   "source": [
    "df_not_null[\"month\"].value_counts()"
   ]
  },
  {
   "cell_type": "markdown",
   "metadata": {},
   "source": [
    "Dari perhitungan setiap label dataset di atas menghasilkan kesimpulan sebagai berikut:\n",
    "- Pada label **lsoa_code** atau area polisi, kode E01004734 menjadi area polisi yang banyak ditempatkan yaitu Westminster yang merupakan area pemerintahan yang ramai di dekat Istana Buckingham\n",
    "- kota **Lambeth** menjadi kota dengan tingkat kriminalitas tertinggi dan kota **City of London** merupakan kota dengan tingkat kriminalitas terendah\n",
    "- Pada label **major_category** Theft and Handling merupakan kriminalitas yang paling sering terjadi sedangkan Sexual Offences kriminalitas yang tidak sering terjadi\n",
    "- Pada label **minor_category** Other Thief merupakan kriminalitas yang paling sering terjadi sedangkan rape merupakan kriminalitas minor yang tidak sering terjadi\n",
    "- Pada label **year** tindak kriminalitas tertinggi terjadi pada tahun 2016 dan terendah pada tahun 2013\n",
    "-  **Juli** merupakan bulan dengan tingkat kriminalitas tertinggi sedangkan **Februari** merupakan bulan dengan tingkat kriminalitas terendah"
   ]
  },
  {
   "cell_type": "markdown",
   "metadata": {},
   "source": [
    "## Querying Dataset"
   ]
  },
  {
   "cell_type": "markdown",
   "metadata": {},
   "source": [
    "Berapakah perubahan jumlah kejadian kejahatan dari tahun 2013 ke tahun 2016?"
   ]
  },
  {
   "cell_type": "markdown",
   "metadata": {},
   "source": [
    "**Mendapatkan informasi data major_category yang terjadi disetiap wilayah  pada tahun 2013 sampai 2016**"
   ]
  },
  {
   "cell_type": "code",
   "execution_count": 17,
   "metadata": {},
   "outputs": [
    {
     "data": {
      "text/plain": [
       "borough         major_category             \n",
       "Lambeth         Theft and Handling             22490\n",
       "Southwark       Theft and Handling             21676\n",
       "Wandsworth      Theft and Handling             20321\n",
       "Lambeth         Violence Against the Person    19831\n",
       "Croydon         Violence Against the Person    19181\n",
       "                                               ...  \n",
       "City of London  Drugs                             21\n",
       "                Robbery                           14\n",
       "                Criminal Damage                   12\n",
       "                Other Notifiable Offences         10\n",
       "                Burglary                           9\n",
       "Length: 231, dtype: int64"
      ]
     },
     "execution_count": 17,
     "metadata": {},
     "output_type": "execute_result"
    }
   ],
   "source": [
    "borough_major_category = df_not_null[[\"borough\",\"major_category\"]][df_not_null.year >= 2013].value_counts(ascending=False)\n",
    "borough_major_category"
   ]
  },
  {
   "cell_type": "markdown",
   "metadata": {},
   "source": [
    "**Mendapatkan informasi data minor_category yang terjadi disetiap wilayah  pada tahun 2013 sampai 2016**"
   ]
  },
  {
   "cell_type": "code",
   "execution_count": 18,
   "metadata": {},
   "outputs": [
    {
     "data": {
      "text/plain": [
       "borough               minor_category          \n",
       "Barnet                Burglary in a Dwelling      6021\n",
       "Lambeth               Other Theft                 5866\n",
       "Southwark             Other Theft                 5473\n",
       "Barnet                Theft From Motor Vehicle    5465\n",
       "Croydon               Other Theft                 5430\n",
       "                                                  ... \n",
       "Hounslow              Murder                         3\n",
       "Bromley               Murder                         3\n",
       "Sutton                Murder                         2\n",
       "City of London        Offensive Weapon               2\n",
       "Richmond upon Thames  Other Drugs                    1\n",
       "Length: 917, dtype: int64"
      ]
     },
     "execution_count": 18,
     "metadata": {},
     "output_type": "execute_result"
    }
   ],
   "source": [
    "borough_minor_category = df_not_null[[\"borough\",\"minor_category\"]][df_not_null.year >= 2013].value_counts(ascending=False)\n",
    "borough_minor_category"
   ]
  },
  {
   "cell_type": "markdown",
   "metadata": {},
   "source": [
    "Mengabungkan data major_category dan minor_category yang terjadi pada tahun 2013 sampai 2016"
   ]
  },
  {
   "cell_type": "code",
   "execution_count": 19,
   "metadata": {},
   "outputs": [
    {
     "data": {
      "text/html": [
       "<div>\n",
       "<style scoped>\n",
       "    .dataframe tbody tr th:only-of-type {\n",
       "        vertical-align: middle;\n",
       "    }\n",
       "\n",
       "    .dataframe tbody tr th {\n",
       "        vertical-align: top;\n",
       "    }\n",
       "\n",
       "    .dataframe thead th {\n",
       "        text-align: right;\n",
       "    }\n",
       "</style>\n",
       "<table border=\"1\" class=\"dataframe\">\n",
       "  <thead>\n",
       "    <tr style=\"text-align: right;\">\n",
       "      <th></th>\n",
       "      <th>borough</th>\n",
       "      <th>major_category</th>\n",
       "      <th>minor_category</th>\n",
       "      <th>year</th>\n",
       "      <th>month</th>\n",
       "      <th>value</th>\n",
       "    </tr>\n",
       "  </thead>\n",
       "  <tbody>\n",
       "    <tr>\n",
       "      <th>9</th>\n",
       "      <td>Sutton</td>\n",
       "      <td>Theft and Handling</td>\n",
       "      <td>Theft/Taking of Pedal Cycle</td>\n",
       "      <td>2016</td>\n",
       "      <td>8</td>\n",
       "      <td>1</td>\n",
       "    </tr>\n",
       "    <tr>\n",
       "      <th>25</th>\n",
       "      <td>Hackney</td>\n",
       "      <td>Violence Against the Person</td>\n",
       "      <td>Harassment</td>\n",
       "      <td>2013</td>\n",
       "      <td>2</td>\n",
       "      <td>1</td>\n",
       "    </tr>\n",
       "    <tr>\n",
       "      <th>32</th>\n",
       "      <td>Bromley</td>\n",
       "      <td>Criminal Damage</td>\n",
       "      <td>Criminal Damage To Motor Vehicle</td>\n",
       "      <td>2016</td>\n",
       "      <td>4</td>\n",
       "      <td>1</td>\n",
       "    </tr>\n",
       "    <tr>\n",
       "      <th>43</th>\n",
       "      <td>Croydon</td>\n",
       "      <td>Theft and Handling</td>\n",
       "      <td>Other Theft</td>\n",
       "      <td>2014</td>\n",
       "      <td>5</td>\n",
       "      <td>1</td>\n",
       "    </tr>\n",
       "    <tr>\n",
       "      <th>57</th>\n",
       "      <td>Hounslow</td>\n",
       "      <td>Violence Against the Person</td>\n",
       "      <td>Wounding/GBH</td>\n",
       "      <td>2015</td>\n",
       "      <td>8</td>\n",
       "      <td>2</td>\n",
       "    </tr>\n",
       "    <tr>\n",
       "      <th>...</th>\n",
       "      <td>...</td>\n",
       "      <td>...</td>\n",
       "      <td>...</td>\n",
       "      <td>...</td>\n",
       "      <td>...</td>\n",
       "      <td>...</td>\n",
       "    </tr>\n",
       "    <tr>\n",
       "      <th>13490572</th>\n",
       "      <td>Greenwich</td>\n",
       "      <td>Criminal Damage</td>\n",
       "      <td>Criminal Damage To Motor Vehicle</td>\n",
       "      <td>2013</td>\n",
       "      <td>8</td>\n",
       "      <td>1</td>\n",
       "    </tr>\n",
       "    <tr>\n",
       "      <th>13490580</th>\n",
       "      <td>Lambeth</td>\n",
       "      <td>Burglary</td>\n",
       "      <td>Burglary in a Dwelling</td>\n",
       "      <td>2015</td>\n",
       "      <td>10</td>\n",
       "      <td>3</td>\n",
       "    </tr>\n",
       "    <tr>\n",
       "      <th>13490584</th>\n",
       "      <td>Lewisham</td>\n",
       "      <td>Violence Against the Person</td>\n",
       "      <td>Assault with Injury</td>\n",
       "      <td>2015</td>\n",
       "      <td>10</td>\n",
       "      <td>1</td>\n",
       "    </tr>\n",
       "    <tr>\n",
       "      <th>13490592</th>\n",
       "      <td>Lewisham</td>\n",
       "      <td>Violence Against the Person</td>\n",
       "      <td>Common Assault</td>\n",
       "      <td>2013</td>\n",
       "      <td>7</td>\n",
       "      <td>2</td>\n",
       "    </tr>\n",
       "    <tr>\n",
       "      <th>13490600</th>\n",
       "      <td>Hillingdon</td>\n",
       "      <td>Robbery</td>\n",
       "      <td>Personal Property</td>\n",
       "      <td>2015</td>\n",
       "      <td>6</td>\n",
       "      <td>1</td>\n",
       "    </tr>\n",
       "  </tbody>\n",
       "</table>\n",
       "<p>1508965 rows × 6 columns</p>\n",
       "</div>"
      ],
      "text/plain": [
       "             borough               major_category  \\\n",
       "9             Sutton           Theft and Handling   \n",
       "25           Hackney  Violence Against the Person   \n",
       "32           Bromley              Criminal Damage   \n",
       "43           Croydon           Theft and Handling   \n",
       "57          Hounslow  Violence Against the Person   \n",
       "...              ...                          ...   \n",
       "13490572   Greenwich              Criminal Damage   \n",
       "13490580     Lambeth                     Burglary   \n",
       "13490584    Lewisham  Violence Against the Person   \n",
       "13490592    Lewisham  Violence Against the Person   \n",
       "13490600  Hillingdon                      Robbery   \n",
       "\n",
       "                            minor_category  year  month  value  \n",
       "9              Theft/Taking of Pedal Cycle  2016      8      1  \n",
       "25                              Harassment  2013      2      1  \n",
       "32        Criminal Damage To Motor Vehicle  2016      4      1  \n",
       "43                             Other Theft  2014      5      1  \n",
       "57                            Wounding/GBH  2015      8      2  \n",
       "...                                    ...   ...    ...    ...  \n",
       "13490572  Criminal Damage To Motor Vehicle  2013      8      1  \n",
       "13490580            Burglary in a Dwelling  2015     10      3  \n",
       "13490584               Assault with Injury  2015     10      1  \n",
       "13490592                    Common Assault  2013      7      2  \n",
       "13490600                 Personal Property  2015      6      1  \n",
       "\n",
       "[1508965 rows x 6 columns]"
      ]
     },
     "execution_count": 19,
     "metadata": {},
     "output_type": "execute_result"
    }
   ],
   "source": [
    "df_crime_2013_2016 = df_not_null[[\"borough\", \"major_category\", \"minor_category\", \"year\", \"month\", \"value\"]][df_not_null.year >= 2013]\n",
    "df_crime_2013_2016"
   ]
  },
  {
   "cell_type": "markdown",
   "metadata": {},
   "source": [
    "## Line Pots"
   ]
  },
  {
   "cell_type": "code",
   "execution_count": 20,
   "metadata": {},
   "outputs": [
    {
     "data": {
      "text/plain": [
       "major_category               year\n",
       "Theft and Handling           2013    306372\n",
       "                             2016    294133\n",
       "                             2015    284022\n",
       "                             2014    279880\n",
       "Violence Against the Person  2016    232381\n",
       "                             2015    218740\n",
       "                             2014    185349\n",
       "                             2013    146181\n",
       "Burglary                     2013     87222\n",
       "                             2014     76053\n",
       "                             2015     70489\n",
       "                             2016     68285\n",
       "Criminal Damage              2016     64071\n",
       "                             2015     62976\n",
       "                             2014     59279\n",
       "                             2013     56206\n",
       "Drugs                        2013     50278\n",
       "                             2014     44435\n",
       "                             2015     39785\n",
       "                             2016     38914\n",
       "Robbery                      2013     29337\n",
       "                             2016     22528\n",
       "                             2014     22150\n",
       "                             2015     21383\n",
       "Other Notifiable Offences    2016     15809\n",
       "                             2015     14229\n",
       "                             2014     13037\n",
       "                             2013     10811\n",
       "Name: value, dtype: int64"
      ]
     },
     "execution_count": 20,
     "metadata": {},
     "output_type": "execute_result"
    }
   ],
   "source": [
    "df_major_crime = df_crime_2013_2016.groupby([\"major_category\", \"year\"]).sum()[\"value\"].sort_values(ascending=False) \n",
    "df_major_crime"
   ]
  },
  {
   "cell_type": "code",
   "execution_count": 21,
   "metadata": {},
   "outputs": [
    {
     "data": {
      "text/html": [
       "<div>\n",
       "<style scoped>\n",
       "    .dataframe tbody tr th:only-of-type {\n",
       "        vertical-align: middle;\n",
       "    }\n",
       "\n",
       "    .dataframe tbody tr th {\n",
       "        vertical-align: top;\n",
       "    }\n",
       "\n",
       "    .dataframe thead th {\n",
       "        text-align: right;\n",
       "    }\n",
       "</style>\n",
       "<table border=\"1\" class=\"dataframe\">\n",
       "  <thead>\n",
       "    <tr style=\"text-align: right;\">\n",
       "      <th>major_category</th>\n",
       "      <th>Burglary</th>\n",
       "      <th>Criminal Damage</th>\n",
       "      <th>Drugs</th>\n",
       "      <th>Other Notifiable Offences</th>\n",
       "      <th>Robbery</th>\n",
       "      <th>Theft and Handling</th>\n",
       "      <th>Violence Against the Person</th>\n",
       "    </tr>\n",
       "    <tr>\n",
       "      <th>year</th>\n",
       "      <th></th>\n",
       "      <th></th>\n",
       "      <th></th>\n",
       "      <th></th>\n",
       "      <th></th>\n",
       "      <th></th>\n",
       "      <th></th>\n",
       "    </tr>\n",
       "  </thead>\n",
       "  <tbody>\n",
       "    <tr>\n",
       "      <th>2013</th>\n",
       "      <td>87222</td>\n",
       "      <td>56206</td>\n",
       "      <td>50278</td>\n",
       "      <td>10811</td>\n",
       "      <td>29337</td>\n",
       "      <td>306372</td>\n",
       "      <td>146181</td>\n",
       "    </tr>\n",
       "    <tr>\n",
       "      <th>2014</th>\n",
       "      <td>76053</td>\n",
       "      <td>59279</td>\n",
       "      <td>44435</td>\n",
       "      <td>13037</td>\n",
       "      <td>22150</td>\n",
       "      <td>279880</td>\n",
       "      <td>185349</td>\n",
       "    </tr>\n",
       "    <tr>\n",
       "      <th>2015</th>\n",
       "      <td>70489</td>\n",
       "      <td>62976</td>\n",
       "      <td>39785</td>\n",
       "      <td>14229</td>\n",
       "      <td>21383</td>\n",
       "      <td>284022</td>\n",
       "      <td>218740</td>\n",
       "    </tr>\n",
       "    <tr>\n",
       "      <th>2016</th>\n",
       "      <td>68285</td>\n",
       "      <td>64071</td>\n",
       "      <td>38914</td>\n",
       "      <td>15809</td>\n",
       "      <td>22528</td>\n",
       "      <td>294133</td>\n",
       "      <td>232381</td>\n",
       "    </tr>\n",
       "  </tbody>\n",
       "</table>\n",
       "</div>"
      ],
      "text/plain": [
       "major_category  Burglary  Criminal Damage  Drugs  Other Notifiable Offences  \\\n",
       "year                                                                          \n",
       "2013               87222            56206  50278                      10811   \n",
       "2014               76053            59279  44435                      13037   \n",
       "2015               70489            62976  39785                      14229   \n",
       "2016               68285            64071  38914                      15809   \n",
       "\n",
       "major_category  Robbery  Theft and Handling  Violence Against the Person  \n",
       "year                                                                      \n",
       "2013              29337              306372                       146181  \n",
       "2014              22150              279880                       185349  \n",
       "2015              21383              284022                       218740  \n",
       "2016              22528              294133                       232381  "
      ]
     },
     "execution_count": 21,
     "metadata": {},
     "output_type": "execute_result"
    }
   ],
   "source": [
    "df_major_crime_trans = df_major_crime.unstack().T\n",
    "df_major_crime_trans"
   ]
  },
  {
   "cell_type": "code",
   "execution_count": 22,
   "metadata": {},
   "outputs": [],
   "source": [
    "%matplotlib inline \n",
    "\n",
    "import matplotlib as mpl\n",
    "import matplotlib.pyplot as plt"
   ]
  },
  {
   "cell_type": "code",
   "execution_count": 23,
   "metadata": {},
   "outputs": [
    {
     "data": {
      "image/png": "[encoded data removed]",
      "text/plain": [
       "<Figure size 1008x576 with 1 Axes>"
      ]
     },
     "metadata": {
      "needs_background": "light"
     },
     "output_type": "display_data"
    }
   ],
   "source": [
    "\n",
    "df_major_crime_trans.plot (kind='line', figsize=(14,8))\n",
    "\n",
    "plt.title('Major Crime in 2013 to 2016')\n",
    "plt.ylabel('Value')\n",
    "plt.xlabel('Years')\n",
    "\n",
    "plt.show()"
   ]
  },
  {
   "cell_type": "code",
   "execution_count": 24,
   "metadata": {},
   "outputs": [
    {
     "data": {
      "image/png": "[encoded data removed]",
      "text/plain": [
       "<Figure size 1008x576 with 1 Axes>"
      ]
     },
     "metadata": {
      "needs_background": "light"
     },
     "output_type": "display_data"
    }
   ],
   "source": [
    "fig, ax = plt.subplots(figsize=(14,8))\n",
    "df_major_crime_trans.plot(kind=\"area\",ax=ax,stacked=False)\n",
    "\n",
    "plt.title('total') # add a title to the area plot\n",
    "plt.ylabel('value') # add y-label\n",
    "plt.xlabel('year') # add x-label\n",
    "\n",
    "plt.legend(loc='upper left')\n",
    "\n",
    "plt.show()"
   ]
  },
  {
   "cell_type": "code",
   "execution_count": 25,
   "metadata": {},
   "outputs": [
    {
     "data": {
      "image/png": "[encoded data removed]",
      "text/plain": [
       "<Figure size 1008x576 with 1 Axes>"
      ]
     },
     "metadata": {
      "needs_background": "light"
     },
     "output_type": "display_data"
    }
   ],
   "source": [
    "df_area = df_crime_2013_2016.groupby(['borough']).sum()['value'].sort_values(ascending=False)\n",
    "df_area.plot(kind='bar', figsize=(14,8))\n",
    "\n",
    "# Set axis to the graphs\n",
    "plt.title(\"Borough crime in the 2013\") # add a title to the area plot\n",
    "plt.ylabel('Total Kejahatan') # add y-label\n",
    "plt.xlabel('Borough') # add x-label\n",
    "\n",
    "plt.show()"
   ]
  },
  {
   "cell_type": "code",
   "execution_count": 26,
   "metadata": {},
   "outputs": [
    {
     "data": {
      "image/png": "[encoded data removed]",
      "text/plain": [
       "<Figure size 1008x576 with 1 Axes>"
      ]
     },
     "metadata": {
      "needs_background": "light"
     },
     "output_type": "display_data"
    }
   ],
   "source": [
    "df_maj = df_crime_2013_2016.groupby(['month']).sum()['value'].sort_values(ascending=True)\n",
    "\n",
    "df_maj.plot(kind=\"bar\", figsize=(14,8))\n",
    "plt.xticks(rotation=40)\n",
    "plt.title(\"Kejahatan Pada Tahun 2013 Berdasarkan Bulan\") # add a title to the area plot\n",
    "plt.ylabel(\"Tingkat Kejahatan\") # add y-label\n",
    "plt.xlabel(\"Bulan\") # add x-label\n",
    "\n",
    "plt.show()"
   ]
  },
  {
   "cell_type": "code",
   "execution_count": 27,
   "metadata": {},
   "outputs": [
    {
     "data": {
      "image/png": "[encoded data removed]",
      "text/plain": [
       "<Figure size 1008x576 with 1 Axes>"
      ]
     },
     "metadata": {},
     "output_type": "display_data"
    }
   ],
   "source": [
    "df_area = df_crime_2013_2016.groupby(['major_category']).sum()['value'].sort_values(ascending=False)\n",
    "df_area.plot(kind='pie', figsize=(14,8), autopct='%1.0f%%')\n",
    "\n",
    "# Set axis to the graphs\n",
    "plt.title(\"Borough crime in the 2013\") # add a title to the area plot\n",
    "plt.ylabel('Total Kejahatan') # add y-label\n",
    "plt.xlabel('Borough') # add x-label\n",
    "\n",
    "plt.show()"
   ]
  },
  {
   "cell_type": "code",
   "execution_count": 28,
   "metadata": {},
   "outputs": [
    {
     "data": {
      "image/png": "[encoded data removed]",
      "text/plain": [
       "<Figure size 432x288 with 1 Axes>"
      ]
     },
     "metadata": {
      "needs_background": "light"
     },
     "output_type": "display_data"
    }
   ],
   "source": [
    "df_crime_2013_2016.year.value_counts().plot(kind='box')\n",
    "\n",
    "plt.title('Data Crime Yang Terjadi Selama Tahun 2013 sampai 2016') # add a title to the area plot\n",
    "plt.ylabel('Total Kasus') # add y-label\n",
    "plt.show()"
   ]
  },
  {
   "cell_type": "code",
   "execution_count": 29,
   "metadata": {},
   "outputs": [],
   "source": [
    "df_crime_2013_2016_month_value = df_crime_2013_2016.copy()"
   ]
  },
  {
   "cell_type": "code",
   "execution_count": 30,
   "metadata": {},
   "outputs": [
    {
     "data": {
      "text/html": [
       "<div>\n",
       "<style scoped>\n",
       "    .dataframe tbody tr th:only-of-type {\n",
       "        vertical-align: middle;\n",
       "    }\n",
       "\n",
       "    .dataframe tbody tr th {\n",
       "        vertical-align: top;\n",
       "    }\n",
       "\n",
       "    .dataframe thead th {\n",
       "        text-align: right;\n",
       "    }\n",
       "</style>\n",
       "<table border=\"1\" class=\"dataframe\">\n",
       "  <thead>\n",
       "    <tr style=\"text-align: right;\">\n",
       "      <th></th>\n",
       "      <th>month</th>\n",
       "    </tr>\n",
       "  </thead>\n",
       "  <tbody>\n",
       "    <tr>\n",
       "      <th>9</th>\n",
       "      <td>8</td>\n",
       "    </tr>\n",
       "    <tr>\n",
       "      <th>25</th>\n",
       "      <td>2</td>\n",
       "    </tr>\n",
       "    <tr>\n",
       "      <th>32</th>\n",
       "      <td>4</td>\n",
       "    </tr>\n",
       "    <tr>\n",
       "      <th>43</th>\n",
       "      <td>5</td>\n",
       "    </tr>\n",
       "    <tr>\n",
       "      <th>57</th>\n",
       "      <td>8</td>\n",
       "    </tr>\n",
       "    <tr>\n",
       "      <th>...</th>\n",
       "      <td>...</td>\n",
       "    </tr>\n",
       "    <tr>\n",
       "      <th>13490572</th>\n",
       "      <td>8</td>\n",
       "    </tr>\n",
       "    <tr>\n",
       "      <th>13490580</th>\n",
       "      <td>10</td>\n",
       "    </tr>\n",
       "    <tr>\n",
       "      <th>13490584</th>\n",
       "      <td>10</td>\n",
       "    </tr>\n",
       "    <tr>\n",
       "      <th>13490592</th>\n",
       "      <td>7</td>\n",
       "    </tr>\n",
       "    <tr>\n",
       "      <th>13490600</th>\n",
       "      <td>6</td>\n",
       "    </tr>\n",
       "  </tbody>\n",
       "</table>\n",
       "<p>1508965 rows × 1 columns</p>\n",
       "</div>"
      ],
      "text/plain": [
       "          month\n",
       "9             8\n",
       "25            2\n",
       "32            4\n",
       "43            5\n",
       "57            8\n",
       "...         ...\n",
       "13490572      8\n",
       "13490580     10\n",
       "13490584     10\n",
       "13490592      7\n",
       "13490600      6\n",
       "\n",
       "[1508965 rows x 1 columns]"
      ]
     },
     "execution_count": 30,
     "metadata": {},
     "output_type": "execute_result"
    }
   ],
   "source": [
    "df_crime_2013_2016_month_value.drop([\"borough\", \"major_category\", \"minor_category\", \"year\", \"value\"], axis=1, inplace=True)\n",
    "df_crime_2013_2016_month_value"
   ]
  },
  {
   "cell_type": "code",
   "execution_count": 31,
   "metadata": {},
   "outputs": [
    {
     "data": {
      "image/png": "[encoded data removed]",
      "text/plain": [
       "<Figure size 792x576 with 1 Axes>"
      ]
     },
     "metadata": {
      "needs_background": "light"
     },
     "output_type": "display_data"
    }
   ],
   "source": [
    "fig = plt.figure(figsize = (11,8))\n",
    "ax = fig.gca()\n",
    "df_crime_2013_2016_month_value.hist(ax=ax,bins=8)\n",
    "plt.show()"
   ]
  },
  {
   "cell_type": "code",
   "execution_count": 32,
   "metadata": {},
   "outputs": [
    {
     "data": {
      "text/plain": [
       "month\n",
       "1     230350\n",
       "2     216506\n",
       "3     234522\n",
       "4     224227\n",
       "5     238120\n",
       "6     236900\n",
       "7     246197\n",
       "8     233830\n",
       "9     230833\n",
       "10    246259\n",
       "11    241522\n",
       "12    235069\n",
       "Name: value, dtype: int64"
      ]
     },
     "execution_count": 32,
     "metadata": {},
     "output_type": "execute_result"
    }
   ],
   "source": [
    "df_month = df_crime_2013_2016.groupby(['month']).sum()['value']\n",
    "df_month"
   ]
  },
  {
   "cell_type": "code",
   "execution_count": 33,
   "metadata": {},
   "outputs": [
    {
     "data": {
      "text/plain": [
       "Text(0, 0.5, 'Number of Criminals')"
      ]
     },
     "execution_count": 33,
     "metadata": {},
     "output_type": "execute_result"
    },
    {
     "data": {
      "image/png": "[encoded data removed]",
      "text/plain": [
       "<Figure size 792x432 with 1 Axes>"
      ]
     },
     "metadata": {
      "needs_background": "light"
     },
     "output_type": "display_data"
    }
   ],
   "source": [
    "pd.DataFrame(df_month).reset_index().plot(kind='scatter',x='month',y='value', figsize=(11, 6))\n",
    "plt.title('Number of Criminals by Month')\n",
    "plt.xlabel('Month')\n",
    "plt.ylabel('Number of Criminals')"
   ]
  },
  {
   "cell_type": "code",
   "execution_count": 34,
   "metadata": {},
   "outputs": [],
   "source": [
    "import folium"
   ]
  },
  {
   "cell_type": "code",
   "execution_count": 36,
   "metadata": {},
   "outputs": [],
   "source": [
    "latitude = 51.509865\n",
    "longitude = -0.118092"
   ]
  },
  {
   "cell_type": "code",
   "execution_count": 37,
   "metadata": {},
   "outputs": [
    {
     "data": {
      "text/html": [
       "<div style=\"width:100%;\"><div style=\"position:relative;width:100%;height:0;padding-bottom:60%;\"><span style=\"color:#565656\">Make this Notebook Trusted to load map: File -> Trust Notebook</span><iframe src=\"about:blank\" style=\"position:absolute;width:100%;height:100%;left:0;top:0;border:none !important;\" data-html=%3C%21DOCTYPE%20html%3E%0A%3Chead%3E%20%20%20%20%0A%20%20%20%20%3Cmeta%20http-equiv%3D%22content-type%22%20content%3D%22text/html%3B%20charset%3DUTF-8%22%20/%3E%0A%20%20%20%20%0A%20%20%20%20%20%20%20%20%3Cscript%3E%0A%20%20%20%20%20%20%20%20%20%20%20%20L_NO_TOUCH%20%3D%20false%3B%0A%20%20%20%20%20%20%20%20%20%20%20%20L_DISABLE_3D%20%3D%20false%3B%0A%20%20%20%20%20%20%20%20%3C/script%3E%0A%20%20%20%20%0A%20%20%20%20%3Cstyle%3Ehtml%2C%20body%20%7Bwidth%3A%20100%25%3Bheight%3A%20100%25%3Bmargin%3A%200%3Bpadding%3A%200%3B%7D%3C/style%3E%0A%20%20%20%20%3Cstyle%3E%23map%20%7Bposition%3Aabsolute%3Btop%3A0%3Bbottom%3A0%3Bright%3A0%3Bleft%3A0%3B%7D%3C/style%3E%0A%20%20%20%20%3Cscript%20src%3D%22https%3A//cdn.jsdelivr.net/npm/leaflet%401.6.0/dist/leaflet.js%22%3E%3C/script%3E%0A%20%20%20%20%3Cscript%20src%3D%22https%3A//code.jquery.com/jquery-1.12.4.min.js%22%3E%3C/script%3E%0A%20%20%20%20%3Cscript%20src%3D%22https%3A//maxcdn.bootstrapcdn.com/bootstrap/3.2.0/js/bootstrap.min.js%22%3E%3C/script%3E%0A%20%20%20%20%3Cscript%20src%3D%22https%3A//cdnjs.cloudflare.com/ajax/libs/Leaflet.awesome-markers/2.0.2/leaflet.awesome-markers.js%22%3E%3C/script%3E%0A%20%20%20%20%3Clink%20rel%3D%22stylesheet%22%20href%3D%22https%3A//cdn.jsdelivr.net/npm/leaflet%401.6.0/dist/leaflet.css%22/%3E%0A%20%20%20%20%3Clink%20rel%3D%22stylesheet%22%20href%3D%22https%3A//maxcdn.bootstrapcdn.com/bootstrap/3.2.0/css/bootstrap.min.css%22/%3E%0A%20%20%20%20%3Clink%20rel%3D%22stylesheet%22%20href%3D%22https%3A//maxcdn.bootstrapcdn.com/bootstrap/3.2.0/css/bootstrap-theme.min.css%22/%3E%0A%20%20%20%20%3Clink%20rel%3D%22stylesheet%22%20href%3D%22https%3A//maxcdn.bootstrapcdn.com/font-awesome/4.6.3/css/font-awesome.min.css%22/%3E%0A%20%20%20%20%3Clink%20rel%3D%22stylesheet%22%20href%3D%22https%3A//cdnjs.cloudflare.com/ajax/libs/Leaflet.awesome-markers/2.0.2/leaflet.awesome-markers.css%22/%3E%0A%20%20%20%20%3Clink%20rel%3D%22stylesheet%22%20href%3D%22https%3A//cdn.jsdelivr.net/gh/python-visualization/folium/folium/templates/leaflet.awesome.rotate.min.css%22/%3E%0A%20%20%20%20%0A%20%20%20%20%20%20%20%20%20%20%20%20%3Cmeta%20name%3D%22viewport%22%20content%3D%22width%3Ddevice-width%2C%0A%20%20%20%20%20%20%20%20%20%20%20%20%20%20%20%20initial-scale%3D1.0%2C%20maximum-scale%3D1.0%2C%20user-scalable%3Dno%22%20/%3E%0A%20%20%20%20%20%20%20%20%20%20%20%20%3Cstyle%3E%0A%20%20%20%20%20%20%20%20%20%20%20%20%20%20%20%20%23map_b96b4a1c53ab445388cba375c8497951%20%7B%0A%20%20%20%20%20%20%20%20%20%20%20%20%20%20%20%20%20%20%20%20position%3A%20relative%3B%0A%20%20%20%20%20%20%20%20%20%20%20%20%20%20%20%20%20%20%20%20width%3A%20100.0%25%3B%0A%20%20%20%20%20%20%20%20%20%20%20%20%20%20%20%20%20%20%20%20height%3A%20100.0%25%3B%0A%20%20%20%20%20%20%20%20%20%20%20%20%20%20%20%20%20%20%20%20left%3A%200.0%25%3B%0A%20%20%20%20%20%20%20%20%20%20%20%20%20%20%20%20%20%20%20%20top%3A%200.0%25%3B%0A%20%20%20%20%20%20%20%20%20%20%20%20%20%20%20%20%7D%0A%20%20%20%20%20%20%20%20%20%20%20%20%3C/style%3E%0A%20%20%20%20%20%20%20%20%0A%3C/head%3E%0A%3Cbody%3E%20%20%20%20%0A%20%20%20%20%0A%20%20%20%20%20%20%20%20%20%20%20%20%3Cdiv%20class%3D%22folium-map%22%20id%3D%22map_b96b4a1c53ab445388cba375c8497951%22%20%3E%3C/div%3E%0A%20%20%20%20%20%20%20%20%0A%3C/body%3E%0A%3Cscript%3E%20%20%20%20%0A%20%20%20%20%0A%20%20%20%20%20%20%20%20%20%20%20%20var%20map_b96b4a1c53ab445388cba375c8497951%20%3D%20L.map%28%0A%20%20%20%20%20%20%20%20%20%20%20%20%20%20%20%20%22map_b96b4a1c53ab445388cba375c8497951%22%2C%0A%20%20%20%20%20%20%20%20%20%20%20%20%20%20%20%20%7B%0A%20%20%20%20%20%20%20%20%20%20%20%20%20%20%20%20%20%20%20%20center%3A%20%5B51.509865%2C%20-0.118092%5D%2C%0A%20%20%20%20%20%20%20%20%20%20%20%20%20%20%20%20%20%20%20%20crs%3A%20L.CRS.EPSG3857%2C%0A%20%20%20%20%20%20%20%20%20%20%20%20%20%20%20%20%20%20%20%20zoom%3A%2013%2C%0A%20%20%20%20%20%20%20%20%20%20%20%20%20%20%20%20%20%20%20%20zoomControl%3A%20true%2C%0A%20%20%20%20%20%20%20%20%20%20%20%20%20%20%20%20%20%20%20%20preferCanvas%3A%20false%2C%0A%20%20%20%20%20%20%20%20%20%20%20%20%20%20%20%20%7D%0A%20%20%20%20%20%20%20%20%20%20%20%20%29%3B%0A%0A%20%20%20%20%20%20%20%20%20%20%20%20%0A%0A%20%20%20%20%20%20%20%20%0A%20%20%20%20%0A%20%20%20%20%20%20%20%20%20%20%20%20var%20tile_layer_761bc690c00a40509294563b83d3b1cb%20%3D%20L.tileLayer%28%0A%20%20%20%20%20%20%20%20%20%20%20%20%20%20%20%20%22https%3A//%7Bs%7D.tile.openstreetmap.org/%7Bz%7D/%7Bx%7D/%7By%7D.png%22%2C%0A%20%20%20%20%20%20%20%20%20%20%20%20%20%20%20%20%7B%22attribution%22%3A%20%22Data%20by%20%5Cu0026copy%3B%20%5Cu003ca%20href%3D%5C%22http%3A//openstreetmap.org%5C%22%5Cu003eOpenStreetMap%5Cu003c/a%5Cu003e%2C%20under%20%5Cu003ca%20href%3D%5C%22http%3A//www.openstreetmap.org/copyright%5C%22%5Cu003eODbL%5Cu003c/a%5Cu003e.%22%2C%20%22detectRetina%22%3A%20false%2C%20%22maxNativeZoom%22%3A%2018%2C%20%22maxZoom%22%3A%2018%2C%20%22minZoom%22%3A%200%2C%20%22noWrap%22%3A%20false%2C%20%22opacity%22%3A%201%2C%20%22subdomains%22%3A%20%22abc%22%2C%20%22tms%22%3A%20false%7D%0A%20%20%20%20%20%20%20%20%20%20%20%20%29.addTo%28map_b96b4a1c53ab445388cba375c8497951%29%3B%0A%20%20%20%20%20%20%20%20%0A%3C/script%3E onload=\"this.contentDocument.open();this.contentDocument.write(    decodeURIComponent(this.getAttribute('data-html')));this.contentDocument.close();\" allowfullscreen webkitallowfullscreen mozallowfullscreen></iframe></div></div>"
      ],
      "text/plain": [
       "<folium.folium.Map at 0x18a01018970>"
      ]
     },
     "execution_count": 37,
     "metadata": {},
     "output_type": "execute_result"
    }
   ],
   "source": [
    "london_map = folium.Map(location=[latitude, longitude], zoom_start=13)\n",
    "london_map"
   ]
  },
  {
   "cell_type": "code",
   "execution_count": null,
   "metadata": {},
   "outputs": [],
   "source": []
  }
 ],
 "metadata": {
  "interpreter": {
   "hash": "f8f45152ccf7918f6cd8b4e3ba624d172342f0a9b48066c19659501acc67e047"
  },
  "kernelspec": {
   "display_name": "Python 3.10.2 64-bit",
   "language": "python",
   "name": "python3"
  },
  "language_info": {
   "codemirror_mode": {
    "name": "ipython",
    "version": 3
   },
   "file_extension": ".py",
   "mimetype": "text/x-python",
   "name": "python",
   "nbconvert_exporter": "python",
   "pygments_lexer": "ipython3",
   "version": "3.10.2"
  },
  "orig_nbformat": 4
 },
 "nbformat": 4,
 "nbformat_minor": 2
}
