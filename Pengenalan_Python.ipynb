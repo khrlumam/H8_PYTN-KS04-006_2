{
  "nbformat": 4,
  "nbformat_minor": 0,
  "metadata": {
    "colab": {
      "name": "Pengenalan Python.ipynb",
      "provenance": [],
      "collapsed_sections": []
    },
    "kernelspec": {
      "name": "python3",
      "display_name": "Python 3"
    },
    "language_info": {
      "name": "python"
    }
  },
  "cells": [
    {
      "cell_type": "code",
      "execution_count": 1,
      "metadata": {
        "colab": {
          "base_uri": "https://localhost:8080/"
        },
        "id": "td323Y3Dcarr",
        "outputId": "1a9ae281-70d0-46ad-a56d-d91dbffb0f5c"
      },
      "outputs": [
        {
          "output_type": "stream",
          "name": "stdout",
          "text": [
            "123123123123123123123123123123123123123123123124\n"
          ]
        }
      ],
      "source": [
        "print(123123123123123123123123123123123123123123123123 + 1)"
      ]
    },
    {
      "cell_type": "code",
      "source": [
        "print(10)\n",
        "print(type(10))"
      ],
      "metadata": {
        "colab": {
          "base_uri": "https://localhost:8080/"
        },
        "id": "BIw_Il-hewHQ",
        "outputId": "b55804b1-268d-4bef-8238-7a9098e33549"
      },
      "execution_count": 2,
      "outputs": [
        {
          "output_type": "stream",
          "name": "stdout",
          "text": [
            "10\n",
            "<class 'int'>\n"
          ]
        }
      ]
    },
    {
      "cell_type": "code",
      "source": [
        "print(4.2)\n",
        "print (type (4.2))\n",
        "print(4.)\n",
        "print(.2)\n",
        "print(.4e7)\n",
        "print(4.2e-4)"
      ],
      "metadata": {
        "colab": {
          "base_uri": "https://localhost:8080/"
        },
        "id": "EkA304Qae8X-",
        "outputId": "deb4b6ee-8955-40f3-b1c5-36d459d31af3"
      },
      "execution_count": 3,
      "outputs": [
        {
          "output_type": "stream",
          "name": "stdout",
          "text": [
            "4.2\n",
            "<class 'float'>\n",
            "4.0\n",
            "0.2\n",
            "4000000.0\n",
            "0.00042\n"
          ]
        }
      ]
    },
    {
      "cell_type": "code",
      "source": [
        "print(\"Hactive8\")\n",
        "print(type(\"Hactive*\"))"
      ],
      "metadata": {
        "colab": {
          "base_uri": "https://localhost:8080/"
        },
        "id": "ai4mRPXpfE0C",
        "outputId": "4f68661b-2028-4709-9dee-0a0eaa7e394a"
      },
      "execution_count": 5,
      "outputs": [
        {
          "output_type": "stream",
          "name": "stdout",
          "text": [
            "Hactive8\n",
            "<class 'str'>\n"
          ]
        }
      ]
    },
    {
      "cell_type": "code",
      "source": [
        "print('')\n",
        "print(\"This string contains a single quote (') character.\")\n",
        "print('This string contains a double quote (\") character.')"
      ],
      "metadata": {
        "colab": {
          "base_uri": "https://localhost:8080/"
        },
        "id": "vq2QZigZfNpT",
        "outputId": "0b2112d2-1ca3-49f6-b83d-51a5b3a36182"
      },
      "execution_count": 6,
      "outputs": [
        {
          "output_type": "stream",
          "name": "stdout",
          "text": [
            "\n",
            "This string contains a single quote (') character.\n",
            "This string contains a double quote (\") character.\n"
          ]
        }
      ]
    },
    {
      "cell_type": "code",
      "source": [
        "print(type(True))\n",
        "print(type(False))"
      ],
      "metadata": {
        "colab": {
          "base_uri": "https://localhost:8080/"
        },
        "id": "ji1x0hXZfdO4",
        "outputId": "38aa848c-a309-4028-f69d-5c46d0ae6635"
      },
      "execution_count": 7,
      "outputs": [
        {
          "output_type": "stream",
          "name": "stdout",
          "text": [
            "<class 'bool'>\n",
            "<class 'bool'>\n"
          ]
        }
      ]
    },
    {
      "cell_type": "code",
      "source": [
        "n = 300\n",
        "print(n)"
      ],
      "metadata": {
        "colab": {
          "base_uri": "https://localhost:8080/"
        },
        "id": "U0__onGEfi79",
        "outputId": "ca4825ad-484e-4b69-c769-8229d299a526"
      },
      "execution_count": 8,
      "outputs": [
        {
          "output_type": "stream",
          "name": "stdout",
          "text": [
            "300\n"
          ]
        }
      ]
    },
    {
      "cell_type": "code",
      "source": [
        "n"
      ],
      "metadata": {
        "colab": {
          "base_uri": "https://localhost:8080/"
        },
        "id": "hjZMyFcefq0q",
        "outputId": "c2cad340-8b09-4b35-c4a1-f626890a7585"
      },
      "execution_count": 9,
      "outputs": [
        {
          "output_type": "execute_result",
          "data": {
            "text/plain": [
              "300"
            ]
          },
          "metadata": {},
          "execution_count": 9
        }
      ]
    },
    {
      "cell_type": "code",
      "source": [
        "n = 100 \n",
        "print(n)\n",
        "\n",
        "\n",
        "n"
      ],
      "metadata": {
        "colab": {
          "base_uri": "https://localhost:8080/"
        },
        "id": "4dOp6QJifrhJ",
        "outputId": "dc7e011d-c984-427e-a518-f1208a046542"
      },
      "execution_count": 10,
      "outputs": [
        {
          "output_type": "stream",
          "name": "stdout",
          "text": [
            "100\n"
          ]
        },
        {
          "output_type": "execute_result",
          "data": {
            "text/plain": [
              "100"
            ]
          },
          "metadata": {},
          "execution_count": 10
        }
      ]
    },
    {
      "cell_type": "code",
      "source": [
        "a = b = c = 300\n",
        "print(a,b,c)"
      ],
      "metadata": {
        "colab": {
          "base_uri": "https://localhost:8080/"
        },
        "id": "4hHIYL7Ifvvj",
        "outputId": "2e47c812-86b2-4443-dfcb-4f788ac18a7d"
      },
      "execution_count": 11,
      "outputs": [
        {
          "output_type": "stream",
          "name": "stdout",
          "text": [
            "300 300 300\n"
          ]
        }
      ]
    },
    {
      "cell_type": "code",
      "source": [
        "var = 23.5\n",
        "print(var)\n",
        "var = \"Now I'm a string\"\n",
        "print(var)"
      ],
      "metadata": {
        "colab": {
          "base_uri": "https://localhost:8080/"
        },
        "id": "hrWu1NxSf10y",
        "outputId": "7216c008-09bf-4588-db32-8426e65a95ad"
      },
      "execution_count": 12,
      "outputs": [
        {
          "output_type": "stream",
          "name": "stdout",
          "text": [
            "23.5\n",
            "Now I'm a string\n"
          ]
        }
      ]
    },
    {
      "cell_type": "code",
      "source": [
        "name = \"Hacktiv8\"\n",
        "Age = 54\n",
        "has_laptops = True\n",
        "print(name, Age, has_laptops)"
      ],
      "metadata": {
        "colab": {
          "base_uri": "https://localhost:8080/"
        },
        "id": "foKJrzS1f_MH",
        "outputId": "11f212b0-7642-46f2-e615-610031f1f943"
      },
      "execution_count": 13,
      "outputs": [
        {
          "output_type": "stream",
          "name": "stdout",
          "text": [
            "Hacktiv8 54 True\n"
          ]
        }
      ]
    },
    {
      "cell_type": "code",
      "source": [
        "9_kepala_naga = True"
      ],
      "metadata": {
        "colab": {
          "base_uri": "https://localhost:8080/",
          "height": 130
        },
        "id": "suV9_TGygGCB",
        "outputId": "b7ad5e69-ebd9-40bb-b753-0936459b67b8"
      },
      "execution_count": 14,
      "outputs": [
        {
          "output_type": "error",
          "ename": "SyntaxError",
          "evalue": "ignored",
          "traceback": [
            "\u001b[0;36m  File \u001b[0;32m\"<ipython-input-14-737512de54da>\"\u001b[0;36m, line \u001b[0;32m1\u001b[0m\n\u001b[0;31m    9_kepala_naga = True\u001b[0m\n\u001b[0m     ^\u001b[0m\n\u001b[0;31mSyntaxError\u001b[0m\u001b[0;31m:\u001b[0m invalid token\n"
          ]
        }
      ]
    },
    {
      "cell_type": "code",
      "source": [
        "age = 1\n",
        "Age = 2\n",
        "aGe = 3\n",
        "AGE = 4\n",
        "a_g_e = 5\n",
        "_age = 6\n",
        "age_ = 7\n",
        "_AGE_ = 8\n",
        "print(age, Age, aGe, AGE, a_g_e, _age, age_ ,_AGE_)"
      ],
      "metadata": {
        "colab": {
          "base_uri": "https://localhost:8080/"
        },
        "id": "H5q9E0IggLnY",
        "outputId": "dc5866d4-b771-4a6a-e575-070840dae6a6"
      },
      "execution_count": 15,
      "outputs": [
        {
          "output_type": "stream",
          "name": "stdout",
          "text": [
            "1 2 3 4 5 6 7 8\n"
          ]
        }
      ]
    },
    {
      "cell_type": "code",
      "source": [
        "a = 10\n",
        "b = 20\n",
        "a + b"
      ],
      "metadata": {
        "colab": {
          "base_uri": "https://localhost:8080/"
        },
        "id": "93mDYm1agbzj",
        "outputId": "c9a61b96-7150-45f1-80c3-2c4ab51c95c3"
      },
      "execution_count": 16,
      "outputs": [
        {
          "output_type": "execute_result",
          "data": {
            "text/plain": [
              "30"
            ]
          },
          "metadata": {},
          "execution_count": 16
        }
      ]
    },
    {
      "cell_type": "code",
      "source": [
        "a + b -5"
      ],
      "metadata": {
        "colab": {
          "base_uri": "https://localhost:8080/"
        },
        "id": "CfE7Okwtghgm",
        "outputId": "d8f72d97-7a24-41c0-d863-5a82f9f2dcbf"
      },
      "execution_count": 17,
      "outputs": [
        {
          "output_type": "execute_result",
          "data": {
            "text/plain": [
              "25"
            ]
          },
          "metadata": {},
          "execution_count": 17
        }
      ]
    },
    {
      "cell_type": "code",
      "source": [
        "a =4\n",
        "b = 3\n",
        "print(a + b)\n",
        "print (a - b)\n",
        "print(a * b)\n",
        "print(a/b)\n",
        "print(a % b)\n",
        "print(a ** b)"
      ],
      "metadata": {
        "colab": {
          "base_uri": "https://localhost:8080/"
        },
        "id": "ace2s0OXglLm",
        "outputId": "fe5980d1-17a9-4416-8e1c-6948c00aa0dc"
      },
      "execution_count": 18,
      "outputs": [
        {
          "output_type": "stream",
          "name": "stdout",
          "text": [
            "7\n",
            "1\n",
            "12\n",
            "1.3333333333333333\n",
            "1\n",
            "64\n"
          ]
        }
      ]
    },
    {
      "cell_type": "code",
      "source": [
        "10/5"
      ],
      "metadata": {
        "colab": {
          "base_uri": "https://localhost:8080/"
        },
        "id": "bnPWa-8fgvFz",
        "outputId": "053ffd7a-705b-4549-e7fa-06a5d7c08387"
      },
      "execution_count": 19,
      "outputs": [
        {
          "output_type": "execute_result",
          "data": {
            "text/plain": [
              "2.0"
            ]
          },
          "metadata": {},
          "execution_count": 19
        }
      ]
    },
    {
      "cell_type": "code",
      "source": [
        "a = 10\n",
        "b = 20\n",
        "print(a == b)\n",
        "print(a != b)\n",
        "print(a <= b)\n",
        "print(a >= b)\n",
        "a = 30\n",
        "b = 30\n",
        "print(a == b)\n",
        "print(a <= b)\n",
        "print(a >= b)"
      ],
      "metadata": {
        "colab": {
          "base_uri": "https://localhost:8080/"
        },
        "id": "vc4ogQmsgx6F",
        "outputId": "f7b83864-cdbc-460c-e08b-a98f9ae5c1d4"
      },
      "execution_count": 20,
      "outputs": [
        {
          "output_type": "stream",
          "name": "stdout",
          "text": [
            "False\n",
            "True\n",
            "True\n",
            "False\n",
            "True\n",
            "True\n",
            "True\n"
          ]
        }
      ]
    },
    {
      "cell_type": "code",
      "source": [
        "s = 'foo'\n",
        "t ='bar'\n",
        "u = 'baz'\n",
        "print(s + t)\n",
        "print(s + t + u)\n",
        "print('Hacktiv8 ' + 'PTP')"
      ],
      "metadata": {
        "colab": {
          "base_uri": "https://localhost:8080/"
        },
        "id": "btEjm-mog_6P",
        "outputId": "818a0040-7c84-400e-a673-cc113851c5c4"
      },
      "execution_count": 24,
      "outputs": [
        {
          "output_type": "stream",
          "name": "stdout",
          "text": [
            "foobar\n",
            "foobarbaz\n",
            "Hacktiv8 PTP\n"
          ]
        }
      ]
    },
    {
      "cell_type": "code",
      "source": [
        "s = 'foo.'\n",
        "s*4"
      ],
      "metadata": {
        "colab": {
          "base_uri": "https://localhost:8080/",
          "height": 35
        },
        "id": "8lPgwRqehO0c",
        "outputId": "cc248261-01eb-4ccf-a306-7ba4fec34d14"
      },
      "execution_count": 26,
      "outputs": [
        {
          "output_type": "execute_result",
          "data": {
            "application/vnd.google.colaboratory.intrinsic+json": {
              "type": "string"
            },
            "text/plain": [
              "'foo.foo.foo.foo.'"
            ]
          },
          "metadata": {},
          "execution_count": 26
        }
      ]
    },
    {
      "cell_type": "code",
      "source": [
        "s = 'foo'\n",
        "print(s in 'That food for us')\n",
        "print(s in 'That good for us')"
      ],
      "metadata": {
        "colab": {
          "base_uri": "https://localhost:8080/"
        },
        "id": "sIDTN-yXhaJA",
        "outputId": "87f61c69-3b8f-4348-c2b8-f9b6881c8488"
      },
      "execution_count": 27,
      "outputs": [
        {
          "output_type": "stream",
          "name": "stdout",
          "text": [
            "True\n",
            "False\n"
          ]
        }
      ]
    },
    {
      "cell_type": "code",
      "source": [
        "# Case Conversion\n",
        "s = \"HackTIV8\"\n",
        "# Capitalize\n",
        "print (s.capitalize())\n",
        "# Lower\n",
        "print(s.lower())\n",
        "# Swapcase\n",
        "print(s.swapcase())\n",
        "# Title\n",
        "print(s.title())\n",
        "# Uppercase\n",
        "print(s.upper())"
      ],
      "metadata": {
        "colab": {
          "base_uri": "https://localhost:8080/"
        },
        "id": "mP2YazhEhoFR",
        "outputId": "db92254b-5a77-4049-a745-0358d09fdcf4"
      },
      "execution_count": 29,
      "outputs": [
        {
          "output_type": "stream",
          "name": "stdout",
          "text": [
            "Hacktiv8\n",
            "hacktiv8\n",
            "hACKtiv8\n",
            "Hacktiv8\n",
            "HACKTIV8\n"
          ]
        }
      ]
    },
    {
      "cell_type": "code",
      "source": [
        "a = ['foo','bar','baz','qux']\n",
        "print(a)"
      ],
      "metadata": {
        "colab": {
          "base_uri": "https://localhost:8080/"
        },
        "id": "AEV_Yve7h2gm",
        "outputId": "f0d2ebd1-e26d-49f1-f4d6-512259b0a974"
      },
      "execution_count": 30,
      "outputs": [
        {
          "output_type": "stream",
          "name": "stdout",
          "text": [
            "['foo', 'bar', 'baz', 'qux']\n"
          ]
        }
      ]
    },
    {
      "cell_type": "code",
      "source": [
        "a = ['foo','bar','baz','qux']\n",
        "b = ['baz','qux', 'bar','foo']\n",
        "a == b"
      ],
      "metadata": {
        "colab": {
          "base_uri": "https://localhost:8080/"
        },
        "id": "ZBKXWdU1iSx9",
        "outputId": "37527d95-74a0-44af-8ba2-db54c41c524c"
      },
      "execution_count": 32,
      "outputs": [
        {
          "output_type": "execute_result",
          "data": {
            "text/plain": [
              "False"
            ]
          },
          "metadata": {},
          "execution_count": 32
        }
      ]
    },
    {
      "cell_type": "code",
      "source": [
        "a = [21.42, 'foobar', 3, 4, 'bark', False, 3.14159]\n",
        "print(a)"
      ],
      "metadata": {
        "colab": {
          "base_uri": "https://localhost:8080/"
        },
        "id": "wfmI56ZSidSW",
        "outputId": "9d94f111-7d83-4ddb-e57b-f0e5f2508b93"
      },
      "execution_count": 34,
      "outputs": [
        {
          "output_type": "stream",
          "name": "stdout",
          "text": [
            "[21.42, 'foobar', 3, 4, 'bark', False, 3.14159]\n"
          ]
        }
      ]
    },
    {
      "cell_type": "code",
      "source": [
        "a = ['foo', 'bar', 'baz', 'qux', 'quux', 'corge']\n",
        "print(a[0])\n",
        "print(a[5])"
      ],
      "metadata": {
        "colab": {
          "base_uri": "https://localhost:8080/"
        },
        "id": "8ze7JiTPimIA",
        "outputId": "199a851d-12bc-47bc-ab82-0dee921acff3"
      },
      "execution_count": 35,
      "outputs": [
        {
          "output_type": "stream",
          "name": "stdout",
          "text": [
            "foo\n",
            "corge\n"
          ]
        }
      ]
    },
    {
      "cell_type": "code",
      "source": [
        "print(a[-1])\n",
        "print(a[-6])"
      ],
      "metadata": {
        "colab": {
          "base_uri": "https://localhost:8080/"
        },
        "id": "upHpHn6_i0TO",
        "outputId": "35cea920-e109-4f5e-b119-189bf8d2ae99"
      },
      "execution_count": 36,
      "outputs": [
        {
          "output_type": "stream",
          "name": "stdout",
          "text": [
            "corge\n",
            "foo\n"
          ]
        }
      ]
    },
    {
      "cell_type": "code",
      "source": [
        "a[2:5]"
      ],
      "metadata": {
        "colab": {
          "base_uri": "https://localhost:8080/"
        },
        "id": "n5NrlQ-6i55b",
        "outputId": "07df3c26-ec30-421f-cd70-99ba47110551"
      },
      "execution_count": 37,
      "outputs": [
        {
          "output_type": "execute_result",
          "data": {
            "text/plain": [
              "['baz', 'qux', 'quux']"
            ]
          },
          "metadata": {},
          "execution_count": 37
        }
      ]
    },
    {
      "cell_type": "code",
      "source": [
        "print(a)\n",
        "print(a + ['grault', 'garply'])\n",
        "print(a*2)"
      ],
      "metadata": {
        "colab": {
          "base_uri": "https://localhost:8080/"
        },
        "id": "AmtTYFMsjAaP",
        "outputId": "d51b12bb-8955-4b87-aefb-66c88ef761f3"
      },
      "execution_count": 38,
      "outputs": [
        {
          "output_type": "stream",
          "name": "stdout",
          "text": [
            "['foo', 'bar', 'baz', 'qux', 'quux', 'corge']\n",
            "['foo', 'bar', 'baz', 'qux', 'quux', 'corge', 'grault', 'garply']\n",
            "['foo', 'bar', 'baz', 'qux', 'quux', 'corge', 'foo', 'bar', 'baz', 'qux', 'quux', 'corge']\n"
          ]
        }
      ]
    },
    {
      "cell_type": "code",
      "source": [
        "print(a)\n",
        "print(len(a))\n",
        "print(min(a))\n",
        "print(max(a))"
      ],
      "metadata": {
        "colab": {
          "base_uri": "https://localhost:8080/"
        },
        "id": "ozrtpIwdjrIa",
        "outputId": "c81ef15e-50d0-459c-f152-c712f3d1aeed"
      },
      "execution_count": 39,
      "outputs": [
        {
          "output_type": "stream",
          "name": "stdout",
          "text": [
            "['foo', 'bar', 'baz', 'qux', 'quux', 'corge']\n",
            "6\n",
            "bar\n",
            "qux\n"
          ]
        }
      ]
    },
    {
      "cell_type": "code",
      "source": [
        "a = ['foo', 'bar', 'baz', 'qux', 'quux', 'corge']\n",
        "print(a)\n",
        "a[2] = 10\n",
        "a[-1] = 20\n",
        "print(a)"
      ],
      "metadata": {
        "colab": {
          "base_uri": "https://localhost:8080/"
        },
        "id": "7imCPfwnjy5j",
        "outputId": "8778b379-0dee-45ec-fb20-73ba30ddcd7d"
      },
      "execution_count": 43,
      "outputs": [
        {
          "output_type": "stream",
          "name": "stdout",
          "text": [
            "['foo', 'bar', 'baz', 'qux', 'quux', 'corge']\n",
            "['foo', 'bar', 10, 'qux', 'quux', 20]\n"
          ]
        }
      ]
    },
    {
      "cell_type": "code",
      "source": [
        "del a[3]\n",
        "print(a)"
      ],
      "metadata": {
        "colab": {
          "base_uri": "https://localhost:8080/"
        },
        "id": "PSAeXev6j-Qd",
        "outputId": "664536ed-2dcb-4013-9b17-26a6e0ad5a38"
      },
      "execution_count": 44,
      "outputs": [
        {
          "output_type": "stream",
          "name": "stdout",
          "text": [
            "['foo', 'bar', 10, 'quux', 20]\n"
          ]
        }
      ]
    },
    {
      "cell_type": "code",
      "source": [
        "a = ['foo', 'bar', 'baz', 'qux', 'quux', 'corge ']\n",
        "print(a[1:4])\n",
        "\n",
        "a[1:4] = [1.1, 2.2, 3.3, 4.4, 5.5]\n",
        "print(a)"
      ],
      "metadata": {
        "colab": {
          "base_uri": "https://localhost:8080/"
        },
        "id": "bvhR5HsPkGT9",
        "outputId": "e0f3a98b-f783-4d1d-dc47-94cf976bc467"
      },
      "execution_count": 45,
      "outputs": [
        {
          "output_type": "stream",
          "name": "stdout",
          "text": [
            "['bar', 'baz', 'qux']\n",
            "['foo', 1.1, 2.2, 3.3, 4.4, 5.5, 'quux', 'corge ']\n"
          ]
        }
      ]
    },
    {
      "cell_type": "code",
      "source": [
        "t = ('foo', 'bar', 'baz', 'qux', 'quux', 'corge')\n",
        "print(t)"
      ],
      "metadata": {
        "colab": {
          "base_uri": "https://localhost:8080/"
        },
        "id": "XWr5wKLzkaYh",
        "outputId": "e301316d-e4ad-4b89-bbe8-f2c944d90ce5"
      },
      "execution_count": 49,
      "outputs": [
        {
          "output_type": "stream",
          "name": "stdout",
          "text": [
            "('foo', 'bar', 'baz', 'qux', 'quux', 'corge')\n"
          ]
        }
      ]
    },
    {
      "cell_type": "code",
      "source": [
        "print(t[0])\n",
        "print(t[-1])"
      ],
      "metadata": {
        "colab": {
          "base_uri": "https://localhost:8080/"
        },
        "id": "rjUtZ2JNkkoq",
        "outputId": "0672ea43-e899-44bf-88d7-07a560505efa"
      },
      "execution_count": 50,
      "outputs": [
        {
          "output_type": "stream",
          "name": "stdout",
          "text": [
            "foo\n",
            "corge\n"
          ]
        }
      ]
    },
    {
      "cell_type": "code",
      "source": [
        "(s1, s2, s3, s4) = ('foo', 'bar', 'baz', 'qux')\n",
        "s1"
      ],
      "metadata": {
        "colab": {
          "base_uri": "https://localhost:8080/",
          "height": 35
        },
        "id": "WD61ZOfAkodq",
        "outputId": "57d8cfb0-39c0-4366-ca76-180239debf2a"
      },
      "execution_count": 51,
      "outputs": [
        {
          "output_type": "execute_result",
          "data": {
            "application/vnd.google.colaboratory.intrinsic+json": {
              "type": "string"
            },
            "text/plain": [
              "'foo'"
            ]
          },
          "metadata": {},
          "execution_count": 51
        }
      ]
    },
    {
      "cell_type": "code",
      "source": [
        "MLB_team = {\n",
        "'Colorado': 'Rockies',\n",
        "'Boston': 'Red Sox',\n",
        "'Minnesota':'Twins ',\n",
        "'Milwaukee': 'Brewers',\n",
        "'Seattle': 'Mariners'\n",
        "}"
      ],
      "metadata": {
        "id": "lMnfvSygk14t"
      },
      "execution_count": 54,
      "outputs": []
    },
    {
      "cell_type": "code",
      "source": [
        "print(MLB_team['Minnesota'])\n",
        "print(MLB_team['Colorado'])"
      ],
      "metadata": {
        "colab": {
          "base_uri": "https://localhost:8080/"
        },
        "id": "g5kBYcrrlJuy",
        "outputId": "c9fc836e-dac5-4434-967d-3a354a4deea2"
      },
      "execution_count": 55,
      "outputs": [
        {
          "output_type": "stream",
          "name": "stdout",
          "text": [
            "Twins \n",
            "Rockies\n"
          ]
        }
      ]
    },
    {
      "cell_type": "code",
      "source": [
        "MLB_team['Kansas City'] = 'Rolays'\n",
        "MLB_team"
      ],
      "metadata": {
        "colab": {
          "base_uri": "https://localhost:8080/"
        },
        "id": "EQtFFtVmlUPH",
        "outputId": "59dcc32e-383a-40c3-f0ab-210d9b5f4fe1"
      },
      "execution_count": 56,
      "outputs": [
        {
          "output_type": "execute_result",
          "data": {
            "text/plain": [
              "{'Boston': 'Red Sox',\n",
              " 'Colorado': 'Rockies',\n",
              " 'Kansas City': 'Rolays',\n",
              " 'Milwaukee': 'Brewers',\n",
              " 'Minnesota': 'Twins ',\n",
              " 'Seattle': 'Mariners'}"
            ]
          },
          "metadata": {},
          "execution_count": 56
        }
      ]
    },
    {
      "cell_type": "code",
      "source": [
        "MLB_team['Seattle'] = 'Seahawks'\n",
        "MLB_team"
      ],
      "metadata": {
        "colab": {
          "base_uri": "https://localhost:8080/"
        },
        "id": "SN4bc5qflc8R",
        "outputId": "6a8e7266-b3ef-4aef-a876-32ea72766fae"
      },
      "execution_count": 57,
      "outputs": [
        {
          "output_type": "execute_result",
          "data": {
            "text/plain": [
              "{'Boston': 'Red Sox',\n",
              " 'Colorado': 'Rockies',\n",
              " 'Kansas City': 'Rolays',\n",
              " 'Milwaukee': 'Brewers',\n",
              " 'Minnesota': 'Twins ',\n",
              " 'Seattle': 'Seahawks'}"
            ]
          },
          "metadata": {},
          "execution_count": 57
        }
      ]
    },
    {
      "cell_type": "code",
      "source": [
        "del MLB_team['Seattle']\n",
        "MLB_team"
      ],
      "metadata": {
        "colab": {
          "base_uri": "https://localhost:8080/"
        },
        "id": "S5Wj4uiclodc",
        "outputId": "b012174a-d440-4a3d-d66b-04042757e72b"
      },
      "execution_count": 58,
      "outputs": [
        {
          "output_type": "execute_result",
          "data": {
            "text/plain": [
              "{'Boston': 'Red Sox',\n",
              " 'Colorado': 'Rockies',\n",
              " 'Kansas City': 'Rolays',\n",
              " 'Milwaukee': 'Brewers',\n",
              " 'Minnesota': 'Twins '}"
            ]
          },
          "metadata": {},
          "execution_count": 58
        }
      ]
    },
    {
      "cell_type": "code",
      "source": [
        "person = {}\n",
        "type(person)\n",
        "person['fname'] = 'Hack'\n",
        "person['lname'] = 'PTP'\n",
        "person['age'] = 51\n",
        "person['spouse'] = 'Edna'\n",
        "person['children'] = [ 'Ralph', 'Betty']\n",
        "person['pets'] =  {'dog': 'Fido', 'cat': 'Sox'}\n",
        "\n",
        "person"
      ],
      "metadata": {
        "colab": {
          "base_uri": "https://localhost:8080/"
        },
        "id": "ltVlry-el0c-",
        "outputId": "5e27be7b-431e-4941-e2d6-068c5c22dfe2"
      },
      "execution_count": 64,
      "outputs": [
        {
          "output_type": "execute_result",
          "data": {
            "text/plain": [
              "{'age': 51,\n",
              " 'children': ['Ralph', 'Betty'],\n",
              " 'fname': 'Hack',\n",
              " 'lname': 'PTP',\n",
              " 'pets': {'cat': 'Sox', 'dog': 'Fido'},\n",
              " 'spouse': 'Edna'}"
            ]
          },
          "metadata": {},
          "execution_count": 64
        }
      ]
    },
    {
      "cell_type": "code",
      "source": [
        "print(person['fname'])\n",
        "print(person['lname'])"
      ],
      "metadata": {
        "colab": {
          "base_uri": "https://localhost:8080/"
        },
        "id": "mhY8IX-FmLjl",
        "outputId": "167fd7c4-c9fd-438d-e220-9a3eebc2ef8b"
      },
      "execution_count": 65,
      "outputs": [
        {
          "output_type": "stream",
          "name": "stdout",
          "text": [
            "Hack\n",
            "PTP\n"
          ]
        }
      ]
    },
    {
      "cell_type": "code",
      "source": [
        "print(person['children'])\n",
        "print(person['children'][1])"
      ],
      "metadata": {
        "colab": {
          "base_uri": "https://localhost:8080/"
        },
        "id": "N5wK0MJImY6f",
        "outputId": "1fcf23ad-bd98-4395-8618-f576b8dba916"
      },
      "execution_count": 66,
      "outputs": [
        {
          "output_type": "stream",
          "name": "stdout",
          "text": [
            "['Ralph', 'Betty']\n",
            "Betty\n"
          ]
        }
      ]
    },
    {
      "cell_type": "code",
      "source": [
        "print(person['pets'])\n",
        "print(person['pets']['cat'])"
      ],
      "metadata": {
        "colab": {
          "base_uri": "https://localhost:8080/"
        },
        "id": "NiU9QkEpmlul",
        "outputId": "3734923c-39f7-41e5-b659-87dcb47a1f0e"
      },
      "execution_count": 67,
      "outputs": [
        {
          "output_type": "stream",
          "name": "stdout",
          "text": [
            "{'dog': 'Fido', 'cat': 'Sox'}\n",
            "Sox\n"
          ]
        }
      ]
    },
    {
      "cell_type": "code",
      "source": [
        "# Built-in Methods\n",
        "d = {'a': 10, 'b': 20,'c':30}\n",
        "# items\n",
        "print(d.items())\n",
        "# keys\n",
        "print(d.keys())\n",
        "# values\n",
        "print(d.values())"
      ],
      "metadata": {
        "colab": {
          "base_uri": "https://localhost:8080/"
        },
        "id": "Dz5M0J-1mwZy",
        "outputId": "5ff86dcb-615a-427b-d86a-73de185f6932"
      },
      "execution_count": 68,
      "outputs": [
        {
          "output_type": "stream",
          "name": "stdout",
          "text": [
            "dict_items([('a', 10), ('b', 20), ('c', 30)])\n",
            "dict_keys(['a', 'b', 'c'])\n",
            "dict_values([10, 20, 30])\n"
          ]
        }
      ]
    },
    {
      "cell_type": "code",
      "source": [
        "person1_age = 42\n",
        "person2_age = 16\n",
        "person3_age = 71\n",
        "someone_is_of_working_age = (person1_age >= 18 and person1_age <= 65) or (person2_age >= 18 and person2_age <= 65) or (person3_age >= 18 and persons3_age <= 65)\n",
        "someone_is_of_working_age"
      ],
      "metadata": {
        "colab": {
          "base_uri": "https://localhost:8080/"
        },
        "id": "e703bv_Wm-13",
        "outputId": "27cfe21e-ef34-4e39-e89b-fb7e9adcd0a6"
      },
      "execution_count": 73,
      "outputs": [
        {
          "output_type": "execute_result",
          "data": {
            "text/plain": [
              "True"
            ]
          },
          "metadata": {},
          "execution_count": 73
        }
      ]
    },
    {
      "cell_type": "code",
      "source": [
        "someone_is_of_working_age = (\n",
        "    (person1_age >= 18 and person1_age <= 65)\n",
        "    or (person2_age >= 18 and person2_age <= 65)\n",
        "    or (person3_age >= 18 and persons3_age <= 65)\n",
        ")\n",
        "someone_is_of_working_age"
      ],
      "metadata": {
        "colab": {
          "base_uri": "https://localhost:8080/"
        },
        "id": "a1u_CpF1nkDj",
        "outputId": "10de9128-b68a-455b-99bb-ef0fc6b53445"
      },
      "execution_count": 74,
      "outputs": [
        {
          "output_type": "execute_result",
          "data": {
            "text/plain": [
              "True"
            ]
          },
          "metadata": {},
          "execution_count": 74
        }
      ]
    },
    {
      "cell_type": "code",
      "source": [
        ""
      ],
      "metadata": {
        "id": "XXEL58CaoH0S"
      },
      "execution_count": null,
      "outputs": []
    }
  ]
}