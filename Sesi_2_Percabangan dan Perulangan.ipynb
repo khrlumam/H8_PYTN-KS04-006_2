{
 "cells": [
  {
   "cell_type": "markdown",
   "id": "5f2abf0d",
   "metadata": {},
   "source": [
    "## Conditional\n",
    "<hr>"
   ]
  },
  {
   "cell_type": "markdown",
   "id": "a76d3909",
   "metadata": {},
   "source": [
    "### Introduction to the If Statement"
   ]
  },
  {
   "cell_type": "code",
   "execution_count": 2,
   "id": "7a26fb60",
   "metadata": {},
   "outputs": [
    {
     "name": "stdout",
     "output_type": "stream",
     "text": [
      "Yes\n",
      "Yes\n",
      "Yes\n"
     ]
    }
   ],
   "source": [
    "x = 0\n",
    "y = 5\n",
    "\n",
    "if x < y:                                         # Truthy Statement\n",
    "    print('Yes')\n",
    "    \n",
    "if y < x:                                         # Falsy Statement\n",
    "    print('Yes')\n",
    "    \n",
    "if x:                                             # Falsy Statement\n",
    "    print('Yes')\n",
    "\n",
    "if y:                                             # Truthy Statement\n",
    "    print('Yes')\n",
    "\n",
    "if 'aul' < 'grault':                              # Truthy Statement\n",
    "    print('Yes')\n",
    "\n",
    "if 'quux' in ['foo', 'bar', 'baz']:               # Truthy Statement\n",
    "    print('Yes')"
   ]
  },
  {
   "cell_type": "markdown",
   "id": "105a835d",
   "metadata": {},
   "source": [
    "### Grouping Statements : Indentation and Blocks"
   ]
  },
  {
   "cell_type": "markdown",
   "id": "280c0871",
   "metadata": {},
   "source": [
    "#### Python: It's All About the Indention"
   ]
  },
  {
   "cell_type": "markdown",
   "id": "152bf032",
   "metadata": {},
   "source": [
    "##### <b>\n",
    "    if<expression>\n",
    "       <statement>\n",
    "       <statement>\n",
    "       ...\n",
    "       <statement>\n",
    "    <following_statement>\n",
    "</b>"
   ]
  },
  {
   "cell_type": "code",
   "execution_count": 3,
   "id": "9b2cc663",
   "metadata": {},
   "outputs": [
    {
     "name": "stdout",
     "output_type": "stream",
     "text": [
      "After conditional\n"
     ]
    }
   ],
   "source": [
    "if 'foo' in ['bar', 'baz', 'qux']:\n",
    "    print('Expression was true')\n",
    "    print('Executing statement in suite')\n",
    "    print('......')\n",
    "    print('Done.')\n",
    "print('After conditional')"
   ]
  },
  {
   "cell_type": "code",
   "execution_count": 4,
   "id": "6ccbcd13",
   "metadata": {},
   "outputs": [
    {
     "name": "stdout",
     "output_type": "stream",
     "text": [
      "Outer Condition is true\n",
      "Between Inner Condition\n",
      "Inner Condition 2\n",
      "End of Outer Condition\n",
      "After Outer Condition\n"
     ]
    }
   ],
   "source": [
    "# Does line Execute?                    Yes     No\n",
    "#                                       ---    ----\n",
    "if 'foo' in ['foo', 'bar', 'baz']:    #  X\n",
    "    print('Outer Condition is true')  #  X\n",
    "    \n",
    "    if 10 > 20:                       #  X\n",
    "        print('Inner Condition 1')    #         X\n",
    "    \n",
    "    print('Between Inner Condition')  #  X\n",
    "    \n",
    "    if 10 < 20:                       #  X\n",
    "        print('Inner Condition 2')    #  X\n",
    "        \n",
    "    print('End of Outer Condition')   #  X\n",
    "print('After Outer Condition')        #  X"
   ]
  },
  {
   "cell_type": "markdown",
   "id": "a546fe80",
   "metadata": {},
   "source": [
    "<hr>"
   ]
  },
  {
   "cell_type": "markdown",
   "id": "0e71767d",
   "metadata": {},
   "source": [
    "#### The else and elif Clauses"
   ]
  },
  {
   "cell_type": "markdown",
   "id": "2fa20984",
   "metadata": {},
   "source": [
    "##### <b>\n",
    "    if<expression>\n",
    "       <statement(S)>\n",
    "    else:\n",
    "       <statement(S)>\n",
    "</b>"
   ]
  },
  {
   "cell_type": "code",
   "execution_count": 5,
   "id": "758ec310",
   "metadata": {},
   "outputs": [
    {
     "name": "stdout",
     "output_type": "stream",
     "text": [
      "(first suite)\n",
      "x is small\n"
     ]
    }
   ],
   "source": [
    "# x kurang dari 50\n",
    "\n",
    "x = 20\n",
    "\n",
    "if x < 50:\n",
    "    print('(first suite)')\n",
    "    print('x is small')\n",
    "else:\n",
    "    print('(second suite)')\n",
    "    print('x is Large')"
   ]
  },
  {
   "cell_type": "code",
   "execution_count": 6,
   "id": "569451fa",
   "metadata": {},
   "outputs": [
    {
     "name": "stdout",
     "output_type": "stream",
     "text": [
      "(second suite)\n",
      "x is Large\n"
     ]
    }
   ],
   "source": [
    "# x lebih besar dari 50\n",
    "\n",
    "x = 120\n",
    "\n",
    "if x < 50:\n",
    "    print('(first suite)')\n",
    "    print('x is small')\n",
    "else:\n",
    "    print('(second suite)')\n",
    "    print('x is Large')"
   ]
  },
  {
   "cell_type": "code",
   "execution_count": 7,
   "id": "b2453a45",
   "metadata": {},
   "outputs": [
    {
     "name": "stdout",
     "output_type": "stream",
     "text": [
      "Uang Tidak Cukup\n"
     ]
    }
   ],
   "source": [
    "# Another Example\n",
    "\n",
    "hargaBuku = 20000\n",
    "hargaMajalah = 5000\n",
    "uang = 2000\n",
    "\n",
    "if uang > hargaBuku:\n",
    "    print(\"Beli Buku\")\n",
    "else:\n",
    "    print(\"Uang Tidak Cukup\")"
   ]
  },
  {
   "cell_type": "markdown",
   "id": "aa9ace34",
   "metadata": {},
   "source": [
    "##### <b>\n",
    "    if<expression>\n",
    "       <statement(S)>\n",
    "    elif<expression>:\n",
    "       <statement(S)>\n",
    "    elif<expression>:\n",
    "       <statement(S)>\n",
    "       ...\n",
    "    else<expression>:\n",
    "       <statement(S)>\n",
    "</b>"
   ]
  },
  {
   "cell_type": "code",
   "execution_count": 8,
   "id": "5baf023a",
   "metadata": {},
   "outputs": [
    {
     "name": "stdout",
     "output_type": "stream",
     "text": [
      "Uang Tidak Cukup\n"
     ]
    }
   ],
   "source": [
    "# Example 1\n",
    "\n",
    "hargaBuku = 20000\n",
    "hargaMajalah = 5000\n",
    "uang = 2000\n",
    "\n",
    "if uang > hargaBuku:\n",
    "    print(\"Beli Buku\")\n",
    "elif uang > hargaMajalah:\n",
    "    print(\"Beli Majalah\")\n",
    "else:\n",
    "    print(\"Uang Tidak Cukup\")"
   ]
  },
  {
   "cell_type": "code",
   "execution_count": 9,
   "id": "948eb75b",
   "metadata": {},
   "outputs": [
    {
     "name": "stdout",
     "output_type": "stream",
     "text": [
      "Hello Hactiv8\n"
     ]
    }
   ],
   "source": [
    "# Example 2\n",
    "\n",
    "name = \"Hacktiv8\"\n",
    "\n",
    "if name == \"Fred\":\n",
    "    print('Hello Fred')\n",
    "elif name == \"Xander\":\n",
    "    print(\"Hello Xander\")\n",
    "elif name == \"Hacktiv8\":\n",
    "    print(\"Hello Hactiv8\")\n",
    "elif name == \"Arnold\":\n",
    "    print(\"Hello Arnold\")\n",
    "else:\n",
    "    print(\"I don't know who you are!\")"
   ]
  },
  {
   "cell_type": "code",
   "execution_count": 10,
   "id": "9bb585e3",
   "metadata": {},
   "outputs": [
    {
     "name": "stdout",
     "output_type": "stream",
     "text": [
      "Foo\n"
     ]
    }
   ],
   "source": [
    "# Example 3\n",
    "\n",
    "if \"a\" in \"bar\":\n",
    "    print(\"Foo\")\n",
    "elif 1/0:\n",
    "    print(\"This won't happen\")\n",
    "elif var:\n",
    "    print(\"This won't either\")"
   ]
  },
  {
   "cell_type": "markdown",
   "id": "de7cf06b",
   "metadata": {},
   "source": [
    "#### One-Line if Statements"
   ]
  },
  {
   "cell_type": "markdown",
   "id": "ff54e217",
   "metadata": {},
   "source": [
    "##### <b>\n",
    "    if<expression>:\n",
    "       <statement>\n",
    "</b>"
   ]
  },
  {
   "cell_type": "code",
   "execution_count": 11,
   "id": "7957ff23",
   "metadata": {},
   "outputs": [
    {
     "name": "stdout",
     "output_type": "stream",
     "text": [
      "1\n",
      "2\n",
      "3\n"
     ]
    }
   ],
   "source": [
    "if \"f\" in \"foo\": print(\"1\"); print(\"2\"); print(\"3\")"
   ]
  },
  {
   "cell_type": "code",
   "execution_count": 12,
   "id": "8d11edff",
   "metadata": {},
   "outputs": [],
   "source": [
    "if \"z\" in \"foo\": print(\"1\"); print(\"2\"); print(\"3\")"
   ]
  },
  {
   "cell_type": "code",
   "execution_count": 13,
   "id": "378aabe6",
   "metadata": {},
   "outputs": [
    {
     "name": "stdout",
     "output_type": "stream",
     "text": [
      "qux\n",
      "quux\n"
     ]
    }
   ],
   "source": [
    "x = 2\n",
    "\n",
    "if x == 1: print(\"foo\"); print(\"bar\"); print(\"baz\")\n",
    "elif x == 2: print(\"qux\"); print(\"quux\")\n",
    "else: print(\"corge\"); print(\"grault\")"
   ]
  },
  {
   "cell_type": "code",
   "execution_count": 14,
   "id": "6c2e0082",
   "metadata": {},
   "outputs": [
    {
     "name": "stdout",
     "output_type": "stream",
     "text": [
      "corge\n",
      "grault\n"
     ]
    }
   ],
   "source": [
    "x = 3\n",
    "\n",
    "if x == 1: print(\"foo\"); print(\"bar\"); print(\"baz\")\n",
    "elif x == 2: print(\"qux\"); print(\"quux\")\n",
    "else: print(\"corge\"); print(\"grault\")"
   ]
  },
  {
   "cell_type": "code",
   "execution_count": 15,
   "id": "3c6c7441",
   "metadata": {},
   "outputs": [
    {
     "name": "stdout",
     "output_type": "stream",
     "text": [
      "corge\n",
      "grault\n"
     ]
    }
   ],
   "source": [
    "x = 3\n",
    "\n",
    "if x == 1:\n",
    "    print(\"foo\")\n",
    "    print(\"bar\")\n",
    "    print(\"baz\")\n",
    "elif x == 2:\n",
    "    print(\"qux\")\n",
    "    print(\"quux\")\n",
    "else:\n",
    "    print(\"corge\")\n",
    "    print(\"grault\")"
   ]
  },
  {
   "cell_type": "markdown",
   "id": "c6bcbd38",
   "metadata": {},
   "source": [
    "#### Conditional Expressions (Python's Ternary Operator)"
   ]
  },
  {
   "cell_type": "markdown",
   "id": "fbfe7d9a",
   "metadata": {},
   "source": [
    "##### <b>\n",
    "    <expression if <conditional_expression> else <expression2>\n",
    "</b>"
   ]
  },
  {
   "cell_type": "code",
   "execution_count": 16,
   "id": "8d8064f5",
   "metadata": {},
   "outputs": [
    {
     "name": "stdout",
     "output_type": "stream",
     "text": [
      "Let's go to the beach\n"
     ]
    }
   ],
   "source": [
    "raining = False\n",
    "print(\"Let's go to the\", 'beach' if not raining else 'library')"
   ]
  },
  {
   "cell_type": "code",
   "execution_count": 17,
   "id": "b8379a2a",
   "metadata": {},
   "outputs": [
    {
     "data": {
      "text/plain": [
       "'teen'"
      ]
     },
     "execution_count": 17,
     "metadata": {},
     "output_type": "execute_result"
    }
   ],
   "source": [
    "age = 12\n",
    "\n",
    "s = \"teen\" if age < 21 else \"adult\"\n",
    "s"
   ]
  },
  {
   "cell_type": "code",
   "execution_count": 18,
   "id": "4cfe4c2f",
   "metadata": {},
   "outputs": [
    {
     "data": {
      "text/plain": [
       "'no'"
      ]
     },
     "execution_count": 18,
     "metadata": {},
     "output_type": "execute_result"
    }
   ],
   "source": [
    "'yes' if ('qux' in ['foo', 'bar', 'baz']) else 'no'"
   ]
  },
  {
   "cell_type": "code",
   "execution_count": 19,
   "id": "b8c17884",
   "metadata": {},
   "outputs": [
    {
     "ename": "KeyboardInterrupt",
     "evalue": "Interrupted by user",
     "output_type": "error",
     "traceback": [
      "\u001b[1;31m---------------------------------------------------------------------------\u001b[0m",
      "\u001b[1;31mKeyboardInterrupt\u001b[0m                         Traceback (most recent call last)",
      "\u001b[1;32mc:\\Users\\umam1\\OneDrive\\Documents\\H8_PYTN-KS04-006_2\\Percabangan dan Perulangan.ipynb Cell 31'\u001b[0m in \u001b[0;36m<cell line: 1>\u001b[1;34m()\u001b[0m\n\u001b[1;32m----> <a href='vscode-notebook-cell:/c%3A/Users/umam1/OneDrive/Documents/H8_PYTN-KS04-006_2/Percabangan%20dan%20Perulangan.ipynb#ch0000031?line=0'>1</a>\u001b[0m a \u001b[39m=\u001b[39m \u001b[39minput\u001b[39;49m(\u001b[39m\"\u001b[39;49m\u001b[39mMasukan Angka\u001b[39;49m\u001b[39m\"\u001b[39;49m)\n\u001b[0;32m      <a href='vscode-notebook-cell:/c%3A/Users/umam1/OneDrive/Documents/H8_PYTN-KS04-006_2/Percabangan%20dan%20Perulangan.ipynb#ch0000031?line=1'>2</a>\u001b[0m b \u001b[39m=\u001b[39m \u001b[39minput\u001b[39m(\u001b[39m\"\u001b[39m\u001b[39mMasukan Angka\u001b[39m\u001b[39m\"\u001b[39m)\n\u001b[0;32m      <a href='vscode-notebook-cell:/c%3A/Users/umam1/OneDrive/Documents/H8_PYTN-KS04-006_2/Percabangan%20dan%20Perulangan.ipynb#ch0000031?line=3'>4</a>\u001b[0m \u001b[39mif\u001b[39;00m a \u001b[39m>\u001b[39m b:\n",
      "File \u001b[1;32mc:\\Users\\umam1\\AppData\\Local\\Programs\\Python\\Python310\\lib\\site-packages\\ipykernel\\kernelbase.py:1161\u001b[0m, in \u001b[0;36mKernel.raw_input\u001b[1;34m(self, prompt)\u001b[0m\n\u001b[0;32m   <a href='file:///c%3A/Users/umam1/AppData/Local/Programs/Python/Python310/lib/site-packages/ipykernel/kernelbase.py?line=1156'>1157</a>\u001b[0m \u001b[39mif\u001b[39;00m \u001b[39mnot\u001b[39;00m \u001b[39mself\u001b[39m\u001b[39m.\u001b[39m_allow_stdin:\n\u001b[0;32m   <a href='file:///c%3A/Users/umam1/AppData/Local/Programs/Python/Python310/lib/site-packages/ipykernel/kernelbase.py?line=1157'>1158</a>\u001b[0m     \u001b[39mraise\u001b[39;00m StdinNotImplementedError(\n\u001b[0;32m   <a href='file:///c%3A/Users/umam1/AppData/Local/Programs/Python/Python310/lib/site-packages/ipykernel/kernelbase.py?line=1158'>1159</a>\u001b[0m         \u001b[39m\"\u001b[39m\u001b[39mraw_input was called, but this frontend does not support input requests.\u001b[39m\u001b[39m\"\u001b[39m\n\u001b[0;32m   <a href='file:///c%3A/Users/umam1/AppData/Local/Programs/Python/Python310/lib/site-packages/ipykernel/kernelbase.py?line=1159'>1160</a>\u001b[0m     )\n\u001b[1;32m-> <a href='file:///c%3A/Users/umam1/AppData/Local/Programs/Python/Python310/lib/site-packages/ipykernel/kernelbase.py?line=1160'>1161</a>\u001b[0m \u001b[39mreturn\u001b[39;00m \u001b[39mself\u001b[39;49m\u001b[39m.\u001b[39;49m_input_request(\n\u001b[0;32m   <a href='file:///c%3A/Users/umam1/AppData/Local/Programs/Python/Python310/lib/site-packages/ipykernel/kernelbase.py?line=1161'>1162</a>\u001b[0m     \u001b[39mstr\u001b[39;49m(prompt),\n\u001b[0;32m   <a href='file:///c%3A/Users/umam1/AppData/Local/Programs/Python/Python310/lib/site-packages/ipykernel/kernelbase.py?line=1162'>1163</a>\u001b[0m     \u001b[39mself\u001b[39;49m\u001b[39m.\u001b[39;49m_parent_ident[\u001b[39m\"\u001b[39;49m\u001b[39mshell\u001b[39;49m\u001b[39m\"\u001b[39;49m],\n\u001b[0;32m   <a href='file:///c%3A/Users/umam1/AppData/Local/Programs/Python/Python310/lib/site-packages/ipykernel/kernelbase.py?line=1163'>1164</a>\u001b[0m     \u001b[39mself\u001b[39;49m\u001b[39m.\u001b[39;49mget_parent(\u001b[39m\"\u001b[39;49m\u001b[39mshell\u001b[39;49m\u001b[39m\"\u001b[39;49m),\n\u001b[0;32m   <a href='file:///c%3A/Users/umam1/AppData/Local/Programs/Python/Python310/lib/site-packages/ipykernel/kernelbase.py?line=1164'>1165</a>\u001b[0m     password\u001b[39m=\u001b[39;49m\u001b[39mFalse\u001b[39;49;00m,\n\u001b[0;32m   <a href='file:///c%3A/Users/umam1/AppData/Local/Programs/Python/Python310/lib/site-packages/ipykernel/kernelbase.py?line=1165'>1166</a>\u001b[0m )\n",
      "File \u001b[1;32mc:\\Users\\umam1\\AppData\\Local\\Programs\\Python\\Python310\\lib\\site-packages\\ipykernel\\kernelbase.py:1205\u001b[0m, in \u001b[0;36mKernel._input_request\u001b[1;34m(self, prompt, ident, parent, password)\u001b[0m\n\u001b[0;32m   <a href='file:///c%3A/Users/umam1/AppData/Local/Programs/Python/Python310/lib/site-packages/ipykernel/kernelbase.py?line=1201'>1202</a>\u001b[0m             \u001b[39mbreak\u001b[39;00m\n\u001b[0;32m   <a href='file:///c%3A/Users/umam1/AppData/Local/Programs/Python/Python310/lib/site-packages/ipykernel/kernelbase.py?line=1202'>1203</a>\u001b[0m \u001b[39mexcept\u001b[39;00m \u001b[39mKeyboardInterrupt\u001b[39;00m:\n\u001b[0;32m   <a href='file:///c%3A/Users/umam1/AppData/Local/Programs/Python/Python310/lib/site-packages/ipykernel/kernelbase.py?line=1203'>1204</a>\u001b[0m     \u001b[39m# re-raise KeyboardInterrupt, to truncate traceback\u001b[39;00m\n\u001b[1;32m-> <a href='file:///c%3A/Users/umam1/AppData/Local/Programs/Python/Python310/lib/site-packages/ipykernel/kernelbase.py?line=1204'>1205</a>\u001b[0m     \u001b[39mraise\u001b[39;00m \u001b[39mKeyboardInterrupt\u001b[39;00m(\u001b[39m\"\u001b[39m\u001b[39mInterrupted by user\u001b[39m\u001b[39m\"\u001b[39m) \u001b[39mfrom\u001b[39;00m \u001b[39mNone\u001b[39m\n\u001b[0;32m   <a href='file:///c%3A/Users/umam1/AppData/Local/Programs/Python/Python310/lib/site-packages/ipykernel/kernelbase.py?line=1205'>1206</a>\u001b[0m \u001b[39mexcept\u001b[39;00m \u001b[39mException\u001b[39;00m:\n\u001b[0;32m   <a href='file:///c%3A/Users/umam1/AppData/Local/Programs/Python/Python310/lib/site-packages/ipykernel/kernelbase.py?line=1206'>1207</a>\u001b[0m     \u001b[39mself\u001b[39m\u001b[39m.\u001b[39mlog\u001b[39m.\u001b[39mwarning(\u001b[39m\"\u001b[39m\u001b[39mInvalid Message:\u001b[39m\u001b[39m\"\u001b[39m, exc_info\u001b[39m=\u001b[39m\u001b[39mTrue\u001b[39;00m)\n",
      "\u001b[1;31mKeyboardInterrupt\u001b[0m: Interrupted by user"
     ]
    }
   ],
   "source": [
    "a = input(\"Masukan Angka\")\n",
    "b = input(\"Masukan Angka\")\n",
    "\n",
    "if a > b:\n",
    "    m = a\n",
    "else:\n",
    "    m = b"
   ]
  },
  {
   "cell_type": "markdown",
   "id": "409414be",
   "metadata": {},
   "source": [
    "<b> \n",
    "Catatan\n",
    "</b>\n",
    "<hr>\n",
    "<p>Cast 1</p>\n",
    "if <conditional_expression> is true, <expression 1> is returned and <expression 2> is not evaluated\n",
    "<p>Cast 2</p>\n",
    "if <conditional_expression> is false, <expression 2> is returned and <expression 1> is not evaluated"
   ]
  },
  {
   "cell_type": "markdown",
   "id": "3808e79f",
   "metadata": {},
   "source": [
    "#### The Python pass Statement"
   ]
  },
  {
   "cell_type": "code",
   "execution_count": 20,
   "id": "703dcbbf",
   "metadata": {},
   "outputs": [
    {
     "name": "stdout",
     "output_type": "stream",
     "text": [
      "foo\n"
     ]
    }
   ],
   "source": [
    "# Example Code 1\n",
    "\n",
    "if True:\n",
    "    print(\"foo\")"
   ]
  },
  {
   "cell_type": "code",
   "execution_count": 22,
   "id": "a7e18f4b",
   "metadata": {},
   "outputs": [
    {
     "name": "stdout",
     "output_type": "stream",
     "text": [
      "foo\n"
     ]
    }
   ],
   "source": [
    "# Example Code 2\n",
    "# Solusi dari Example Code 1\n",
    "\n",
    "if True:\n",
    "    pass\n",
    "print(\"foo\")"
   ]
  },
  {
   "cell_type": "markdown",
   "id": "09fdfb3f",
   "metadata": {},
   "source": [
    "#### Python \"while\" Loops"
   ]
  },
  {
   "cell_type": "markdown",
   "id": "dcb9953a",
   "metadata": {},
   "source": [
    "##### <b>\n",
    "    while<expression>:\n",
    "        <statement(s)>\n",
    "</b>"
   ]
  },
  {
   "cell_type": "code",
   "execution_count": 23,
   "id": "5b64b027",
   "metadata": {},
   "outputs": [
    {
     "name": "stdout",
     "output_type": "stream",
     "text": [
      "4\n",
      "3\n",
      "2\n",
      "1\n",
      "0\n"
     ]
    }
   ],
   "source": [
    "n = 5\n",
    "while n > 0:\n",
    "    n -= 1\n",
    "    print(n)"
   ]
  },
  {
   "cell_type": "code",
   "execution_count": 24,
   "id": "707d8459",
   "metadata": {},
   "outputs": [
    {
     "name": "stdout",
     "output_type": "stream",
     "text": [
      "1\n",
      "2\n",
      "3\n",
      "4\n",
      "5\n"
     ]
    }
   ],
   "source": [
    "i = 1\n",
    "while i < 6:\n",
    "    print(i)\n",
    "    i += 1\n"
   ]
  },
  {
   "cell_type": "markdown",
   "id": "97970a4d",
   "metadata": {},
   "source": [
    "#### Python \"while\" Loops"
   ]
  },
  {
   "cell_type": "markdown",
   "id": "eb74e90e",
   "metadata": {},
   "source": [
    "##### <b>\n",
    "    while<expression>:  \n",
    "        <statement>     \n",
    "        <statement>     \n",
    "        break           \n",
    "        <statement>     \n",
    "        <statement>     \n",
    "        continue        \n",
    "        <statement>     \n",
    "        <statement>     \n",
    "    <statement>\n",
    "</b>"
   ]
  },
  {
   "cell_type": "code",
   "execution_count": 25,
   "id": "f73e5aaa",
   "metadata": {},
   "outputs": [
    {
     "name": "stdout",
     "output_type": "stream",
     "text": [
      "4\n",
      "3\n",
      "Loop Ended.\n"
     ]
    }
   ],
   "source": [
    "# Example Code 1\n",
    "\n",
    "n = 5\n",
    "while n > 0:\n",
    "    n -= 1\n",
    "    if n == 2:\n",
    "        break # Break Statement\n",
    "    print(n)\n",
    "print(\"Loop Ended.\")"
   ]
  },
  {
   "cell_type": "code",
   "execution_count": 26,
   "id": "bc745736",
   "metadata": {},
   "outputs": [
    {
     "name": "stdout",
     "output_type": "stream",
     "text": [
      "4\n",
      "3\n",
      "1\n",
      "0\n",
      "Loop Ended.\n"
     ]
    }
   ],
   "source": [
    "# Example Code 2\n",
    "\n",
    "n = 5\n",
    "while n > 0:\n",
    "    n -= 1\n",
    "    if n == 2:\n",
    "        continue # continue Statement\n",
    "    print(n)\n",
    "print(\"Loop Ended.\")"
   ]
  },
  {
   "cell_type": "markdown",
   "id": "3c817d48",
   "metadata": {},
   "source": [
    "#### The Else Clause"
   ]
  },
  {
   "cell_type": "markdown",
   "id": "b0dda19d",
   "metadata": {},
   "source": [
    "##### <b>\n",
    "    while<expression>:  \n",
    "        <statement(s)>\n",
    "    else:\n",
    "        <additional_statement(s)>\n",
    "</b>"
   ]
  },
  {
   "cell_type": "code",
   "execution_count": 27,
   "id": "f92c0da1",
   "metadata": {},
   "outputs": [
    {
     "name": "stdout",
     "output_type": "stream",
     "text": [
      "4\n",
      "3\n",
      "2\n",
      "1\n",
      "0\n",
      "Loop Done\n"
     ]
    }
   ],
   "source": [
    "n = 5\n",
    "\n",
    "while n > 0:\n",
    "    n -= 1\n",
    "    print(n)\n",
    "else:\n",
    "    print(\"Loop Done\")"
   ]
  },
  {
   "cell_type": "code",
   "execution_count": 28,
   "id": "a5ee23d1",
   "metadata": {},
   "outputs": [
    {
     "name": "stdout",
     "output_type": "stream",
     "text": [
      "4\n",
      "3\n",
      "2\n"
     ]
    }
   ],
   "source": [
    "n = 5\n",
    "\n",
    "while n > 0:\n",
    "    n -= 1\n",
    "    print(n)\n",
    "    if n == 2:\n",
    "        break\n",
    "else:\n",
    "    print(\"Loop Done\")"
   ]
  },
  {
   "cell_type": "markdown",
   "id": "43803da8",
   "metadata": {},
   "source": [
    "#### Infinte Loops"
   ]
  },
  {
   "cell_type": "markdown",
   "id": "cd1c3b49",
   "metadata": {},
   "source": [
    "##### <b>\n",
    "    --> Pertimbangkan contoh ini :\n",
    "    while True:\n",
    "        print(\"Foo\")\n",
    "</b>\n"
   ]
  },
  {
   "cell_type": "markdown",
   "id": "e77c5dd1",
   "metadata": {},
   "source": [
    "#### Nested While Loops"
   ]
  },
  {
   "cell_type": "markdown",
   "id": "49279323",
   "metadata": {},
   "source": [
    "<p>\n",
    "\n",
    "     if age < 18:\n",
    "         if gender == \"M\":\n",
    "             print(\"Son\")\n",
    "         else:\n",
    "             print(\"daughter\")\n",
    "     elif age >= 18 and age < 65:\n",
    "         if gender == \"M\":\n",
    "             print(\"Father\")\n",
    "         else:\n",
    "             print(\"Mother\")\n",
    "     else:\n",
    "         if gender == \"M\":\n",
    "             print(\"Grandfather\")\n",
    "         else:\n",
    "             print(\"GrandMother\")\n",
    "\n",
    "</P>"
   ]
  },
  {
   "cell_type": "code",
   "execution_count": 29,
   "id": "28df685f",
   "metadata": {},
   "outputs": [
    {
     "name": "stdout",
     "output_type": "stream",
     "text": [
      "foo\n",
      "> baz\n",
      "> qux\n",
      "bar\n",
      "> baz\n",
      "> qux\n"
     ]
    }
   ],
   "source": [
    "a = [\"foo\", \"bar\"]\n",
    "\n",
    "while len(a):\n",
    "    print(a.pop(0))\n",
    "    \n",
    "    b = [\"baz\", \"qux\"]\n",
    "    \n",
    "    while len(b):\n",
    "        print(\">\", b.pop(0))"
   ]
  },
  {
   "cell_type": "markdown",
   "id": "63e2b112",
   "metadata": {},
   "source": [
    "<p>\n",
    "\n",
    "while <expr1>:\n",
    "    statement\n",
    "    statement\n",
    "    \n",
    "    while <expr2>:\n",
    "        statement\n",
    "        statement\n",
    "        break # Applies to while <expr2>: loop\n",
    "        \n",
    "    break # Applies to while <expr1>: loop\n",
    "</p>"
   ]
  },
  {
   "cell_type": "markdown",
   "id": "24124223",
   "metadata": {},
   "source": [
    "<p>\n",
    "    \n",
    "    if <expr>:\n",
    "        statement\n",
    "        while <expr>:\n",
    "            statement        \n",
    "            statement\n",
    "    else:\n",
    "        while <expr>:\n",
    "            statement\n",
    "            statement\n",
    "        statement\n",
    "    while <expr>:\n",
    "        if <expr>:\n",
    "            statement\n",
    "        elif <expr>:\n",
    "            statement\n",
    "        else:\n",
    "            statement\n",
    "        if <expr>:\n",
    "            statement\n",
    "</p>"
   ]
  },
  {
   "cell_type": "markdown",
   "id": "27069ce4",
   "metadata": {},
   "source": [
    "#### One Line While Loops"
   ]
  },
  {
   "cell_type": "code",
   "execution_count": 30,
   "id": "57c9a2f7",
   "metadata": {},
   "outputs": [
    {
     "name": "stdout",
     "output_type": "stream",
     "text": [
      "4\n",
      "3\n",
      "2\n",
      "1\n",
      "0\n"
     ]
    }
   ],
   "source": [
    "n = 5\n",
    "while n > 0: n -= 1; print(n)"
   ]
  },
  {
   "cell_type": "markdown",
   "id": "feda5551",
   "metadata": {},
   "source": [
    "### A Survey of Define Iteration in Programming"
   ]
  },
  {
   "cell_type": "code",
   "execution_count": 31,
   "id": "a06fc4d0",
   "metadata": {},
   "outputs": [
    {
     "ename": "SyntaxError",
     "evalue": "invalid syntax (1192077219.py, line 2)",
     "output_type": "error",
     "traceback": [
      "\u001b[1;36m  Input \u001b[1;32mIn [31]\u001b[1;36m\u001b[0m\n\u001b[1;33m    for i = 1 to 10\u001b[0m\n\u001b[1;37m          ^\u001b[0m\n\u001b[1;31mSyntaxError\u001b[0m\u001b[1;31m:\u001b[0m invalid syntax\n"
     ]
    }
   ],
   "source": [
    "# Numeric Range Loop\n",
    "for i = 1 to 10\n",
    "    <loop body>"
   ]
  },
  {
   "cell_type": "code",
   "execution_count": null,
   "id": "7d9466f6",
   "metadata": {},
   "outputs": [],
   "source": [
    "# Three - Expression Loop\n",
    "\n",
    "for (i = 1; i <= 10; i++)\n",
    "    <loop body>"
   ]
  },
  {
   "cell_type": "code",
   "execution_count": null,
   "id": "4388760d",
   "metadata": {},
   "outputs": [],
   "source": [
    "# Collection - Based or Iterator - Based Loop\n",
    "\n",
    "for i in <collection>\n",
    "    <loop body>"
   ]
  },
  {
   "cell_type": "markdown",
   "id": "63518561",
   "metadata": {},
   "source": [
    "### The Python for Loop"
   ]
  },
  {
   "cell_type": "code",
   "execution_count": null,
   "id": "95f357a9",
   "metadata": {},
   "outputs": [],
   "source": [
    "# Contoh\n",
    "    # for <var> in <iterable>:\n",
    "        # <statement(s)>"
   ]
  },
  {
   "cell_type": "code",
   "execution_count": 32,
   "id": "1c4eb26c",
   "metadata": {},
   "outputs": [
    {
     "name": "stdout",
     "output_type": "stream",
     "text": [
      "foo\n",
      "bar\n",
      "baz\n"
     ]
    }
   ],
   "source": [
    "a = [\"foo\", \"bar\", \"baz\"]\n",
    "for i in a:\n",
    "    print(i)"
   ]
  },
  {
   "cell_type": "code",
   "execution_count": 33,
   "id": "b6e2dbfc",
   "metadata": {},
   "outputs": [
    {
     "name": "stdout",
     "output_type": "stream",
     "text": [
      "foo\n",
      "bar\n",
      "baz\n"
     ]
    }
   ],
   "source": [
    "d = {\"foo\": 1, \"bar\":2, \"baz\":3}\n",
    "for k in d:\n",
    "    print(k)"
   ]
  },
  {
   "cell_type": "code",
   "execution_count": 34,
   "id": "345573d5",
   "metadata": {},
   "outputs": [
    {
     "name": "stdout",
     "output_type": "stream",
     "text": [
      "1\n",
      "2\n",
      "3\n"
     ]
    }
   ],
   "source": [
    "for k in d:\n",
    "    print(d[k])"
   ]
  },
  {
   "cell_type": "code",
   "execution_count": 35,
   "id": "3b54a043",
   "metadata": {},
   "outputs": [
    {
     "name": "stdout",
     "output_type": "stream",
     "text": [
      "1\n",
      "2\n",
      "3\n"
     ]
    }
   ],
   "source": [
    "for k in d.values():\n",
    "    print(k)"
   ]
  },
  {
   "cell_type": "code",
   "execution_count": 36,
   "id": "33724e72",
   "metadata": {},
   "outputs": [
    {
     "name": "stdout",
     "output_type": "stream",
     "text": [
      "foo : 1\n",
      "bar : 2\n",
      "baz : 3\n"
     ]
    }
   ],
   "source": [
    "for k, v in d.items():\n",
    "    print(k, \":\", v)"
   ]
  },
  {
   "cell_type": "markdown",
   "id": "15736c5e",
   "metadata": {},
   "source": [
    "### Iterating Through a Dictionary"
   ]
  },
  {
   "cell_type": "code",
   "execution_count": 37,
   "id": "2078106e",
   "metadata": {},
   "outputs": [
    {
     "name": "stdout",
     "output_type": "stream",
     "text": [
      "foo\n",
      "bar\n",
      "baz\n"
     ]
    }
   ],
   "source": [
    "d = {\"foo\": 1, \"bar\": 2, \"baz\": 3}\n",
    "for k in d:\n",
    "    print(k)"
   ]
  },
  {
   "cell_type": "code",
   "execution_count": 38,
   "id": "8a25e754",
   "metadata": {},
   "outputs": [
    {
     "name": "stdout",
     "output_type": "stream",
     "text": [
      "1\n",
      "2\n",
      "3\n"
     ]
    }
   ],
   "source": [
    "# Untuk mengakses nilai dictionary dalam loop, dapat membuat referensi dictionary. Seperti contoh berikut\n",
    "\n",
    "for k in d:\n",
    "    print(d[k])"
   ]
  },
  {
   "cell_type": "code",
   "execution_count": 39,
   "id": "430015bd",
   "metadata": {},
   "outputs": [
    {
     "name": "stdout",
     "output_type": "stream",
     "text": [
      "1\n",
      "2\n",
      "3\n"
     ]
    }
   ],
   "source": [
    "for v in d.values():\n",
    "    print(v)"
   ]
  },
  {
   "cell_type": "markdown",
   "id": "04353de7",
   "metadata": {},
   "source": [
    "### The Range() Function"
   ]
  },
  {
   "cell_type": "code",
   "execution_count": 40,
   "id": "02d41bd7",
   "metadata": {},
   "outputs": [
    {
     "name": "stdout",
     "output_type": "stream",
     "text": [
      "0\n",
      "1\n",
      "3\n",
      "4\n"
     ]
    }
   ],
   "source": [
    "for n in (0, 1, 3, 4):\n",
    "    print(n)"
   ]
  },
  {
   "cell_type": "code",
   "execution_count": 41,
   "id": "767c7c57",
   "metadata": {},
   "outputs": [],
   "source": [
    "# x = range(s)\n",
    "\n",
    "# for n in x:\n",
    "    # print(n)"
   ]
  },
  {
   "cell_type": "markdown",
   "id": "13cf2d15",
   "metadata": {},
   "source": [
    "### Altering for Loop Behavior"
   ]
  },
  {
   "cell_type": "code",
   "execution_count": 42,
   "id": "4379684d",
   "metadata": {},
   "outputs": [
    {
     "name": "stdout",
     "output_type": "stream",
     "text": [
      "foo\n"
     ]
    }
   ],
   "source": [
    "### The Break and Continue Statements\n",
    "\n",
    "for i in [\"foo\", \"bar\", \"baz\", \"qux\"]:\n",
    "    if \"b\" in i:\n",
    "        break\n",
    "    print(i)"
   ]
  },
  {
   "cell_type": "code",
   "execution_count": 43,
   "id": "7efc2033",
   "metadata": {},
   "outputs": [
    {
     "name": "stdout",
     "output_type": "stream",
     "text": [
      "foo\n",
      "qux\n"
     ]
    }
   ],
   "source": [
    "for i in [\"foo\", \"bar\", \"baz\", \"qux\"]:\n",
    "    if \"b\" in i:\n",
    "        continue\n",
    "    print(i)"
   ]
  },
  {
   "cell_type": "markdown",
   "id": "a53ba872",
   "metadata": {},
   "source": [
    "### The else Clause"
   ]
  },
  {
   "cell_type": "code",
   "execution_count": 44,
   "id": "a2e1ef07",
   "metadata": {},
   "outputs": [
    {
     "name": "stdout",
     "output_type": "stream",
     "text": [
      "foo\n",
      "bar\n",
      "baz\n",
      "qux\n",
      "Done.\n"
     ]
    }
   ],
   "source": [
    "for i in [\"foo\", \"bar\", \"baz\", \"qux\"]:\n",
    "    print(i)\n",
    "else:\n",
    "    print(\"Done.\") # Will Execute"
   ]
  },
  {
   "cell_type": "code",
   "execution_count": 45,
   "id": "fe0d9a31",
   "metadata": {},
   "outputs": [
    {
     "name": "stdout",
     "output_type": "stream",
     "text": [
      "foo\n"
     ]
    }
   ],
   "source": [
    "# Klausa else tidak akan dijalankan jika list terhenti dengan pernyataan break:\n",
    "\n",
    "for i in [\"foo\", \"bar\", \"baz\", \"qux\"]:\n",
    "    if i == \"bar\":\n",
    "        break\n",
    "    print(i)\n",
    "else:\n",
    "    print(\"Done.\") # Will Not Execute"
   ]
  },
  {
   "cell_type": "code",
   "execution_count": 48,
   "id": "bfb4b059",
   "metadata": {},
   "outputs": [
    {
     "name": "stdout",
     "output_type": "stream",
     "text": [
      "C\n",
      "Temperaturnya adalah 86 derajat\n"
     ]
    }
   ],
   "source": [
    "# Another Example\n",
    "temp = input(\"Ketikkan temperatur yang ingin dikonversi, eg.45F, 120C: \")\n",
    "degree = int(temp[:-1])\n",
    "i_convertion = temp[-1]\n",
    "\n",
    "print (i_convertion)\n",
    "result = 0\n",
    "\n",
    "if i_convertion == \"C\":\n",
    "    result1 = int(round((9 * degree) / 5 + 32))\n",
    "elif i_convertion == \"F\":\n",
    "    result1 = int(round((degree - 32) * 5 / 9))\n",
    "else:\n",
    "    print(\"Masukan Input yang Benar\")\n",
    "    \n",
    "print(\"Temperaturnya adalah\", result1, \"derajat\")"
   ]
  },
  {
   "cell_type": "code",
   "execution_count": 49,
   "id": "9388b135",
   "metadata": {},
   "outputs": [
    {
     "name": "stdout",
     "output_type": "stream",
     "text": [
      "nice\n",
      "stop\n"
     ]
    }
   ],
   "source": [
    "while True:\n",
    "    msg = input(\"Ketikan Karakter: \").lower()\n",
    "    print(msg)\n",
    "    if msg == \"stop\":\n",
    "        break"
   ]
  }
 ],
 "metadata": {
  "interpreter": {
   "hash": "43194bf3e142f237b021dccc6bba9df80509dee6e40c84762ee22f2f499cdf20"
  },
  "kernelspec": {
   "display_name": "Python 3.10.4 64-bit",
   "language": "python",
   "name": "python3"
  },
  "language_info": {
   "codemirror_mode": {
    "name": "ipython",
    "version": 3
   },
   "file_extension": ".py",
   "mimetype": "text/x-python",
   "name": "python",
   "nbconvert_exporter": "python",
   "pygments_lexer": "ipython3",
   "version": "3.10.4"
  },
  "orig_nbformat": 4
 },
 "nbformat": 4,
 "nbformat_minor": 2
}
