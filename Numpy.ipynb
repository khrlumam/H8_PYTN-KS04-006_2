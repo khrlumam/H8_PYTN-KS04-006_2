{
  "cells": [
    {
      "cell_type": "code",
      "execution_count": 6,
      "metadata": {
        "id": "U-bNqGvARzfo"
      },
      "outputs": [],
      "source": [
        "import numpy as np"
      ]
    },
    {
      "cell_type": "code",
      "execution_count": 7,
      "metadata": {
        "id": "clXHV_05SApE"
      },
      "outputs": [],
      "source": [
        "gpas_as_list = [4.0, 3.2, 3.5]"
      ]
    },
    {
      "cell_type": "code",
      "execution_count": 8,
      "metadata": {
        "id": "ctClyCwtUAAm"
      },
      "outputs": [],
      "source": [
        "gpas_as_list.append(4.0)"
      ]
    },
    {
      "cell_type": "code",
      "execution_count": 9,
      "metadata": {
        "colab": {
          "base_uri": "https://localhost:8080/"
        },
        "id": "SsXNWM3WUGjl",
        "outputId": "f31655b0-68af-40c2-eaa4-673237bfa2f8"
      },
      "outputs": [
        {
          "data": {
            "text/plain": [
              "[4.0, 3.2, 3.5, 4.0]"
            ]
          },
          "execution_count": 9,
          "metadata": {},
          "output_type": "execute_result"
        }
      ],
      "source": [
        "gpas_as_list"
      ]
    },
    {
      "cell_type": "code",
      "execution_count": 10,
      "metadata": {
        "colab": {
          "base_uri": "https://localhost:8080/"
        },
        "id": "IU1UY4adUIBr",
        "outputId": "3b15335e-5a52-49a3-bf64-f60a62177359"
      },
      "outputs": [
        {
          "data": {
            "text/plain": [
              "4.0"
            ]
          },
          "execution_count": 10,
          "metadata": {},
          "output_type": "execute_result"
        }
      ],
      "source": [
        "gpas_as_list.pop(3)"
      ]
    },
    {
      "cell_type": "code",
      "execution_count": 11,
      "metadata": {
        "colab": {
          "base_uri": "https://localhost:8080/"
        },
        "id": "arkjwzjNUM17",
        "outputId": "b5e0873d-096d-47bd-eea2-ebf1e85106ca"
      },
      "outputs": [
        {
          "data": {
            "text/plain": [
              "[4.0, 3.2, 3.5]"
            ]
          },
          "execution_count": 11,
          "metadata": {},
          "output_type": "execute_result"
        }
      ],
      "source": [
        "gpas_as_list"
      ]
    },
    {
      "cell_type": "code",
      "execution_count": 12,
      "metadata": {
        "id": "Qy-S4H82UOzH"
      },
      "outputs": [],
      "source": [
        "gpas_as_list.insert(2,3.76)"
      ]
    },
    {
      "cell_type": "code",
      "execution_count": 13,
      "metadata": {
        "colab": {
          "base_uri": "https://localhost:8080/"
        },
        "id": "D_oX6xQLYiV2",
        "outputId": "27ae877c-f2a0-486d-db11-85542cade28f"
      },
      "outputs": [
        {
          "data": {
            "text/plain": [
              "[4.0, 3.2, 3.76, 3.5]"
            ]
          },
          "execution_count": 13,
          "metadata": {},
          "output_type": "execute_result"
        }
      ],
      "source": [
        "gpas_as_list"
      ]
    },
    {
      "cell_type": "code",
      "execution_count": 14,
      "metadata": {
        "id": "f71a8wvCYjh3"
      },
      "outputs": [],
      "source": [
        "gpas_as_list.insert(1,\"kosong\")"
      ]
    },
    {
      "cell_type": "code",
      "execution_count": 15,
      "metadata": {
        "colab": {
          "base_uri": "https://localhost:8080/"
        },
        "id": "fT08eurLYw2r",
        "outputId": "48b8b126-bb2a-4c9d-ead0-5eaedb84009f"
      },
      "outputs": [
        {
          "data": {
            "text/plain": [
              "[4.0, 'kosong', 3.2, 3.76, 3.5]"
            ]
          },
          "execution_count": 15,
          "metadata": {},
          "output_type": "execute_result"
        }
      ],
      "source": [
        "gpas_as_list"
      ]
    },
    {
      "cell_type": "code",
      "execution_count": 16,
      "metadata": {
        "colab": {
          "base_uri": "https://localhost:8080/",
          "height": 35
        },
        "id": "Nk7gSpHUYyIl",
        "outputId": "6c678727-79f5-44d0-90f1-70e2c3021a19"
      },
      "outputs": [
        {
          "data": {
            "text/plain": [
              "'kosong'"
            ]
          },
          "execution_count": 16,
          "metadata": {},
          "output_type": "execute_result"
        }
      ],
      "source": [
        "gpas_as_list.pop(1)"
      ]
    },
    {
      "cell_type": "code",
      "execution_count": 17,
      "metadata": {
        "colab": {
          "base_uri": "https://localhost:8080/"
        },
        "id": "aBP2nl6GY06z",
        "outputId": "fc4e1cb6-0e90-4255-bfb1-d1aa1027157c"
      },
      "outputs": [
        {
          "data": {
            "text/plain": [
              "[4.0, 3.2, 3.76, 3.5]"
            ]
          },
          "execution_count": 17,
          "metadata": {},
          "output_type": "execute_result"
        }
      ],
      "source": [
        "gpas_as_list"
      ]
    },
    {
      "cell_type": "markdown",
      "metadata": {
        "id": "UgK4GQBcY6UU"
      },
      "source": [
        "**Numppy Array**"
      ]
    },
    {
      "cell_type": "code",
      "execution_count": 18,
      "metadata": {
        "colab": {
          "base_uri": "https://localhost:8080/"
        },
        "id": "Nk4SIZ_PY9NG",
        "outputId": "3e2747fe-20eb-4863-dbd3-9403772013cf"
      },
      "outputs": [
        {
          "data": {
            "text/plain": [
              "array([4.  , 3.2 , 3.76, 3.5 ])"
            ]
          },
          "execution_count": 18,
          "metadata": {},
          "output_type": "execute_result"
        }
      ],
      "source": [
        "gpas = np.array(gpas_as_list)\n",
        "gpas"
      ]
    },
    {
      "cell_type": "markdown",
      "metadata": {
        "id": "_xt0k-paZiSS"
      },
      "source": [
        "**Study Log**\n",
        "\n",
        "membuat dumy array sebanyak 100"
      ]
    },
    {
      "cell_type": "code",
      "execution_count": 19,
      "metadata": {
        "colab": {
          "base_uri": "https://localhost:8080/"
        },
        "id": "Spyr6ofrZkzJ",
        "outputId": "b0f1e48f-b5a1-44c6-83b1-562d176d6d86"
      },
      "outputs": [
        {
          "data": {
            "text/plain": [
              "array([0., 0., 0., 0., 0., 0., 0., 0., 0., 0., 0., 0., 0., 0., 0., 0., 0.,\n",
              "       0., 0., 0., 0., 0., 0., 0., 0., 0., 0., 0., 0., 0., 0., 0., 0., 0.,\n",
              "       0., 0., 0., 0., 0., 0., 0., 0., 0., 0., 0., 0., 0., 0., 0., 0., 0.,\n",
              "       0., 0., 0., 0., 0., 0., 0., 0., 0., 0., 0., 0., 0., 0., 0., 0., 0.,\n",
              "       0., 0., 0., 0., 0., 0., 0., 0., 0., 0., 0., 0., 0., 0., 0., 0., 0.,\n",
              "       0., 0., 0., 0., 0., 0., 0., 0., 0., 0., 0., 0., 0., 0., 0.])"
            ]
          },
          "execution_count": 19,
          "metadata": {},
          "output_type": "execute_result"
        }
      ],
      "source": [
        "study_minutes = np.zeros(100)\n",
        "study_minutes"
      ]
    },
    {
      "cell_type": "code",
      "execution_count": 20,
      "metadata": {
        "colab": {
          "base_uri": "https://localhost:8080/"
        },
        "id": "Y01KI8srZoiT",
        "outputId": "c3745eac-049d-478d-f70d-2ac9fe2b92ae"
      },
      "outputs": [
        {
          "name": "stdout",
          "output_type": "stream",
          "text": [
            "Variable        Type       Data/Info\n",
            "------------------------------------\n",
            "gpas            ndarray    4: 4 elems, type `float64`, 32 bytes\n",
            "gpas_as_list    list       n=4\n",
            "np              module     <module 'numpy' from 'C:\\<...>ges\\\\numpy\\\\__init__.py'>\n",
            "os              module     <module 'os' from 'C:\\\\Us<...>\\\\Python310\\\\lib\\\\os.py'>\n",
            "study_minutes   ndarray    100: 100 elems, type `float64`, 800 bytes\n",
            "sys             module     <module 'sys' (built-in)>\n"
          ]
        }
      ],
      "source": [
        "%whos"
      ]
    },
    {
      "cell_type": "markdown",
      "metadata": {
        "id": "vevld-SZaMF9"
      },
      "source": [
        "Mengubah tipe data float menjadi int yang membuat ukuran bytes nya berkurang dari 800 menjadi 200"
      ]
    },
    {
      "cell_type": "code",
      "execution_count": 21,
      "metadata": {
        "colab": {
          "base_uri": "https://localhost:8080/"
        },
        "id": "xCXyhrllaENt",
        "outputId": "863e5581-7137-469e-cbed-5efc6e759df2"
      },
      "outputs": [
        {
          "data": {
            "text/plain": [
              "array([0, 0, 0, 0, 0, 0, 0, 0, 0, 0, 0, 0, 0, 0, 0, 0, 0, 0, 0, 0, 0, 0,\n",
              "       0, 0, 0, 0, 0, 0, 0, 0, 0, 0, 0, 0, 0, 0, 0, 0, 0, 0, 0, 0, 0, 0,\n",
              "       0, 0, 0, 0, 0, 0, 0, 0, 0, 0, 0, 0, 0, 0, 0, 0, 0, 0, 0, 0, 0, 0,\n",
              "       0, 0, 0, 0, 0, 0, 0, 0, 0, 0, 0, 0, 0, 0, 0, 0, 0, 0, 0, 0, 0, 0,\n",
              "       0, 0, 0, 0, 0, 0, 0, 0, 0, 0, 0, 0], dtype=uint16)"
            ]
          },
          "execution_count": 21,
          "metadata": {},
          "output_type": "execute_result"
        }
      ],
      "source": [
        "study_minutes = np.zeros(100, np.uint16)\n",
        "study_minutes"
      ]
    },
    {
      "cell_type": "code",
      "execution_count": 22,
      "metadata": {
        "colab": {
          "base_uri": "https://localhost:8080/"
        },
        "id": "CO04ZrYYaI8p",
        "outputId": "f3da48c6-9657-48cc-b329-ad80d2ea86b8"
      },
      "outputs": [
        {
          "name": "stdout",
          "output_type": "stream",
          "text": [
            "Variable        Type       Data/Info\n",
            "------------------------------------\n",
            "gpas            ndarray    4: 4 elems, type `float64`, 32 bytes\n",
            "gpas_as_list    list       n=4\n",
            "np              module     <module 'numpy' from 'C:\\<...>ges\\\\numpy\\\\__init__.py'>\n",
            "os              module     <module 'os' from 'C:\\\\Us<...>\\\\Python310\\\\lib\\\\os.py'>\n",
            "study_minutes   ndarray    100: 100 elems, type `uint16`, 200 bytes\n",
            "sys             module     <module 'sys' (built-in)>\n"
          ]
        }
      ],
      "source": [
        "%whos"
      ]
    },
    {
      "cell_type": "markdown",
      "metadata": {
        "id": "1z2BPbocbG5N"
      },
      "source": [
        "**Array Multi dimensi**"
      ]
    },
    {
      "cell_type": "code",
      "execution_count": 23,
      "metadata": {
        "colab": {
          "base_uri": "https://localhost:8080/"
        },
        "id": "62SUrEmmbJvY",
        "outputId": "5315c830-ecc6-478a-9a03-cd1dc3bc3613"
      },
      "outputs": [
        {
          "data": {
            "text/plain": [
              "array([[4.  , 3.3 , 3.5 , 4.  ],\n",
              "       [3.96, 3.92, 4.  , 4.  ],\n",
              "       [3.2 , 3.8 , 4.  , 4.  ]], dtype=float16)"
            ]
          },
          "execution_count": 23,
          "metadata": {},
          "output_type": "execute_result"
        }
      ],
      "source": [
        "students_gpas = np.array([\n",
        "                           [4.0, 3.3, 3.5, 4.0],\n",
        "                           [3.96, 3.92, 4.0, 4.0],\n",
        "                           [3.2, 3.8, 4.0, 4.0]\n",
        "], np.float16)\n",
        "students_gpas"
      ]
    },
    {
      "cell_type": "markdown",
      "metadata": {
        "id": "G1nN7SuVb8fG"
      },
      "source": [
        "melihat dimensi dan elemen array"
      ]
    },
    {
      "cell_type": "code",
      "execution_count": 24,
      "metadata": {
        "colab": {
          "base_uri": "https://localhost:8080/"
        },
        "id": "NW5QYtdYbrNa",
        "outputId": "0862c4a8-2c96-46cd-cffa-ac61673ffea2"
      },
      "outputs": [
        {
          "data": {
            "text/plain": [
              "2"
            ]
          },
          "execution_count": 24,
          "metadata": {},
          "output_type": "execute_result"
        }
      ],
      "source": [
        "students_gpas.ndim"
      ]
    },
    {
      "cell_type": "code",
      "execution_count": 25,
      "metadata": {
        "colab": {
          "base_uri": "https://localhost:8080/"
        },
        "id": "BsVFBduxb5xo",
        "outputId": "4a2adbb0-1b10-48cd-876e-8d67ea104033"
      },
      "outputs": [
        {
          "data": {
            "text/plain": [
              "(3, 4)"
            ]
          },
          "execution_count": 25,
          "metadata": {},
          "output_type": "execute_result"
        }
      ],
      "source": [
        "students_gpas.shape"
      ]
    },
    {
      "cell_type": "markdown",
      "metadata": {
        "id": "EJMEiWaJcJ0L"
      },
      "source": [
        "terdapat tiga array dan isinya masing-masing memiliki 4 elemen"
      ]
    },
    {
      "cell_type": "code",
      "execution_count": 26,
      "metadata": {
        "colab": {
          "base_uri": "https://localhost:8080/"
        },
        "id": "8zlNYvZrcDvl",
        "outputId": "3dd27fe1-9b1c-474c-f625-548876a0823f"
      },
      "outputs": [
        {
          "data": {
            "text/plain": [
              "array([3.2, 3.8, 4. , 4. ], dtype=float16)"
            ]
          },
          "execution_count": 26,
          "metadata": {},
          "output_type": "execute_result"
        }
      ],
      "source": [
        "students_gpas[2]"
      ]
    },
    {
      "cell_type": "code",
      "execution_count": 27,
      "metadata": {
        "colab": {
          "base_uri": "https://localhost:8080/"
        },
        "id": "Jhz8O0t3cYkf",
        "outputId": "d7bf60c4-09a7-4b8b-96fb-5bc86bb486f0"
      },
      "outputs": [
        {
          "data": {
            "text/plain": [
              "4.0"
            ]
          },
          "execution_count": 27,
          "metadata": {},
          "output_type": "execute_result"
        }
      ],
      "source": [
        "students_gpas[2][3]"
      ]
    },
    {
      "cell_type": "markdown",
      "metadata": {
        "id": "jquv3frkcwv8"
      },
      "source": [
        "**Study Log MultiDimensi**"
      ]
    },
    {
      "cell_type": "code",
      "execution_count": 28,
      "metadata": {
        "colab": {
          "base_uri": "https://localhost:8080/"
        },
        "id": "8BRJMFmAc1DG",
        "outputId": "6f77b540-ad7b-4e5d-9744-8a699e44dcb9"
      },
      "outputs": [
        {
          "data": {
            "text/plain": [
              "(2, 100)"
            ]
          },
          "execution_count": 28,
          "metadata": {},
          "output_type": "execute_result"
        }
      ],
      "source": [
        "study_minutes = np.array([\n",
        "                          study_minutes,\n",
        "                          np.zeros(100, np.uint16)\n",
        "])\n",
        "study_minutes.shape"
      ]
    },
    {
      "cell_type": "code",
      "execution_count": 29,
      "metadata": {
        "colab": {
          "base_uri": "https://localhost:8080/"
        },
        "id": "J8sVuWLLdQuB",
        "outputId": "d6aeeaaa-1acc-426b-e3f3-443634b471e0"
      },
      "outputs": [
        {
          "data": {
            "text/plain": [
              "array([[ 0,  0,  0,  0,  0,  0,  0,  0,  0,  0,  0,  0,  0,  0,  0,  0,\n",
              "         0,  0,  0,  0,  0,  0,  0,  0,  0,  0,  0,  0,  0,  0,  0,  0,\n",
              "         0,  0,  0,  0,  0,  0,  0,  0,  0,  0,  0,  0,  0,  0,  0,  0,\n",
              "         0,  0,  0,  0,  0,  0,  0,  0,  0,  0,  0,  0,  0,  0,  0,  0,\n",
              "         0,  0,  0,  0,  0,  0,  0,  0,  0,  0,  0,  0,  0,  0,  0,  0,\n",
              "         0,  0,  0,  0,  0,  0,  0,  0,  0,  0,  0,  0,  0,  0,  0,  0,\n",
              "         0,  0,  0,  0],\n",
              "       [60,  0,  0,  0,  0,  0,  0,  0,  0,  0,  0,  0,  0,  0,  0,  0,\n",
              "         0,  0,  0,  0,  0,  0,  0,  0,  0,  0,  0,  0,  0,  0,  0,  0,\n",
              "         0,  0,  0,  0,  0,  0,  0,  0,  0,  0,  0,  0,  0,  0,  0,  0,\n",
              "         0,  0,  0,  0,  0,  0,  0,  0,  0,  0,  0,  0,  0,  0,  0,  0,\n",
              "         0,  0,  0,  0,  0,  0,  0,  0,  0,  0,  0,  0,  0,  0,  0,  0,\n",
              "         0,  0,  0,  0,  0,  0,  0,  0,  0,  0,  0,  0,  0,  0,  0,  0,\n",
              "         0,  0,  0,  0]], dtype=uint16)"
            ]
          },
          "execution_count": 29,
          "metadata": {},
          "output_type": "execute_result"
        }
      ],
      "source": [
        "study_minutes[1][0] =  60\n",
        "study_minutes"
      ]
    },
    {
      "cell_type": "code",
      "execution_count": 30,
      "metadata": {
        "colab": {
          "base_uri": "https://localhost:8080/"
        },
        "id": "-tp05gTsdX20",
        "outputId": "05a936bf-c01e-4266-f599-e73b3c04f103"
      },
      "outputs": [
        {
          "data": {
            "text/plain": [
              "array([132, 122, 128,  44, 136, 129, 101,  95,  50, 132, 151,  64, 104,\n",
              "       175, 117, 146, 139, 129, 133, 176,  98, 160, 179,  99,  82, 142,\n",
              "        31, 106, 117,  56,  98,  67, 121, 159,  81, 170,  31,  50,  49,\n",
              "        87, 179,  51, 116, 177, 118,  78, 171, 117,  88, 123, 102,  44,\n",
              "        79,  31, 108,  80,  59, 137,  84,  93, 155, 160,  67,  80, 166,\n",
              "       164,  70,  50, 102, 113,  47, 131, 161, 118,  82,  89,  81,  43,\n",
              "        81,  38, 119,  52,  82,  31, 159,  57, 113,  71, 121, 140,  91,\n",
              "        70,  37, 106,  64, 127, 110,  58,  93,  79], dtype=uint16)"
            ]
          },
          "execution_count": 30,
          "metadata": {},
          "output_type": "execute_result"
        }
      ],
      "source": [
        "rand =  np.random.RandomState(42)\n",
        "fake_log =  rand.randint(30,180, size = 100, dtype=np.uint16)\n",
        "fake_log"
      ]
    },
    {
      "cell_type": "code",
      "execution_count": 31,
      "metadata": {
        "colab": {
          "base_uri": "https://localhost:8080/"
        },
        "id": "9Q4XVxeod37L",
        "outputId": "1ed66d5a-ab79-4b89-b71d-4137d54ca720"
      },
      "outputs": [
        {
          "data": {
            "text/plain": [
              "array([44, 50], dtype=uint16)"
            ]
          },
          "execution_count": 31,
          "metadata": {},
          "output_type": "execute_result"
        }
      ],
      "source": [
        "fake_log[[3,8]]"
      ]
    },
    {
      "cell_type": "code",
      "execution_count": 32,
      "metadata": {
        "colab": {
          "base_uri": "https://localhost:8080/"
        },
        "id": "2_Izwr1Rec1I",
        "outputId": "98dcc789-ad46-4a54-c323-100dab14b816"
      },
      "outputs": [
        {
          "data": {
            "text/plain": [
              "array([[ 44,  50],\n",
              "       [139,  82]], dtype=uint16)"
            ]
          },
          "execution_count": 32,
          "metadata": {},
          "output_type": "execute_result"
        }
      ],
      "source": [
        "index = np.array([\n",
        "                  [3,8],\n",
        "                  [16,24]\n",
        "])\n",
        "\n",
        "fake_log[index]"
      ]
    },
    {
      "cell_type": "code",
      "execution_count": 33,
      "metadata": {
        "colab": {
          "base_uri": "https://localhost:8080/"
        },
        "id": "PC7gar_LfCZ5",
        "outputId": "33fe6c50-7b6a-4858-dc9e-992b52c145cc"
      },
      "outputs": [
        {
          "data": {
            "text/plain": [
              "array([  0,   0,   0,   0,   0,   0,   0,   0,   0,   0,   0,   0,   0,\n",
              "         0,   0,   0,   0,   0,   0,   0,   0,   0,   0,   0,   0,   0,\n",
              "         0,   0,   0,   0,   0,   0,   0,   0,   0,   0,   0,   0,   0,\n",
              "         0,   0,   0,   0,   0,   0,   0,   0,   0,   0,   0,   0,   0,\n",
              "         0,   0,   0,   0,   0,   0,   0,   0,   0,   0,   0,   0,   0,\n",
              "         0,   0,   0,   0,   0,   0,   0,   0,   0,   0,   0,   0,   0,\n",
              "         0,   0,   0,   0,   0,   0,   0,   0,   0,   0,   0,   0,   0,\n",
              "         0,   0,   0,   0,   0,   0,   0,   0,   0,  60,   0,   0,   0,\n",
              "         0,   0,   0,   0,   0,   0,   0,   0,   0,   0,   0,   0,   0,\n",
              "         0,   0,   0,   0,   0,   0,   0,   0,   0,   0,   0,   0,   0,\n",
              "         0,   0,   0,   0,   0,   0,   0,   0,   0,   0,   0,   0,   0,\n",
              "         0,   0,   0,   0,   0,   0,   0,   0,   0,   0,   0,   0,   0,\n",
              "         0,   0,   0,   0,   0,   0,   0,   0,   0,   0,   0,   0,   0,\n",
              "         0,   0,   0,   0,   0,   0,   0,   0,   0,   0,   0,   0,   0,\n",
              "         0,   0,   0,   0,   0,   0,   0,   0,   0,   0,   0,   0,   0,\n",
              "         0,   0,   0,   0,   0, 132, 122, 128,  44, 136, 129, 101,  95,\n",
              "        50, 132, 151,  64, 104, 175, 117, 146, 139, 129, 133, 176,  98,\n",
              "       160, 179,  99,  82, 142,  31, 106, 117,  56,  98,  67, 121, 159,\n",
              "        81, 170,  31,  50,  49,  87, 179,  51, 116, 177, 118,  78, 171,\n",
              "       117,  88, 123, 102,  44,  79,  31, 108,  80,  59, 137,  84,  93,\n",
              "       155, 160,  67,  80, 166, 164,  70,  50, 102, 113,  47, 131, 161,\n",
              "       118,  82,  89,  81,  43,  81,  38, 119,  52,  82,  31, 159,  57,\n",
              "       113,  71, 121, 140,  91,  70,  37, 106,  64, 127, 110,  58,  93,\n",
              "        79], dtype=uint16)"
            ]
          },
          "execution_count": 33,
          "metadata": {},
          "output_type": "execute_result"
        }
      ],
      "source": [
        "study_minutes = np.append(\n",
        "                          study_minutes,\n",
        "                          [fake_log]\n",
        ")\n",
        "study_minutes"
      ]
    },
    {
      "cell_type": "code",
      "execution_count": 34,
      "metadata": {},
      "outputs": [
        {
          "data": {
            "text/plain": [
              "array([132, 122, 128,  44, 136, 129, 101,  95,  50, 132, 151,  64, 104,\n",
              "       175, 117, 146, 139, 129, 133, 176,  98, 160, 179,  99,  82, 142,\n",
              "        31, 106, 117,  56,  98,  67, 121, 159,  81, 170,  31,  50,  49,\n",
              "        87, 179,  51, 116, 177, 118,  78, 171, 117,  88, 123, 102,  44,\n",
              "        79,  31, 108,  80,  59, 137,  84,  93, 155, 160,  67,  80, 166,\n",
              "       164,  70,  50, 102, 113,  47, 131, 161, 118,  82,  89,  81,  43,\n",
              "        81,  38, 119,  52,  82,  31, 159,  57, 113,  71, 121, 140,  91,\n",
              "        70,  37, 106,  64, 127, 110,  58,  93,  79], dtype=uint16)"
            ]
          },
          "execution_count": 34,
          "metadata": {},
          "output_type": "execute_result"
        }
      ],
      "source": [
        "rand =  np.random.RandomState(42)\n",
        "fake_logs =  rand.randint(30,180, size = 100, dtype=np.uint16)\n",
        "fake_logs"
      ]
    }
  ],
  "metadata": {
    "colab": {
      "name": "Numpy.ipynb",
      "provenance": []
    },
    "kernelspec": {
      "display_name": "Python 3",
      "name": "python3"
    },
    "language_info": {
      "codemirror_mode": {
        "name": "ipython",
        "version": 3
      },
      "file_extension": ".py",
      "mimetype": "text/x-python",
      "name": "python",
      "nbconvert_exporter": "python",
      "pygments_lexer": "ipython3",
      "version": "3.10.2"
    }
  },
  "nbformat": 4,
  "nbformat_minor": 0
}
